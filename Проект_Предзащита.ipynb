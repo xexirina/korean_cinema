{
 "cells": [
  {
   "cell_type": "markdown",
   "metadata": {
    "id": "bGbzPSqTBGVJ"
   },
   "source": [
    "## **Корейские кинокартины на международных кинофестивалях 2000-2025 гг. Список награждений**\n",
    "\n",
    "**Данные содержат следующие признаки:**\n",
    "\n",
    "* `연도` - Год проведения кинофестиваля\n",
    "* `영화제` - Название кинофестиваля\n",
    "* `장르` - Жанр фильма\n",
    "* `출품작` - Название фильма\n",
    "* `감독` - Режиссер\n",
    "* `출품분야` - Номинация\n",
    "* `수상내역` - Награда\n",
    "* `수상인` - Награжденный"
   ]
  },
  {
   "cell_type": "code",
   "execution_count": 442,
   "metadata": {
    "id": "oElAQmwv9JTC"
   },
   "outputs": [],
   "source": [
    "import pandas as pd\n",
    "import numpy as np\n",
    "import matplotlib.pyplot as plt\n",
    "import seaborn as sns"
   ]
  },
  {
   "cell_type": "code",
   "execution_count": 444,
   "metadata": {},
   "outputs": [],
   "source": [
    "import warnings\n",
    "warnings.filterwarnings('ignore')"
   ]
  },
  {
   "cell_type": "code",
   "execution_count": 446,
   "metadata": {
    "colab": {
     "base_uri": "https://localhost:8080/",
     "height": 419
    },
    "id": "mX3EvmJY9L-9",
    "outputId": "44e52902-70c0-4f1d-9629-a03baf7b8aca"
   },
   "outputs": [
    {
     "data": {
      "text/html": [
       "<div>\n",
       "<style scoped>\n",
       "    .dataframe tbody tr th:only-of-type {\n",
       "        vertical-align: middle;\n",
       "    }\n",
       "\n",
       "    .dataframe tbody tr th {\n",
       "        vertical-align: top;\n",
       "    }\n",
       "\n",
       "    .dataframe thead th {\n",
       "        text-align: right;\n",
       "    }\n",
       "</style>\n",
       "<table border=\"1\" class=\"dataframe\">\n",
       "  <thead>\n",
       "    <tr style=\"text-align: right;\">\n",
       "      <th></th>\n",
       "      <th>연도</th>\n",
       "      <th>영화제</th>\n",
       "      <th>장르</th>\n",
       "      <th>출품작</th>\n",
       "      <th>감독</th>\n",
       "      <th>출품분야</th>\n",
       "      <th>수상내역</th>\n",
       "      <th>수상인</th>\n",
       "    </tr>\n",
       "  </thead>\n",
       "  <tbody>\n",
       "    <tr>\n",
       "      <th>0</th>\n",
       "      <td>2005</td>\n",
       "      <td>카이로 국제영화제</td>\n",
       "      <td>일반(종합)</td>\n",
       "      <td>제니, 주노</td>\n",
       "      <td>김호준</td>\n",
       "      <td>NaN</td>\n",
       "      <td>NaN</td>\n",
       "      <td>NaN</td>\n",
       "    </tr>\n",
       "    <tr>\n",
       "      <th>1</th>\n",
       "      <td>2005</td>\n",
       "      <td>카이로 국제영화제</td>\n",
       "      <td>일반(종합)</td>\n",
       "      <td>댄서의 순정</td>\n",
       "      <td>박영훈</td>\n",
       "      <td>NaN</td>\n",
       "      <td>NaN</td>\n",
       "      <td>NaN</td>\n",
       "    </tr>\n",
       "    <tr>\n",
       "      <th>2</th>\n",
       "      <td>2005</td>\n",
       "      <td>케이프타운 세계 영화제</td>\n",
       "      <td>일반(종합)</td>\n",
       "      <td>올드보이</td>\n",
       "      <td>박찬욱</td>\n",
       "      <td>A Disparate World</td>\n",
       "      <td>NaN</td>\n",
       "      <td>NaN</td>\n",
       "    </tr>\n",
       "    <tr>\n",
       "      <th>3</th>\n",
       "      <td>2005</td>\n",
       "      <td>케이프타운 세계 영화제</td>\n",
       "      <td>일반(종합)</td>\n",
       "      <td>사마리아</td>\n",
       "      <td>김기덕</td>\n",
       "      <td>A Disparate World</td>\n",
       "      <td>NaN</td>\n",
       "      <td>NaN</td>\n",
       "    </tr>\n",
       "    <tr>\n",
       "      <th>4</th>\n",
       "      <td>2005</td>\n",
       "      <td>케이프타운 세계 영화제</td>\n",
       "      <td>일반(종합)</td>\n",
       "      <td>빈집</td>\n",
       "      <td>김기덕</td>\n",
       "      <td>A Disparate World</td>\n",
       "      <td>NaN</td>\n",
       "      <td>NaN</td>\n",
       "    </tr>\n",
       "    <tr>\n",
       "      <th>...</th>\n",
       "      <td>...</td>\n",
       "      <td>...</td>\n",
       "      <td>...</td>\n",
       "      <td>...</td>\n",
       "      <td>...</td>\n",
       "      <td>...</td>\n",
       "      <td>...</td>\n",
       "      <td>...</td>\n",
       "    </tr>\n",
       "    <tr>\n",
       "      <th>37753</th>\n",
       "      <td>2024</td>\n",
       "      <td>ONE Country ONE 국제 영화제</td>\n",
       "      <td>일반(종합)</td>\n",
       "      <td>공작새</td>\n",
       "      <td>변성빈</td>\n",
       "      <td>NaN</td>\n",
       "      <td>NaN</td>\n",
       "      <td>NaN</td>\n",
       "    </tr>\n",
       "    <tr>\n",
       "      <th>37754</th>\n",
       "      <td>2024</td>\n",
       "      <td>네팔 국제영화제</td>\n",
       "      <td>일반(종합)</td>\n",
       "      <td>공작새</td>\n",
       "      <td>변성빈</td>\n",
       "      <td>NaN</td>\n",
       "      <td>NaN</td>\n",
       "      <td>NaN</td>\n",
       "    </tr>\n",
       "    <tr>\n",
       "      <th>37755</th>\n",
       "      <td>2024</td>\n",
       "      <td>머내마을영화제</td>\n",
       "      <td>일반(종합)</td>\n",
       "      <td>연필과 색종이</td>\n",
       "      <td>NaN</td>\n",
       "      <td>NaN</td>\n",
       "      <td>NaN</td>\n",
       "      <td>NaN</td>\n",
       "    </tr>\n",
       "    <tr>\n",
       "      <th>37756</th>\n",
       "      <td>2024</td>\n",
       "      <td>Fairy Tales 퀴어영화제</td>\n",
       "      <td>일반(종합)</td>\n",
       "      <td>공작새</td>\n",
       "      <td>변성빈</td>\n",
       "      <td>NaN</td>\n",
       "      <td>NaN</td>\n",
       "      <td>NaN</td>\n",
       "    </tr>\n",
       "    <tr>\n",
       "      <th>37757</th>\n",
       "      <td>2024</td>\n",
       "      <td>시애틀영화제</td>\n",
       "      <td>일반(종합)</td>\n",
       "      <td>너머</td>\n",
       "      <td>정호종</td>\n",
       "      <td>디지털 페스티벌</td>\n",
       "      <td>NaN</td>\n",
       "      <td>NaN</td>\n",
       "    </tr>\n",
       "  </tbody>\n",
       "</table>\n",
       "<p>37758 rows × 8 columns</p>\n",
       "</div>"
      ],
      "text/plain": [
       "         연도                     영화제      장르      출품작   감독               출품분야  \\\n",
       "0      2005               카이로 국제영화제  일반(종합)   제니, 주노  김호준                NaN   \n",
       "1      2005               카이로 국제영화제  일반(종합)   댄서의 순정  박영훈                NaN   \n",
       "2      2005            케이프타운 세계 영화제  일반(종합)     올드보이  박찬욱  A Disparate World   \n",
       "3      2005            케이프타운 세계 영화제  일반(종합)     사마리아  김기덕  A Disparate World   \n",
       "4      2005            케이프타운 세계 영화제  일반(종합)       빈집  김기덕  A Disparate World   \n",
       "...     ...                     ...     ...      ...  ...                ...   \n",
       "37753  2024  ONE Country ONE 국제 영화제  일반(종합)      공작새  변성빈                NaN   \n",
       "37754  2024                네팔 국제영화제  일반(종합)      공작새  변성빈                NaN   \n",
       "37755  2024                 머내마을영화제  일반(종합)  연필과 색종이  NaN                NaN   \n",
       "37756  2024       Fairy Tales 퀴어영화제  일반(종합)      공작새  변성빈                NaN   \n",
       "37757  2024                  시애틀영화제  일반(종합)       너머  정호종           디지털 페스티벌   \n",
       "\n",
       "      수상내역  수상인  \n",
       "0      NaN  NaN  \n",
       "1      NaN  NaN  \n",
       "2      NaN  NaN  \n",
       "3      NaN  NaN  \n",
       "4      NaN  NaN  \n",
       "...    ...  ...  \n",
       "37753  NaN  NaN  \n",
       "37754  NaN  NaN  \n",
       "37755  NaN  NaN  \n",
       "37756  NaN  NaN  \n",
       "37757  NaN  NaN  \n",
       "\n",
       "[37758 rows x 8 columns]"
      ]
     },
     "execution_count": 446,
     "metadata": {},
     "output_type": "execute_result"
    }
   ],
   "source": [
    "raw_data = pd.read_csv('https://raw.githubusercontent.com/xexirina/korean_cinema/refs/heads/main/korean_cinema_awards.csv')\n",
    "raw_data"
   ]
  },
  {
   "cell_type": "markdown",
   "metadata": {
    "id": "hamZDY-jBZGM"
   },
   "source": [
    "**Для удобства изменим названия колонок на их эквивалетны на английском языке**\n",
    "* `Year` - Год проведения кинофестиваля\n",
    "* `Fest Name` - Название кинофестиваля\n",
    "* `Genre` - Жанр фильма\n",
    "* `Film` - Название фильма\n",
    "* `Director` - Режиссер\n",
    "* `Nomination` - Номинация\n",
    "* `Award` - Награда\n",
    "* `Winner` - Награжденный\n",
    "\n",
    "  \n",
    "Таким образом, наш датасет теперь выглядит следующим образом:"
   ]
  },
  {
   "cell_type": "code",
   "execution_count": 448,
   "metadata": {
    "colab": {
     "base_uri": "https://localhost:8080/",
     "height": 204
    },
    "id": "mTvGg_qVBZvi",
    "outputId": "96f23830-11f0-4cc4-eb34-f1b783343bb7"
   },
   "outputs": [
    {
     "data": {
      "text/html": [
       "<div>\n",
       "<style scoped>\n",
       "    .dataframe tbody tr th:only-of-type {\n",
       "        vertical-align: middle;\n",
       "    }\n",
       "\n",
       "    .dataframe tbody tr th {\n",
       "        vertical-align: top;\n",
       "    }\n",
       "\n",
       "    .dataframe thead th {\n",
       "        text-align: right;\n",
       "    }\n",
       "</style>\n",
       "<table border=\"1\" class=\"dataframe\">\n",
       "  <thead>\n",
       "    <tr style=\"text-align: right;\">\n",
       "      <th></th>\n",
       "      <th>Year</th>\n",
       "      <th>Fest Name</th>\n",
       "      <th>Genre</th>\n",
       "      <th>Film</th>\n",
       "      <th>Director</th>\n",
       "      <th>Nomination</th>\n",
       "      <th>Award</th>\n",
       "      <th>Winner</th>\n",
       "    </tr>\n",
       "  </thead>\n",
       "  <tbody>\n",
       "    <tr>\n",
       "      <th>0</th>\n",
       "      <td>2005</td>\n",
       "      <td>카이로 국제영화제</td>\n",
       "      <td>일반(종합)</td>\n",
       "      <td>제니, 주노</td>\n",
       "      <td>김호준</td>\n",
       "      <td>NaN</td>\n",
       "      <td>NaN</td>\n",
       "      <td>NaN</td>\n",
       "    </tr>\n",
       "    <tr>\n",
       "      <th>1</th>\n",
       "      <td>2005</td>\n",
       "      <td>카이로 국제영화제</td>\n",
       "      <td>일반(종합)</td>\n",
       "      <td>댄서의 순정</td>\n",
       "      <td>박영훈</td>\n",
       "      <td>NaN</td>\n",
       "      <td>NaN</td>\n",
       "      <td>NaN</td>\n",
       "    </tr>\n",
       "    <tr>\n",
       "      <th>2</th>\n",
       "      <td>2005</td>\n",
       "      <td>케이프타운 세계 영화제</td>\n",
       "      <td>일반(종합)</td>\n",
       "      <td>올드보이</td>\n",
       "      <td>박찬욱</td>\n",
       "      <td>A Disparate World</td>\n",
       "      <td>NaN</td>\n",
       "      <td>NaN</td>\n",
       "    </tr>\n",
       "    <tr>\n",
       "      <th>3</th>\n",
       "      <td>2005</td>\n",
       "      <td>케이프타운 세계 영화제</td>\n",
       "      <td>일반(종합)</td>\n",
       "      <td>사마리아</td>\n",
       "      <td>김기덕</td>\n",
       "      <td>A Disparate World</td>\n",
       "      <td>NaN</td>\n",
       "      <td>NaN</td>\n",
       "    </tr>\n",
       "    <tr>\n",
       "      <th>4</th>\n",
       "      <td>2005</td>\n",
       "      <td>케이프타운 세계 영화제</td>\n",
       "      <td>일반(종합)</td>\n",
       "      <td>빈집</td>\n",
       "      <td>김기덕</td>\n",
       "      <td>A Disparate World</td>\n",
       "      <td>NaN</td>\n",
       "      <td>NaN</td>\n",
       "    </tr>\n",
       "  </tbody>\n",
       "</table>\n",
       "</div>"
      ],
      "text/plain": [
       "   Year     Fest Name   Genre    Film Director         Nomination Award Winner\n",
       "0  2005     카이로 국제영화제  일반(종합)  제니, 주노      김호준                NaN   NaN    NaN\n",
       "1  2005     카이로 국제영화제  일반(종합)  댄서의 순정      박영훈                NaN   NaN    NaN\n",
       "2  2005  케이프타운 세계 영화제  일반(종합)    올드보이      박찬욱  A Disparate World   NaN    NaN\n",
       "3  2005  케이프타운 세계 영화제  일반(종합)    사마리아      김기덕  A Disparate World   NaN    NaN\n",
       "4  2005  케이프타운 세계 영화제  일반(종합)      빈집      김기덕  A Disparate World   NaN    NaN"
      ]
     },
     "execution_count": 448,
     "metadata": {},
     "output_type": "execute_result"
    }
   ],
   "source": [
    "raw_data.columns = ['Year', 'Fest Name', 'Genre', 'Film', 'Director', 'Nomination', 'Award', 'Winner']\n",
    "raw_data.head()"
   ]
  },
  {
   "cell_type": "code",
   "execution_count": 449,
   "metadata": {
    "colab": {
     "base_uri": "https://localhost:8080/"
    },
    "id": "18EChlmnBcuk",
    "outputId": "55be2cf9-590f-4d24-f631-845c93e9c07f"
   },
   "outputs": [
    {
     "data": {
      "text/plain": [
       "array([2005, 2004, 2003, 2002, 2001, 2000, 2010, 2009, 2008, 2007, 2006,\n",
       "       2013, 2012, 2011, 2015, 2014, 2016, 2017, 2018, 2019, 2021, 2020,\n",
       "       2023, 2022, 2025, 2024])"
      ]
     },
     "execution_count": 449,
     "metadata": {},
     "output_type": "execute_result"
    }
   ],
   "source": [
    "raw_data['Year'].unique() # проверим что в датасете есть данные за все года (2000-2025 гг.)"
   ]
  },
  {
   "cell_type": "markdown",
   "metadata": {
    "id": "ZIBA_BAnBnvc"
   },
   "source": [
    "## **Датасет содержит следующие типы переменных:**\n",
    "\n",
    "* Год проведения кинофестиваля - категориальная номинальная\n",
    "* Название кинофестиваля - категориальная номинальная\n",
    "* Жанр фильма - категориальная номинальная\n",
    "* Название фильма - категориальная номинальная\n",
    "* Режиссер - категориальная номинальная\n",
    "* Номинация - категориальная номинальная\n",
    "* Награда - категориальная номинальная\n",
    "* Награжденный - категориальная номинальная\n",
    "\n",
    "Не очень большое разнообразие) но позже мы расчитаем на основе этих данных числовые показатели"
   ]
  },
  {
   "cell_type": "code",
   "execution_count": 451,
   "metadata": {
    "colab": {
     "base_uri": "https://localhost:8080/"
    },
    "id": "5Em1VQMqCMk4",
    "outputId": "298fc3ed-17d4-437d-e97a-0ffb7fbffa44"
   },
   "outputs": [
    {
     "name": "stdout",
     "output_type": "stream",
     "text": [
      "<class 'pandas.core.frame.DataFrame'>\n",
      "RangeIndex: 37758 entries, 0 to 37757\n",
      "Data columns (total 8 columns):\n",
      " #   Column      Non-Null Count  Dtype \n",
      "---  ------      --------------  ----- \n",
      " 0   Year        37758 non-null  int64 \n",
      " 1   Fest Name   37758 non-null  object\n",
      " 2   Genre       37684 non-null  object\n",
      " 3   Film        37613 non-null  object\n",
      " 4   Director    35344 non-null  object\n",
      " 5   Nomination  31965 non-null  object\n",
      " 6   Award       6266 non-null   object\n",
      " 7   Winner      5229 non-null   object\n",
      "dtypes: int64(1), object(7)\n",
      "memory usage: 2.3+ MB\n"
     ]
    }
   ],
   "source": [
    "raw_data.info()"
   ]
  },
  {
   "cell_type": "markdown",
   "metadata": {
    "id": "O9HQfMFUCaIB"
   },
   "source": [
    "## **Работа с пропусками**"
   ]
  },
  {
   "cell_type": "code",
   "execution_count": 454,
   "metadata": {
    "colab": {
     "base_uri": "https://localhost:8080/",
     "height": 142
    },
    "id": "jEGFhAoQCcTG",
    "outputId": "99fc4a2e-3a98-46c7-ea27-1ebb80d31b7b"
   },
   "outputs": [
    {
     "data": {
      "text/html": [
       "<div>\n",
       "<style scoped>\n",
       "    .dataframe tbody tr th:only-of-type {\n",
       "        vertical-align: middle;\n",
       "    }\n",
       "\n",
       "    .dataframe tbody tr th {\n",
       "        vertical-align: top;\n",
       "    }\n",
       "\n",
       "    .dataframe thead th {\n",
       "        text-align: right;\n",
       "    }\n",
       "</style>\n",
       "<table border=\"1\" class=\"dataframe\">\n",
       "  <thead>\n",
       "    <tr style=\"text-align: right;\">\n",
       "      <th></th>\n",
       "      <th>Year</th>\n",
       "      <th>Fest Name</th>\n",
       "      <th>Genre</th>\n",
       "      <th>Film</th>\n",
       "      <th>Director</th>\n",
       "      <th>Nomination</th>\n",
       "      <th>Award</th>\n",
       "      <th>Winner</th>\n",
       "    </tr>\n",
       "  </thead>\n",
       "  <tbody>\n",
       "    <tr>\n",
       "      <th>0</th>\n",
       "      <td>2005</td>\n",
       "      <td>카이로 국제영화제</td>\n",
       "      <td>일반(종합)</td>\n",
       "      <td>제니, 주노</td>\n",
       "      <td>김호준</td>\n",
       "      <td>NaN</td>\n",
       "      <td>NaN</td>\n",
       "      <td>NaN</td>\n",
       "    </tr>\n",
       "    <tr>\n",
       "      <th>1</th>\n",
       "      <td>2005</td>\n",
       "      <td>카이로 국제영화제</td>\n",
       "      <td>일반(종합)</td>\n",
       "      <td>댄서의 순정</td>\n",
       "      <td>박영훈</td>\n",
       "      <td>NaN</td>\n",
       "      <td>NaN</td>\n",
       "      <td>NaN</td>\n",
       "    </tr>\n",
       "    <tr>\n",
       "      <th>2</th>\n",
       "      <td>2005</td>\n",
       "      <td>케이프타운 세계 영화제</td>\n",
       "      <td>일반(종합)</td>\n",
       "      <td>올드보이</td>\n",
       "      <td>박찬욱</td>\n",
       "      <td>A Disparate World</td>\n",
       "      <td>NaN</td>\n",
       "      <td>NaN</td>\n",
       "    </tr>\n",
       "  </tbody>\n",
       "</table>\n",
       "</div>"
      ],
      "text/plain": [
       "   Year     Fest Name   Genre    Film Director         Nomination Award Winner\n",
       "0  2005     카이로 국제영화제  일반(종합)  제니, 주노      김호준                NaN   NaN    NaN\n",
       "1  2005     카이로 국제영화제  일반(종합)  댄서의 순정      박영훈                NaN   NaN    NaN\n",
       "2  2005  케이프타운 세계 영화제  일반(종합)    올드보이      박찬욱  A Disparate World   NaN    NaN"
      ]
     },
     "execution_count": 454,
     "metadata": {},
     "output_type": "execute_result"
    }
   ],
   "source": [
    "raw_data.head(3)"
   ]
  },
  {
   "cell_type": "code",
   "execution_count": 458,
   "metadata": {
    "colab": {
     "base_uri": "https://localhost:8080/"
    },
    "id": "fZP-arO-Cl9e",
    "outputId": "4e0ba2bb-ea4c-4038-b72d-cf2308f95eb3"
   },
   "outputs": [
    {
     "name": "stdout",
     "output_type": "stream",
     "text": [
      "В каждом из столбцов следущее кол-во пропусков: \n",
      "Year              0\n",
      "Fest Name         0\n",
      "Genre            74\n",
      "Film            145\n",
      "Director       2414\n",
      "Nomination     5793\n",
      "Award         31492\n",
      "Winner        32529\n",
      "dtype: int64\n",
      "\n",
      "\n",
      "Что в процентном соотношении составляет: \n",
      "Year           0.000000\n",
      "Fest Name      0.000000\n",
      "Genre          0.195985\n",
      "Film           0.384025\n",
      "Director       6.393347\n",
      "Nomination    15.342444\n",
      "Award         83.404841\n",
      "Winner        86.151279\n",
      "dtype: float64\n"
     ]
    }
   ],
   "source": [
    "print(f'В каждом из столбцов следущее кол-во пропусков: \\n{raw_data.isna().sum()}')\n",
    "print(f'\\n')\n",
    "print(f'Что в процентном соотношении составляет: \\n{raw_data.isna().mean()*100}')"
   ]
  },
  {
   "cell_type": "markdown",
   "metadata": {
    "id": "-sx7N0XuC_pl"
   },
   "source": [
    "### Удаление пропусков\n",
    "**По правилу, мы должны удалить колонку, если в ней больше `40%` пропусков.**\n",
    "\n",
    "**Т.е. в нашем случае, необходимо удалить колонки `Award` и `Winner`**"
   ]
  },
  {
   "cell_type": "markdown",
   "metadata": {
    "id": "ECOWWSVyDDIw"
   },
   "source": [
    "Однако такие данные представляют мало интереса в рамках нашего исследования (нам интересны награды), поэтому поступим следующим образом: оставим только те строки датасета, в которых значения столбцов **`Award`** и **`Winner`** **НЕ**пустые и сохраним копию в отдельный датафрейм **`df`**"
   ]
  },
  {
   "cell_type": "code",
   "execution_count": 463,
   "metadata": {
    "colab": {
     "base_uri": "https://localhost:8080/",
     "height": 204
    },
    "id": "U4C_EGLWDADh",
    "outputId": "39c0442f-b21f-4fd3-dec7-873861d2b9b2"
   },
   "outputs": [
    {
     "data": {
      "text/html": [
       "<div>\n",
       "<style scoped>\n",
       "    .dataframe tbody tr th:only-of-type {\n",
       "        vertical-align: middle;\n",
       "    }\n",
       "\n",
       "    .dataframe tbody tr th {\n",
       "        vertical-align: top;\n",
       "    }\n",
       "\n",
       "    .dataframe thead th {\n",
       "        text-align: right;\n",
       "    }\n",
       "</style>\n",
       "<table border=\"1\" class=\"dataframe\">\n",
       "  <thead>\n",
       "    <tr style=\"text-align: right;\">\n",
       "      <th></th>\n",
       "      <th>Year</th>\n",
       "      <th>Fest Name</th>\n",
       "      <th>Genre</th>\n",
       "      <th>Film</th>\n",
       "      <th>Director</th>\n",
       "      <th>Nomination</th>\n",
       "      <th>Award</th>\n",
       "      <th>Winner</th>\n",
       "    </tr>\n",
       "  </thead>\n",
       "  <tbody>\n",
       "    <tr>\n",
       "      <th>17</th>\n",
       "      <td>2005</td>\n",
       "      <td>디렉터스 컷 어워즈</td>\n",
       "      <td>일반(종합)</td>\n",
       "      <td>너는 내 운명</td>\n",
       "      <td>박진표</td>\n",
       "      <td>NaN</td>\n",
       "      <td>올해의 여자배우상</td>\n",
       "      <td>전도연</td>\n",
       "    </tr>\n",
       "    <tr>\n",
       "      <th>18</th>\n",
       "      <td>2005</td>\n",
       "      <td>디렉터스 컷 어워즈</td>\n",
       "      <td>일반(종합)</td>\n",
       "      <td>친절한 금자씨</td>\n",
       "      <td>박찬욱</td>\n",
       "      <td>NaN</td>\n",
       "      <td>올해의 여자배우상</td>\n",
       "      <td>이영애</td>\n",
       "    </tr>\n",
       "    <tr>\n",
       "      <th>19</th>\n",
       "      <td>2005</td>\n",
       "      <td>디렉터스 컷 어워즈</td>\n",
       "      <td>일반(종합)</td>\n",
       "      <td>태풍태양</td>\n",
       "      <td>정재은</td>\n",
       "      <td>NaN</td>\n",
       "      <td>올해의 새로운 여자배우상</td>\n",
       "      <td>조이진</td>\n",
       "    </tr>\n",
       "    <tr>\n",
       "      <th>20</th>\n",
       "      <td>2005</td>\n",
       "      <td>디렉터스 컷 어워즈</td>\n",
       "      <td>일반(종합)</td>\n",
       "      <td>말아톤</td>\n",
       "      <td>정윤철</td>\n",
       "      <td>NaN</td>\n",
       "      <td>올해의 신인 감독상</td>\n",
       "      <td>정윤철</td>\n",
       "    </tr>\n",
       "    <tr>\n",
       "      <th>21</th>\n",
       "      <td>2005</td>\n",
       "      <td>디렉터스 컷 어워즈</td>\n",
       "      <td>일반(종합)</td>\n",
       "      <td>웰컴 투 동막골</td>\n",
       "      <td>박광현</td>\n",
       "      <td>NaN</td>\n",
       "      <td>올해의 남자배우상</td>\n",
       "      <td>정재영</td>\n",
       "    </tr>\n",
       "  </tbody>\n",
       "</table>\n",
       "</div>"
      ],
      "text/plain": [
       "    Year   Fest Name   Genre      Film Director Nomination          Award  \\\n",
       "17  2005  디렉터스 컷 어워즈  일반(종합)   너는 내 운명      박진표        NaN      올해의 여자배우상   \n",
       "18  2005  디렉터스 컷 어워즈  일반(종합)   친절한 금자씨      박찬욱        NaN      올해의 여자배우상   \n",
       "19  2005  디렉터스 컷 어워즈  일반(종합)      태풍태양      정재은        NaN  올해의 새로운 여자배우상   \n",
       "20  2005  디렉터스 컷 어워즈  일반(종합)       말아톤      정윤철        NaN     올해의 신인 감독상   \n",
       "21  2005  디렉터스 컷 어워즈  일반(종합)  웰컴 투 동막골      박광현        NaN      올해의 남자배우상   \n",
       "\n",
       "   Winner  \n",
       "17    전도연  \n",
       "18    이영애  \n",
       "19    조이진  \n",
       "20    정윤철  \n",
       "21    정재영  "
      ]
     },
     "execution_count": 463,
     "metadata": {},
     "output_type": "execute_result"
    }
   ],
   "source": [
    "df = raw_data.dropna(subset = ['Award', 'Winner']).copy()\n",
    "df.head()"
   ]
  },
  {
   "cell_type": "markdown",
   "metadata": {
    "id": "7WhhYN0zFVIi"
   },
   "source": [
    "**Полученные данные вновь проверим на долю пропущенных значений и увидим, что в колонке `Nomination` более 50% пропусков**\n",
    "\n",
    "**-> удалим колонку**\n"
   ]
  },
  {
   "cell_type": "code",
   "execution_count": 466,
   "metadata": {
    "id": "cXa1YEDsDGY6"
   },
   "outputs": [],
   "source": [
    " df.drop('Nomination', axis=1, inplace=True)"
   ]
  },
  {
   "cell_type": "markdown",
   "metadata": {
    "id": "pDADkNW_Ff3y"
   },
   "source": [
    "**Наконец у нас получился итоговый датасет, который можно начать анализировать**"
   ]
  },
  {
   "cell_type": "code",
   "execution_count": 469,
   "metadata": {
    "colab": {
     "base_uri": "https://localhost:8080/",
     "height": 142
    },
    "id": "calDWrmMFVnx",
    "outputId": "cc71452a-b820-4145-941e-04b63f1fcb55"
   },
   "outputs": [
    {
     "data": {
      "text/html": [
       "<div>\n",
       "<style scoped>\n",
       "    .dataframe tbody tr th:only-of-type {\n",
       "        vertical-align: middle;\n",
       "    }\n",
       "\n",
       "    .dataframe tbody tr th {\n",
       "        vertical-align: top;\n",
       "    }\n",
       "\n",
       "    .dataframe thead th {\n",
       "        text-align: right;\n",
       "    }\n",
       "</style>\n",
       "<table border=\"1\" class=\"dataframe\">\n",
       "  <thead>\n",
       "    <tr style=\"text-align: right;\">\n",
       "      <th></th>\n",
       "      <th>Year</th>\n",
       "      <th>Fest Name</th>\n",
       "      <th>Genre</th>\n",
       "      <th>Film</th>\n",
       "      <th>Director</th>\n",
       "      <th>Award</th>\n",
       "      <th>Winner</th>\n",
       "    </tr>\n",
       "  </thead>\n",
       "  <tbody>\n",
       "    <tr>\n",
       "      <th>17</th>\n",
       "      <td>2005</td>\n",
       "      <td>디렉터스 컷 어워즈</td>\n",
       "      <td>일반(종합)</td>\n",
       "      <td>너는 내 운명</td>\n",
       "      <td>박진표</td>\n",
       "      <td>올해의 여자배우상</td>\n",
       "      <td>전도연</td>\n",
       "    </tr>\n",
       "    <tr>\n",
       "      <th>18</th>\n",
       "      <td>2005</td>\n",
       "      <td>디렉터스 컷 어워즈</td>\n",
       "      <td>일반(종합)</td>\n",
       "      <td>친절한 금자씨</td>\n",
       "      <td>박찬욱</td>\n",
       "      <td>올해의 여자배우상</td>\n",
       "      <td>이영애</td>\n",
       "    </tr>\n",
       "    <tr>\n",
       "      <th>19</th>\n",
       "      <td>2005</td>\n",
       "      <td>디렉터스 컷 어워즈</td>\n",
       "      <td>일반(종합)</td>\n",
       "      <td>태풍태양</td>\n",
       "      <td>정재은</td>\n",
       "      <td>올해의 새로운 여자배우상</td>\n",
       "      <td>조이진</td>\n",
       "    </tr>\n",
       "  </tbody>\n",
       "</table>\n",
       "</div>"
      ],
      "text/plain": [
       "    Year   Fest Name   Genre     Film Director          Award Winner\n",
       "17  2005  디렉터스 컷 어워즈  일반(종합)  너는 내 운명      박진표      올해의 여자배우상    전도연\n",
       "18  2005  디렉터스 컷 어워즈  일반(종합)  친절한 금자씨      박찬욱      올해의 여자배우상    이영애\n",
       "19  2005  디렉터스 컷 어워즈  일반(종합)     태풍태양      정재은  올해의 새로운 여자배우상    조이진"
      ]
     },
     "execution_count": 469,
     "metadata": {},
     "output_type": "execute_result"
    }
   ],
   "source": [
    "df.head(3)"
   ]
  },
  {
   "cell_type": "markdown",
   "metadata": {
    "id": "c3erb7WPJlsw"
   },
   "source": [
    "## **Описательные статистики**"
   ]
  },
  {
   "cell_type": "markdown",
   "metadata": {
    "id": "d5Wjo0p7J90x"
   },
   "source": [
    "**Так как наши данные - категориальные номинальные, сначала посчитаем моду для колонок `Fest Name`, `Genre`, `Director` и `Winner`, чтобы узнать чаще всего встречающиеся названия фестиваля, жанра, режиссера и имя победителя, соответственно**"
   ]
  },
  {
   "cell_type": "code",
   "execution_count": 473,
   "metadata": {
    "colab": {
     "base_uri": "https://localhost:8080/"
    },
    "id": "JHy8OSsAFiGx",
    "outputId": "744c3883-a9b2-4929-954c-308193a4db6b"
   },
   "outputs": [
    {
     "name": "stdout",
     "output_type": "stream",
     "text": [
      "Больше всего в датасете записей с фестиваля: 서울독립영화제\n",
      "Кол-во записей: 1613\n",
      "Кол-во уникальных картин, представленных на этом фестивале: 1557\n"
     ]
    }
   ],
   "source": [
    "top_fest = raw_data['Fest Name'].mode().values[0]\n",
    "print(f'Больше всего в датасете записей с фестиваля: {top_fest}') # находим самый частотный фестиваль среди всех данных\n",
    "print(f'Кол-во записей: {raw_data[raw_data[\"Fest Name\"] == top_fest].shape[0]}') # считаем кол-во упоминаний\n",
    "print(f'Кол-во уникальных картин, представленных на этом фестивале: {raw_data[raw_data[\"Fest Name\"] == top_fest][\"Film\"].nunique()}')"
   ]
  },
  {
   "cell_type": "code",
   "execution_count": 475,
   "metadata": {
    "colab": {
     "base_uri": "https://localhost:8080/"
    },
    "id": "Brv-IUsZKQp4",
    "outputId": "4423e4c3-2f32-4b13-cb94-187cb7c6bd40"
   },
   "outputs": [
    {
     "name": "stdout",
     "output_type": "stream",
     "text": [
      "Больше всего наград получено на фестивале: 청룡영화상\n",
      "Кол-во записей: 396\n",
      "Из низ уникальных картин: 239\n"
     ]
    }
   ],
   "source": [
    "top_fest_byaw_num = df['Fest Name'].mode().values[0]\n",
    "print(f'Больше всего наград получено на фестивале: {top_fest_byaw_num}') # находим самый частотный фестиваль среди данных о награждении кор фильмов\n",
    "print(f'Кол-во записей: {df[df[\"Fest Name\"] == top_fest_byaw_num].shape[0]}') # считаем кол-во упоминаний\n",
    "print(f'Из низ уникальных картин: {raw_data[raw_data[\"Fest Name\"] == top_fest_byaw_num][\"Film\"].nunique()}')"
   ]
  },
  {
   "cell_type": "code",
   "execution_count": 477,
   "metadata": {
    "colab": {
     "base_uri": "https://localhost:8080/"
    },
    "id": "OpFylJsXKi-N",
    "outputId": "c25df1fe-a4b3-4470-9cfd-d69a95f3d838"
   },
   "outputs": [
    {
     "name": "stdout",
     "output_type": "stream",
     "text": [
      "일반(종합)\n",
      "일반(종합)\n"
     ]
    }
   ],
   "source": [
    "print(raw_data['Genre'].mode().values[0]) # находим самый популярный жанр в обоих датафремах\n",
    "print(df['Genre'].mode().values[0])"
   ]
  },
  {
   "cell_type": "code",
   "execution_count": 479,
   "metadata": {
    "colab": {
     "base_uri": "https://localhost:8080/"
    },
    "id": "FsZprBfSKrVM",
    "outputId": "c321091e-9afa-4436-ccb3-d5a5934b0045"
   },
   "outputs": [
    {
     "name": "stdout",
     "output_type": "stream",
     "text": [
      "Чаще всего на фестивалях были представлены фильмы режиссера 홍상수\n",
      "Процент его успешных картин: 6.66 %\n"
     ]
    }
   ],
   "source": [
    "top_dir_raw = raw_data['Director'].mode().values[0]\n",
    "print(f'Чаще всего на фестивалях были представлены фильмы режиссера {top_dir_raw}')\n",
    "print(f'Процент его успешных картин: ' # посчитаем сколько из всех представленных им фильмов получили награду (%)\n",
    "      f'{round(df[df[\"Director\"] == top_dir_raw].shape[0] / raw_data[raw_data[\"Director\"] == top_dir_raw].shape[0] * 100, 2)} %')"
   ]
  },
  {
   "cell_type": "code",
   "execution_count": 481,
   "metadata": {
    "colab": {
     "base_uri": "https://localhost:8080/"
    },
    "id": "pHAofZPGKumE",
    "outputId": "a0cb6e22-970f-4099-c983-9130252fb110"
   },
   "outputs": [
    {
     "name": "stdout",
     "output_type": "stream",
     "text": [
      "Самый успешный режиссер: 봉준호\n"
     ]
    }
   ],
   "source": [
    "top_dir_award = df['Director'].mode().values[0]\n",
    "print(f'Самый успешный режиссер: {top_dir_award}')"
   ]
  },
  {
   "cell_type": "code",
   "execution_count": 483,
   "metadata": {
    "colab": {
     "base_uri": "https://localhost:8080/"
    },
    "id": "_PUzvKxHKz5A",
    "outputId": "bc96fb6c-d07a-4088-dcbf-1ab65e4d5a49"
   },
   "outputs": [
    {
     "name": "stdout",
     "output_type": "stream",
     "text": [
      "Обладатель наибольшего кол-ва наград: 봉준호\n"
     ]
    }
   ],
   "source": [
    "print(f'Обладатель наибольшего кол-ва наград: {raw_data[\"Winner\"].mode().values[0]}')\n",
    "# находим обладателя наибольшего кол-ва наград (одинаково для обоих сетов, поэтому не дублируем)"
   ]
  },
  {
   "cell_type": "code",
   "execution_count": 485,
   "metadata": {
    "colab": {
     "base_uri": "https://localhost:8080/"
    },
    "id": "5gsE4YrkK3t_",
    "outputId": "0f595e99-5eeb-4438-af7e-fa72e9abfc0a"
   },
   "outputs": [
    {
     "name": "stdout",
     "output_type": "stream",
     "text": [
      "Фильмы самого успешного режиссера: 살인의 추억, 괴물, 플란다스의 개, 마더, 인플루엔자, 지리멸렬, 설국열차, 기생충; всего 8 шт.\n",
      "Из них награды получили следующие фильмы: 살인의 추억, 플란다스의 개, 마더, 괴물, 설국열차, 기생충, 6 шт.\n"
     ]
    }
   ],
   "source": [
    "best_dir_filmography = raw_data[raw_data[\"Director\"] == top_dir_award][\"Film\"].unique()\n",
    "print(f'Фильмы самого успешного режиссера: {(\", \").join(best_dir_filmography)}; всего {len(best_dir_filmography)} шт.')\n",
    "print(f'Из них награды получили следующие фильмы: {(\", \").join(df[df[\"Director\"] == top_dir_award][\"Film\"].unique())}, '\n",
    "      f'{df[df[\"Director\"] == top_dir_award][\"Film\"].nunique()} шт.')\n"
   ]
  },
  {
   "cell_type": "code",
   "execution_count": 487,
   "metadata": {
    "colab": {
     "base_uri": "https://localhost:8080/"
    },
    "id": "SFoapZucK-RG",
    "outputId": "dc8d0fc0-9299-4378-b31a-97ab8d54b57e"
   },
   "outputs": [
    {
     "name": "stdout",
     "output_type": "stream",
     "text": [
      "Всего работы самого титулованного режиссера получили 148 наград  \n",
      "Film\n",
      "기생충        76\n",
      "살인의 추억     24\n",
      "괴물         19\n",
      "마더         18\n",
      "설국열차        8\n",
      "플란다스의 개     3\n",
      "Name: count, dtype: int64\n"
     ]
    }
   ],
   "source": [
    "print(f'Всего работы самого титулованного режиссера получили {df[df[\"Director\"] == top_dir_award][\"Film\"].count()} наград ',\n",
    "      f'\\n{df[df[\"Director\"] == top_dir_award][\"Film\"].value_counts()}')"
   ]
  },
  {
   "cell_type": "markdown",
   "metadata": {
    "id": "cVGHdlbZLQ4u"
   },
   "source": [
    "### **Итак, мы узнали, что:**\n",
    "\n",
    "* наибольшее количество корейских фильмов за рассматриваемый период было представлено на Seoul Independent Film Festival (**서울독립영화제**) — **`1557`** картин;\n",
    "* за последние 25 лет корейские фильмы чаще всего получали награды на кинопремии \"Голубой дракон\" (**청룡영화상**) — **`396`** раз;\n",
    "* самыми популярными среди фильмов, получивших награды, стали коммерческие (**일반(종합)**) фильмы;\n",
    "* чаще всего на фестивалях участвовали фильмы, снятые режиссером Хон Сансу (**홍상수**), однако только **`6,66%`** из них были удостоены наград;\n",
    "* больше всего наград получили фильмы, снятые режиссёром Пон Чжунхо (**봉준호**). Он же стал самым **титулованным** участником, завоевав **`67`** наград (предположительно, это премии за лучшую режиссёрскую работу (감독상) или за лучший сценарий (각본상) — точнее узнаем позже, обратившись к колонке **`Award`**);\n",
    "* самым высоко оцененным фильмом стали **\"Паразиты\" (기생충)**, удостоившиеся **`76`** наград."
   ]
  },
  {
   "cell_type": "markdown",
   "metadata": {
    "id": "fb7gpiVSLUe-"
   },
   "source": [
    "## **Для дальнейшего анализа необходимо создать дополнительные количественные признаки, расчитанные на основе имеющихся категориальных данных**"
   ]
  },
  {
   "cell_type": "markdown",
   "metadata": {
    "id": "ztP196eyLoOW"
   },
   "source": [
    "**Создадим таблицу с данными по годам на основе имеющихся датафреймов.**  \n",
    "\n",
    "В таблице будут следующие показатели:  \n",
    "\n",
    "- **`Awards`** – количество фильмов, номинированных в этом году.  \n",
    "- **`Winners`** – общее число наград, полученных фильмами за год.  \n",
    "- **`Win_to_Aw`** – отношение побед к номинациям.  \n",
    "- **`Rec_num`** – количество записей об участии в фестивалях.\n",
    "- **`Fest_Unum`** – количество уникальных фестивалей, проведенных в этом году.\n",
    "- **`Film_UNnum`** – количество уникальных фильмов, представленных на фестивалях.\n",
    "- **`Best_Director`** (**BDA**) – режиссёр, получивший больше всего наград в этом году.  \n",
    "- **`BDA_num`** – количество наград, полученных **Best_Director** за год.\n",
    "- **`BDAll_num`** – количество фильмов **Best_Director**, участвующих в фестивалях за год.\n",
    "- **`BDALL_AW_Ration`** – отношение фильмов **Best_Director**, получивших награду к обшему число его фильмах, участвующих в этом году (`BDA_num / BDAll_num`).\n",
    "- **`BDA_Share`** – доля наград **Best_Director** от общего числа наград за год (`BDA_num / Winners`).  \n",
    "- **`Most_Shown_Director`** (**MSD**) – режиссёр, чьи фильмы чаще всего участвовали в фестивалях в этом году (независимо от наград).  \n",
    "- **`MSDW_num`** – количество фильмов **Most_Shown_Director**, представленных на фестивалях.  \n",
    "- **`MSDW_Share`** – доля фильмов **Most_Shown_Director** от общего числа номинированных фильмов (`MSDW_num / Awards`).  \n"
   ]
  },
  {
   "cell_type": "code",
   "execution_count": 492,
   "metadata": {
    "colab": {
     "base_uri": "https://localhost:8080/",
     "height": 255
    },
    "id": "FtiYrKIxLRsp",
    "outputId": "ca8fa8f3-b1a3-4971-ce4c-bf4a62f8ce0e"
   },
   "outputs": [
    {
     "data": {
      "text/html": [
       "<div>\n",
       "<style scoped>\n",
       "    .dataframe tbody tr th:only-of-type {\n",
       "        vertical-align: middle;\n",
       "    }\n",
       "\n",
       "    .dataframe tbody tr th {\n",
       "        vertical-align: top;\n",
       "    }\n",
       "\n",
       "    .dataframe thead th {\n",
       "        text-align: right;\n",
       "    }\n",
       "</style>\n",
       "<table border=\"1\" class=\"dataframe\">\n",
       "  <thead>\n",
       "    <tr style=\"text-align: right;\">\n",
       "      <th></th>\n",
       "      <th>Awards</th>\n",
       "      <th>Winners</th>\n",
       "      <th>Win_to_Aw</th>\n",
       "      <th>Rec_num</th>\n",
       "      <th>Fest_Unum</th>\n",
       "      <th>Film_UNnum</th>\n",
       "      <th>Best_Director</th>\n",
       "      <th>BDAll_num</th>\n",
       "      <th>BDA_num</th>\n",
       "      <th>BDALL_AW_Ration</th>\n",
       "      <th>BDA_Share</th>\n",
       "      <th>Most_Shown_Director</th>\n",
       "      <th>MSDW_num</th>\n",
       "      <th>MSDW_Share</th>\n",
       "    </tr>\n",
       "    <tr>\n",
       "      <th>Year</th>\n",
       "      <th></th>\n",
       "      <th></th>\n",
       "      <th></th>\n",
       "      <th></th>\n",
       "      <th></th>\n",
       "      <th></th>\n",
       "      <th></th>\n",
       "      <th></th>\n",
       "      <th></th>\n",
       "      <th></th>\n",
       "      <th></th>\n",
       "      <th></th>\n",
       "      <th></th>\n",
       "      <th></th>\n",
       "    </tr>\n",
       "  </thead>\n",
       "  <tbody>\n",
       "    <tr>\n",
       "      <th>2000</th>\n",
       "      <td>85</td>\n",
       "      <td>70</td>\n",
       "      <td>0.823529</td>\n",
       "      <td>354</td>\n",
       "      <td>122</td>\n",
       "      <td>111</td>\n",
       "      <td>박찬욱</td>\n",
       "      <td>15</td>\n",
       "      <td>13</td>\n",
       "      <td>0.866667</td>\n",
       "      <td>0.185714</td>\n",
       "      <td>이창동</td>\n",
       "      <td>20</td>\n",
       "      <td>0.180180</td>\n",
       "    </tr>\n",
       "    <tr>\n",
       "      <th>2001</th>\n",
       "      <td>79</td>\n",
       "      <td>68</td>\n",
       "      <td>0.860759</td>\n",
       "      <td>354</td>\n",
       "      <td>91</td>\n",
       "      <td>118</td>\n",
       "      <td>정재은</td>\n",
       "      <td>9</td>\n",
       "      <td>9</td>\n",
       "      <td>1.000000</td>\n",
       "      <td>0.132353</td>\n",
       "      <td>김기덕</td>\n",
       "      <td>36</td>\n",
       "      <td>0.305085</td>\n",
       "    </tr>\n",
       "    <tr>\n",
       "      <th>2002</th>\n",
       "      <td>96</td>\n",
       "      <td>86</td>\n",
       "      <td>0.895833</td>\n",
       "      <td>362</td>\n",
       "      <td>105</td>\n",
       "      <td>110</td>\n",
       "      <td>이창동</td>\n",
       "      <td>19</td>\n",
       "      <td>14</td>\n",
       "      <td>0.736842</td>\n",
       "      <td>0.162791</td>\n",
       "      <td>김기덕</td>\n",
       "      <td>48</td>\n",
       "      <td>0.436364</td>\n",
       "    </tr>\n",
       "    <tr>\n",
       "      <th>2003</th>\n",
       "      <td>135</td>\n",
       "      <td>108</td>\n",
       "      <td>0.800000</td>\n",
       "      <td>530</td>\n",
       "      <td>182</td>\n",
       "      <td>147</td>\n",
       "      <td>봉준호</td>\n",
       "      <td>31</td>\n",
       "      <td>23</td>\n",
       "      <td>0.741935</td>\n",
       "      <td>0.212963</td>\n",
       "      <td>봉준호</td>\n",
       "      <td>31</td>\n",
       "      <td>0.210884</td>\n",
       "    </tr>\n",
       "    <tr>\n",
       "      <th>2004</th>\n",
       "      <td>153</td>\n",
       "      <td>126</td>\n",
       "      <td>0.823529</td>\n",
       "      <td>581</td>\n",
       "      <td>168</td>\n",
       "      <td>183</td>\n",
       "      <td>박찬욱</td>\n",
       "      <td>52</td>\n",
       "      <td>34</td>\n",
       "      <td>0.653846</td>\n",
       "      <td>0.269841</td>\n",
       "      <td>김기덕</td>\n",
       "      <td>54</td>\n",
       "      <td>0.295082</td>\n",
       "    </tr>\n",
       "  </tbody>\n",
       "</table>\n",
       "</div>"
      ],
      "text/plain": [
       "      Awards  Winners  Win_to_Aw  Rec_num  Fest_Unum  Film_UNnum  \\\n",
       "Year                                                               \n",
       "2000      85       70   0.823529      354        122         111   \n",
       "2001      79       68   0.860759      354         91         118   \n",
       "2002      96       86   0.895833      362        105         110   \n",
       "2003     135      108   0.800000      530        182         147   \n",
       "2004     153      126   0.823529      581        168         183   \n",
       "\n",
       "     Best_Director  BDAll_num  BDA_num  BDALL_AW_Ration  BDA_Share  \\\n",
       "Year                                                                 \n",
       "2000           박찬욱         15       13         0.866667   0.185714   \n",
       "2001           정재은          9        9         1.000000   0.132353   \n",
       "2002           이창동         19       14         0.736842   0.162791   \n",
       "2003           봉준호         31       23         0.741935   0.212963   \n",
       "2004           박찬욱         52       34         0.653846   0.269841   \n",
       "\n",
       "     Most_Shown_Director  MSDW_num  MSDW_Share  \n",
       "Year                                            \n",
       "2000                 이창동        20    0.180180  \n",
       "2001                 김기덕        36    0.305085  \n",
       "2002                 김기덕        48    0.436364  \n",
       "2003                 봉준호        31    0.210884  \n",
       "2004                 김기덕        54    0.295082  "
      ]
     },
     "execution_count": 492,
     "metadata": {},
     "output_type": "execute_result"
    }
   ],
   "source": [
    "yearly_aw = raw_data.groupby('Year')[['Award', 'Winner']].count()\n",
    "yearly_aw['Rec_num'] = raw_data.groupby('Year')['Fest Name'].count()\n",
    "yearly_aw['Fest_Unum'] = raw_data.groupby('Year')['Fest Name'].nunique()\n",
    "yearly_aw['Film_UNnum'] = raw_data.groupby('Year')['Film'].nunique()\n",
    "yearly_aw['Best_Director'] = df.groupby('Year')['Director'].agg(lambda x: x.mode().iloc[0] if not x.mode().empty else None)\n",
    "yearly_aw['Most_Shown_Director'] = raw_data.groupby('Year')['Director'].agg(lambda x: x.mode().iloc[0] if not x.mode().empty else None)\n",
    "\n",
    "yearly_aw['BDA_num'] = yearly_aw.apply(\n",
    "    lambda row: raw_data[(raw_data['Year'] == row.name) & (raw_data['Director'] == row['Best_Director']) & (raw_data['Winner'].isna()==False)].shape[0], axis=1\n",
    ") # BDA_num == Best_Director_Awards_num\n",
    "\n",
    "yearly_aw['BDAll_num'] = yearly_aw.apply(\n",
    "    lambda row: raw_data[(raw_data['Year'] == row.name) & (raw_data['Director'] == row['Best_Director'])].shape[0], axis=1\n",
    ") # BDAll_num == Best_Director_All_entries_num\n",
    "\n",
    "yearly_aw['MSDW_num'] = yearly_aw.apply(\n",
    "    lambda row: raw_data[(raw_data['Year'] == row.name) & (raw_data['Director'] == row['Most_Shown_Director'])].shape[0], axis=1\n",
    ") # MSDW_num == Most_Shown_Director_Works_num\n",
    "\n",
    "yearly_aw['Win_to_Aw'] = yearly_aw['Winner'] / yearly_aw['Award']\n",
    "yearly_aw['BDA_Share'] = yearly_aw['BDA_num'] / yearly_aw['Winner']\n",
    "yearly_aw['MSDW_Share'] = yearly_aw['MSDW_num'] / yearly_aw['Film_UNnum']\n",
    "yearly_aw['BDALL_AW_Ration'] = yearly_aw['BDA_num'] / yearly_aw['BDAll_num']\n",
    "\n",
    "yearly_aw = yearly_aw[['Award', 'Winner', 'Win_to_Aw', 'Rec_num', 'Fest_Unum', 'Film_UNnum', 'Best_Director', 'BDAll_num', 'BDA_num',\n",
    "                       'BDALL_AW_Ration', 'BDA_Share', 'Most_Shown_Director', 'MSDW_num', 'MSDW_Share']]\n",
    "yearly_aw.columns = ['Awards', 'Winners', 'Win_to_Aw', 'Rec_num', 'Fest_Unum', 'Film_UNnum', 'Best_Director', 'BDAll_num', 'BDA_num',\n",
    "                     'BDALL_AW_Ration', 'BDA_Share', 'Most_Shown_Director', 'MSDW_num', 'MSDW_Share']\n",
    "\n",
    "\n",
    "yearly_aw.head() # надо посчитать сколько раз встречался каждый реж и построить график\n"
   ]
  },
  {
   "cell_type": "markdown",
   "metadata": {
    "id": "eAshjan5aAYa"
   },
   "source": [
    "### Теперь посчитаем описательные статистики для полученных числовых данных"
   ]
  },
  {
   "cell_type": "code",
   "execution_count": 495,
   "metadata": {
    "colab": {
     "base_uri": "https://localhost:8080/"
    },
    "id": "3iiNwZd_aeRx",
    "outputId": "76cda0be-726d-4d55-d845-0d6201254745"
   },
   "outputs": [
    {
     "name": "stdout",
     "output_type": "stream",
     "text": [
      "В среднем за год в номинации попадало 241 корейских фильмов\n",
      "В среднем за год корейские авторы забирали по 201 наград\n",
      "В среднем за год появлялось по 1452 записей\n",
      "В среднем за год проводилось 234 фестивалей\n"
     ]
    }
   ],
   "source": [
    "print(f'В среднем за год в номинации попадало {round(yearly_aw[\"Awards\"].mean())} корейских фильмов')\n",
    "print(f'В среднем за год корейские авторы забирали по {round(yearly_aw[\"Winners\"].mean())} наград')\n",
    "print(f'В среднем за год появлялось по {round(yearly_aw[\"Rec_num\"].mean())} записей')\n",
    "print(f'В среднем за год проводилось {round(yearly_aw[\"Fest_Unum\"].mean())} фестивалей')"
   ]
  },
  {
   "cell_type": "markdown",
   "metadata": {
    "id": "CUuv621TL2Mi"
   },
   "source": [
    "## **Изучение признаков**"
   ]
  },
  {
   "cell_type": "markdown",
   "metadata": {
    "id": "zyuhZfP0L5oE"
   },
   "source": [
    "У нас есть два датафрейма: **`raw_data`** и **`df`**.\n",
    "\n",
    "* `raw_data` содержит информацию обо всех фильмах, представленных на различных кинофестивалях с 2000 по 2025 год.\n",
    "* `df` включает только те фильмы, которые получили награды на этих фестивалях.\n",
    "\n",
    "\n",
    "Логично рассмотреть данные с **двух** сторон:\n",
    "\n",
    "1.   Сравнить оба датафрейма, чтобы понять, чем награжденные фильмы отличаются от остальных.\n",
    "2.   Проанализировать каждый датафрейм отдельно, выявляя закономерности внутри них\n"
   ]
  },
  {
   "cell_type": "markdown",
   "metadata": {
    "id": "ADVL9B3YO57-"
   },
   "source": [
    "### Категориальные данные"
   ]
  },
  {
   "cell_type": "code",
   "execution_count": 500,
   "metadata": {
    "colab": {
     "base_uri": "https://localhost:8080/",
     "height": 111
    },
    "id": "0NweKnBKPfTE",
    "outputId": "e8785238-20bb-4e4b-969c-3d3c66dd233e"
   },
   "outputs": [
    {
     "data": {
      "text/html": [
       "<div>\n",
       "<style scoped>\n",
       "    .dataframe tbody tr th:only-of-type {\n",
       "        vertical-align: middle;\n",
       "    }\n",
       "\n",
       "    .dataframe tbody tr th {\n",
       "        vertical-align: top;\n",
       "    }\n",
       "\n",
       "    .dataframe thead th {\n",
       "        text-align: right;\n",
       "    }\n",
       "</style>\n",
       "<table border=\"1\" class=\"dataframe\">\n",
       "  <thead>\n",
       "    <tr style=\"text-align: right;\">\n",
       "      <th></th>\n",
       "      <th>Year</th>\n",
       "      <th>Fest Name</th>\n",
       "      <th>Genre</th>\n",
       "      <th>Film</th>\n",
       "      <th>Director</th>\n",
       "      <th>Nomination</th>\n",
       "      <th>Award</th>\n",
       "      <th>Winner</th>\n",
       "    </tr>\n",
       "  </thead>\n",
       "  <tbody>\n",
       "    <tr>\n",
       "      <th>0</th>\n",
       "      <td>2005</td>\n",
       "      <td>카이로 국제영화제</td>\n",
       "      <td>일반(종합)</td>\n",
       "      <td>제니, 주노</td>\n",
       "      <td>김호준</td>\n",
       "      <td>NaN</td>\n",
       "      <td>NaN</td>\n",
       "      <td>NaN</td>\n",
       "    </tr>\n",
       "    <tr>\n",
       "      <th>1</th>\n",
       "      <td>2005</td>\n",
       "      <td>카이로 국제영화제</td>\n",
       "      <td>일반(종합)</td>\n",
       "      <td>댄서의 순정</td>\n",
       "      <td>박영훈</td>\n",
       "      <td>NaN</td>\n",
       "      <td>NaN</td>\n",
       "      <td>NaN</td>\n",
       "    </tr>\n",
       "  </tbody>\n",
       "</table>\n",
       "</div>"
      ],
      "text/plain": [
       "   Year  Fest Name   Genre    Film Director Nomination Award Winner\n",
       "0  2005  카이로 국제영화제  일반(종합)  제니, 주노      김호준        NaN   NaN    NaN\n",
       "1  2005  카이로 국제영화제  일반(종합)  댄서의 순정      박영훈        NaN   NaN    NaN"
      ]
     },
     "execution_count": 500,
     "metadata": {},
     "output_type": "execute_result"
    }
   ],
   "source": [
    "raw_data.head(2)"
   ]
  },
  {
   "cell_type": "code",
   "execution_count": 502,
   "metadata": {
    "colab": {
     "base_uri": "https://localhost:8080/"
    },
    "id": "fmaFso-2LtAE",
    "outputId": "82f79202-e5cc-45a0-d2e0-3e96b79635a6"
   },
   "outputs": [
    {
     "name": "stdout",
     "output_type": "stream",
     "text": [
      "Всего за 25 лет зафиксированы данные о 5244 южнокорейских режиссерах, представивших свои фильмы на международных фестивалях\n",
      "Картины только 1459 из них были удостоены наград\n",
      "\n",
      "Таким образом, 3785 киноделов не получили международного признания своих работ\n"
     ]
    }
   ],
   "source": [
    "print(f'Всего за 25 лет зафиксированы данные о {raw_data[\"Director\"].nunique()} южнокорейских режиссерах, представивших свои фильмы на международных фестивалях')\n",
    "print(f'Картины только {df[\"Director\"].nunique()} из них были удостоены наград')\n",
    "print(f'\\nТаким образом, {raw_data[\"Director\"].nunique() - df[\"Director\"].nunique()} киноделов не получили международного признания своих работ')"
   ]
  },
  {
   "cell_type": "code",
   "execution_count": 504,
   "metadata": {
    "colab": {
     "base_uri": "https://localhost:8080/"
    },
    "id": "NuiT-TaMOQUM",
    "outputId": "2eeb8be5-2886-4470-a307-1c7904758ecb"
   },
   "outputs": [
    {
     "name": "stdout",
     "output_type": "stream",
     "text": [
      "Количество уникальных наименований фестивалей: 1303\n",
      "Количество уникальных наименований фестивалей, на которых были награждены кор. фильмы: 401\n"
     ]
    }
   ],
   "source": [
    "print(f'Количество уникальных наименований фестивалей: {raw_data[\"Fest Name\"].nunique()}') # количество уникальных наименований фестивалей\n",
    "print(f'Количество уникальных наименований фестивалей, на которых были награждены кор. фильмы: {df[\"Fest Name\"].nunique()}')"
   ]
  },
  {
   "cell_type": "code",
   "execution_count": 506,
   "metadata": {
    "colab": {
     "base_uri": "https://localhost:8080/"
    },
    "id": "8k9ErRKFOhYu",
    "outputId": "42ed6774-f8ca-4599-d188-bd679b8117df"
   },
   "outputs": [
    {
     "name": "stdout",
     "output_type": "stream",
     "text": [
      "Топ-10 фестивалей по кол-ву записей о фильмах, представленных на них за 25 лет:  \n",
      "Fest Name\n",
      "서울독립영화제        1613\n",
      "부천국제판타스틱영화제    1096\n",
      "부산국제영화제        1045\n",
      "전주국제영화제         895\n",
      "서울국제여성영화제       674\n",
      "피렌체 한국영화제       625\n",
      "대단한 단편영화제       587\n",
      "미쟝센 단편영화제       528\n",
      "대구단편영화제         519\n",
      "정동진독립영화제        483\n",
      "Name: count, dtype: int64\n",
      "\n",
      "\n",
      "Топ-10 фестивалей, на которых высоко ценятся корейские картины:  \n",
      "Fest Name\n",
      "청룡영화상         396\n",
      "한국영화평론가협회상    239\n",
      "대종상영화제        225\n",
      "백상예술대상        221\n",
      "황금촬영상 시상식     185\n",
      "부일영화상         175\n",
      "부산영화평론가협회상    167\n",
      "디렉터스 컷 어워즈    159\n",
      "서울독립영화제       149\n",
      "춘사영화제         147\n",
      "Name: count, dtype: int64\n"
     ]
    }
   ],
   "source": [
    "print(f'Топ-10 фестивалей по кол-ву записей о фильмах, представленных на них за 25 лет: ',\n",
    "      f'\\n{raw_data[\"Fest Name\"].value_counts().head(10)}') # Топ-5 фестивалей по кол-во записей о фильмах, представленных на них за 25 лет\n",
    "\n",
    "print(f'\\n')\n",
    "\n",
    "print(f'Топ-10 фестивалей, на которых высоко ценятся корейские картины: ',\n",
    "      f'\\n{df[\"Fest Name\"].value_counts().head(10)}')"
   ]
  },
  {
   "cell_type": "code",
   "execution_count": 508,
   "metadata": {
    "colab": {
     "base_uri": "https://localhost:8080/"
    },
    "id": "cupmES03OqQa",
    "outputId": "5d26af81-8063-4152-962b-e2bbc3a7fe03"
   },
   "outputs": [
    {
     "data": {
      "text/plain": [
       "11103"
      ]
     },
     "execution_count": 508,
     "metadata": {},
     "output_type": "execute_result"
    }
   ],
   "source": [
    "raw_data['Film'].nunique() # кол-во уникальных фильмов, представленных на фестивалях за последние 25 лет"
   ]
  },
  {
   "cell_type": "code",
   "execution_count": 510,
   "metadata": {
    "colab": {
     "base_uri": "https://localhost:8080/"
    },
    "id": "7IB8pbckOzWE",
    "outputId": "66ae7bcb-3b8e-4852-e366-b1acdc57aac1"
   },
   "outputs": [
    {
     "data": {
      "text/plain": [
       "2101"
      ]
     },
     "execution_count": 510,
     "metadata": {},
     "output_type": "execute_result"
    }
   ],
   "source": [
    "df['Film'].nunique() # кол-во уникальных фильмов, награжденных на фестивалях за последние 25 лет"
   ]
  },
  {
   "cell_type": "code",
   "execution_count": 512,
   "metadata": {
    "colab": {
     "base_uri": "https://localhost:8080/"
    },
    "id": "5SunNeAkO1TY",
    "outputId": "0cea800f-99de-4df1-9f11-ea03b9839cd5"
   },
   "outputs": [
    {
     "name": "stdout",
     "output_type": "stream",
     "text": [
      "10\n",
      "일반(종합), 독립, 청소년, nan, 단편, 애니, 기타, 판타지, 퀴어, 호러/스릴러, 다큐\n"
     ]
    }
   ],
   "source": [
    "print(raw_data['Genre'].nunique())  # надо построить что-то и принять решение о полезности данных, тк в большинстве случаев как будто просто писали 일반(종합)\n",
    "print(\", \".join(map(str, raw_data['Genre'].unique())))"
   ]
  },
  {
   "cell_type": "code",
   "execution_count": 514,
   "metadata": {
    "colab": {
     "base_uri": "https://localhost:8080/"
    },
    "id": "3yMqbEA5KDFn",
    "outputId": "117a1692-71b4-4701-afb4-d9a57cde95cf"
   },
   "outputs": [
    {
     "name": "stdout",
     "output_type": "stream",
     "text": [
      "Режиссеры, оказавшиеся за эти годы и в категории самых успешных и самых часто появляюзихся:  \n",
      "이창동, 봉준호, 나홍진, 양우석, 장재현\n"
     ]
    }
   ],
   "source": [
    "dir_intersection = list(pd.Index(yearly_aw[\"Best_Director\"]).intersection(pd.Index(yearly_aw[\"Most_Shown_Director\"])))\n",
    "\n",
    "print(f'Режиссеры, оказавшиеся за эти годы и в категории самых успешных и самых часто появляюзихся: ',\n",
    " f'\\n{(\", \").join(dir_intersection)}')"
   ]
  },
  {
   "cell_type": "markdown",
   "metadata": {
    "id": "WHP4uMwtO_d-"
   },
   "source": [
    "### Числовые данные"
   ]
  },
  {
   "cell_type": "code",
   "execution_count": 517,
   "metadata": {
    "colab": {
     "base_uri": "https://localhost:8080/"
    },
    "id": "QW4pxAO_qOsP",
    "outputId": "b2d1a562-2d47-4602-c468-4bf2d10a5e36"
   },
   "outputs": [
    {
     "name": "stdout",
     "output_type": "stream",
     "text": [
      "Меньше всего номинаций у корейских фильмов было в 2025 г. — 16 шт.\n",
      "Больше всего номинаций у корейских фильмов было в 2018 г. — 613 шт.\n"
     ]
    }
   ],
   "source": [
    "print(f'Меньше всего номинаций у корейских фильмов было в {yearly_aw.idxmin()[\"Awards\"]} '\n",
    "      f'г. — {yearly_aw[\"Awards\"].min()} шт.')\n",
    "print(f'Больше всего номинаций у корейских фильмов было в {yearly_aw.idxmax()[\"Awards\"]} '\n",
    "      f'г. — {yearly_aw[\"Awards\"].max()} шт.')"
   ]
  },
  {
   "cell_type": "code",
   "execution_count": 519,
   "metadata": {
    "colab": {
     "base_uri": "https://localhost:8080/"
    },
    "id": "k1A4BFQYPCJK",
    "outputId": "f795f089-15da-4595-9e0a-61172c6824f1"
   },
   "outputs": [
    {
     "name": "stdout",
     "output_type": "stream",
     "text": [
      "Меньше всего наград корейские фильмы получили в 2025 г. — 16 шт.\n",
      "Больше всего наград корейские фильмы получили в  2018 г. — 573 шт.\n"
     ]
    }
   ],
   "source": [
    "print(f'Меньше всего наград корейские фильмы получили в {yearly_aw.idxmin()[\"Winners\"]} '\n",
    "      f'г. — {yearly_aw[\"Winners\"].min()} шт.')\n",
    "print(f'Больше всего наград корейские фильмы получили в  {yearly_aw.idxmax()[\"Winners\"]} '\n",
    "      f'г. — {yearly_aw[\"Winners\"].max()} шт.')\n"
   ]
  },
  {
   "cell_type": "code",
   "execution_count": 521,
   "metadata": {
    "colab": {
     "base_uri": "https://localhost:8080/"
    },
    "id": "tc7-57SmphVi",
    "outputId": "1c840923-2d53-4f4e-b1e0-be02dc9aee18"
   },
   "outputs": [
    {
     "name": "stdout",
     "output_type": "stream",
     "text": [
      "Меньше всего записей - 93 шт. - было сделано в 2025 г.\n",
      "Наибольшая активность корейских кинематографистов на фестивалях была в 2019 г., \n",
      "тогда было сделано 3338 записей об участии фильмов в фестивалях\n"
     ]
    }
   ],
   "source": [
    "print(f'Меньше всего записей - {yearly_aw[\"Rec_num\"].min()} шт. - было сделано в {yearly_aw.idxmin()[\"Rec_num\"]} г.')\n",
    "print(f'Наибольшая активность корейских кинематографистов на фестивалях была в {yearly_aw.idxmax()[\"Rec_num\"]} '\n",
    "      f'г., \\nтогда было сделано {yearly_aw[\"Rec_num\"].max()} записей об участии фильмов в фестивалях')"
   ]
  },
  {
   "cell_type": "code",
   "execution_count": 523,
   "metadata": {
    "colab": {
     "base_uri": "https://localhost:8080/"
    },
    "id": "MUkn-gqnpkqT",
    "outputId": "4b7a8c48-6e9f-4b99-8c54-9843fdb6ec6b"
   },
   "outputs": [
    {
     "name": "stdout",
     "output_type": "stream",
     "text": [
      "Меньше всего фестивалей было проведено в 2025 г. — 18 шт.\n",
      "Больше всего фестивалей было проведено в 2021 г. — 407 шт.\n"
     ]
    }
   ],
   "source": [
    "print(f'Меньше всего фестивалей было проведено в {yearly_aw.idxmin()[\"Fest_Unum\"]} '\n",
    "      f'г. — {yearly_aw[\"Fest_Unum\"].min()} шт.')\n",
    "print(f'Больше всего фестивалей было проведено в {yearly_aw.idxmax()[\"Fest_Unum\"]} '\n",
    "      f'г. — {yearly_aw[\"Fest_Unum\"].max()} шт.')\n",
    "\n",
    "# здесь надо понимать, что это условная запись, тк речь идет только о фестивалях,\n",
    "# на которых участвовали кор фильмы"
   ]
  },
  {
   "cell_type": "code",
   "execution_count": 525,
   "metadata": {
    "colab": {
     "base_uri": "https://localhost:8080/"
    },
    "id": "5TjTCNWApnrc",
    "outputId": "04abcb08-d495-4259-e94b-3ea606c4be3f"
   },
   "outputs": [
    {
     "name": "stdout",
     "output_type": "stream",
     "text": [
      "Меньше всего уникальных фильмов было показано в 2025 г. — 76 шт.\n",
      "Больше всего уникальных фильмов было показано в 2024 г. — 1607 шт.\n"
     ]
    }
   ],
   "source": [
    "print(f'Меньше всего уникальных фильмов было показано в {yearly_aw.idxmin()[\"Film_UNnum\"]} '\n",
    "      f'г. — {yearly_aw[\"Film_UNnum\"].min()} шт.')\n",
    "print(f'Больше всего уникальных фильмов было показано в {yearly_aw.idxmax()[\"Film_UNnum\"]} '\n",
    "      f'г. — {yearly_aw[\"Film_UNnum\"].max()} шт.')"
   ]
  },
  {
   "cell_type": "code",
   "execution_count": 527,
   "metadata": {
    "id": "fNi-ANlNpp02"
   },
   "outputs": [],
   "source": [
    "# надо будет посмотреть что там в 2001 году"
   ]
  },
  {
   "cell_type": "markdown",
   "metadata": {
    "id": "AM1NF_pnrTZn"
   },
   "source": [
    "## **Выбросы и ошибки**"
   ]
  },
  {
   "cell_type": "code",
   "execution_count": 530,
   "metadata": {
    "colab": {
     "base_uri": "https://localhost:8080/",
     "height": 162
    },
    "id": "3wOyzuYQDjTV",
    "outputId": "14f8ebe1-2936-49a9-daa5-3adcee7f65e3"
   },
   "outputs": [
    {
     "data": {
      "text/html": [
       "<div>\n",
       "<style scoped>\n",
       "    .dataframe tbody tr th:only-of-type {\n",
       "        vertical-align: middle;\n",
       "    }\n",
       "\n",
       "    .dataframe tbody tr th {\n",
       "        vertical-align: top;\n",
       "    }\n",
       "\n",
       "    .dataframe thead th {\n",
       "        text-align: right;\n",
       "    }\n",
       "</style>\n",
       "<table border=\"1\" class=\"dataframe\">\n",
       "  <thead>\n",
       "    <tr style=\"text-align: right;\">\n",
       "      <th></th>\n",
       "      <th>Awards</th>\n",
       "      <th>Winners</th>\n",
       "      <th>Win_to_Aw</th>\n",
       "      <th>Rec_num</th>\n",
       "      <th>Fest_Unum</th>\n",
       "      <th>Film_UNnum</th>\n",
       "      <th>Best_Director</th>\n",
       "      <th>BDAll_num</th>\n",
       "      <th>BDA_num</th>\n",
       "      <th>BDALL_AW_Ration</th>\n",
       "      <th>BDA_Share</th>\n",
       "      <th>Most_Shown_Director</th>\n",
       "      <th>MSDW_num</th>\n",
       "      <th>MSDW_Share</th>\n",
       "    </tr>\n",
       "    <tr>\n",
       "      <th>Year</th>\n",
       "      <th></th>\n",
       "      <th></th>\n",
       "      <th></th>\n",
       "      <th></th>\n",
       "      <th></th>\n",
       "      <th></th>\n",
       "      <th></th>\n",
       "      <th></th>\n",
       "      <th></th>\n",
       "      <th></th>\n",
       "      <th></th>\n",
       "      <th></th>\n",
       "      <th></th>\n",
       "      <th></th>\n",
       "    </tr>\n",
       "  </thead>\n",
       "  <tbody>\n",
       "    <tr>\n",
       "      <th>2000</th>\n",
       "      <td>85</td>\n",
       "      <td>70</td>\n",
       "      <td>0.823529</td>\n",
       "      <td>354</td>\n",
       "      <td>122</td>\n",
       "      <td>111</td>\n",
       "      <td>박찬욱</td>\n",
       "      <td>15</td>\n",
       "      <td>13</td>\n",
       "      <td>0.866667</td>\n",
       "      <td>0.185714</td>\n",
       "      <td>이창동</td>\n",
       "      <td>20</td>\n",
       "      <td>0.180180</td>\n",
       "    </tr>\n",
       "    <tr>\n",
       "      <th>2001</th>\n",
       "      <td>79</td>\n",
       "      <td>68</td>\n",
       "      <td>0.860759</td>\n",
       "      <td>354</td>\n",
       "      <td>91</td>\n",
       "      <td>118</td>\n",
       "      <td>정재은</td>\n",
       "      <td>9</td>\n",
       "      <td>9</td>\n",
       "      <td>1.000000</td>\n",
       "      <td>0.132353</td>\n",
       "      <td>김기덕</td>\n",
       "      <td>36</td>\n",
       "      <td>0.305085</td>\n",
       "    </tr>\n",
       "  </tbody>\n",
       "</table>\n",
       "</div>"
      ],
      "text/plain": [
       "      Awards  Winners  Win_to_Aw  Rec_num  Fest_Unum  Film_UNnum  \\\n",
       "Year                                                               \n",
       "2000      85       70   0.823529      354        122         111   \n",
       "2001      79       68   0.860759      354         91         118   \n",
       "\n",
       "     Best_Director  BDAll_num  BDA_num  BDALL_AW_Ration  BDA_Share  \\\n",
       "Year                                                                 \n",
       "2000           박찬욱         15       13         0.866667   0.185714   \n",
       "2001           정재은          9        9         1.000000   0.132353   \n",
       "\n",
       "     Most_Shown_Director  MSDW_num  MSDW_Share  \n",
       "Year                                            \n",
       "2000                 이창동        20    0.180180  \n",
       "2001                 김기덕        36    0.305085  "
      ]
     },
     "execution_count": 530,
     "metadata": {},
     "output_type": "execute_result"
    }
   ],
   "source": [
    "yearly_aw.head(2)"
   ]
  },
  {
   "cell_type": "code",
   "execution_count": 532,
   "metadata": {
    "colab": {
     "base_uri": "https://localhost:8080/",
     "height": 148
    },
    "id": "VIHAOT6B1t9k",
    "outputId": "3a32f33b-6607-4626-89f7-a7097d8adf09"
   },
   "outputs": [
    {
     "name": "stdout",
     "output_type": "stream",
     "text": [
      "-135.0 593.0\n"
     ]
    },
    {
     "data": {
      "text/html": [
       "<div>\n",
       "<style scoped>\n",
       "    .dataframe tbody tr th:only-of-type {\n",
       "        vertical-align: middle;\n",
       "    }\n",
       "\n",
       "    .dataframe tbody tr th {\n",
       "        vertical-align: top;\n",
       "    }\n",
       "\n",
       "    .dataframe thead th {\n",
       "        text-align: right;\n",
       "    }\n",
       "</style>\n",
       "<table border=\"1\" class=\"dataframe\">\n",
       "  <thead>\n",
       "    <tr style=\"text-align: right;\">\n",
       "      <th></th>\n",
       "      <th>Awards</th>\n",
       "      <th>Winners</th>\n",
       "      <th>Win_to_Aw</th>\n",
       "      <th>Rec_num</th>\n",
       "      <th>Fest_Unum</th>\n",
       "      <th>Film_UNnum</th>\n",
       "      <th>Best_Director</th>\n",
       "      <th>BDAll_num</th>\n",
       "      <th>BDA_num</th>\n",
       "      <th>BDALL_AW_Ration</th>\n",
       "      <th>BDA_Share</th>\n",
       "      <th>Most_Shown_Director</th>\n",
       "      <th>MSDW_num</th>\n",
       "      <th>MSDW_Share</th>\n",
       "    </tr>\n",
       "    <tr>\n",
       "      <th>Year</th>\n",
       "      <th></th>\n",
       "      <th></th>\n",
       "      <th></th>\n",
       "      <th></th>\n",
       "      <th></th>\n",
       "      <th></th>\n",
       "      <th></th>\n",
       "      <th></th>\n",
       "      <th></th>\n",
       "      <th></th>\n",
       "      <th></th>\n",
       "      <th></th>\n",
       "      <th></th>\n",
       "      <th></th>\n",
       "    </tr>\n",
       "  </thead>\n",
       "  <tbody>\n",
       "    <tr>\n",
       "      <th>2018</th>\n",
       "      <td>613</td>\n",
       "      <td>573</td>\n",
       "      <td>0.934747</td>\n",
       "      <td>3310</td>\n",
       "      <td>402</td>\n",
       "      <td>1578</td>\n",
       "      <td>장준환</td>\n",
       "      <td>39</td>\n",
       "      <td>24</td>\n",
       "      <td>0.615385</td>\n",
       "      <td>0.041885</td>\n",
       "      <td>홍상수</td>\n",
       "      <td>86</td>\n",
       "      <td>0.054499</td>\n",
       "    </tr>\n",
       "  </tbody>\n",
       "</table>\n",
       "</div>"
      ],
      "text/plain": [
       "      Awards  Winners  Win_to_Aw  Rec_num  Fest_Unum  Film_UNnum  \\\n",
       "Year                                                               \n",
       "2018     613      573   0.934747     3310        402        1578   \n",
       "\n",
       "     Best_Director  BDAll_num  BDA_num  BDALL_AW_Ration  BDA_Share  \\\n",
       "Year                                                                 \n",
       "2018           장준환         39       24         0.615385   0.041885   \n",
       "\n",
       "     Most_Shown_Director  MSDW_num  MSDW_Share  \n",
       "Year                                            \n",
       "2018                 홍상수        86    0.054499  "
      ]
     },
     "execution_count": 532,
     "metadata": {},
     "output_type": "execute_result"
    }
   ],
   "source": [
    "q1_awards = yearly_aw['Awards'].quantile(0.25)\n",
    "q3_awards = yearly_aw['Awards'].quantile(0.75)\n",
    "iqr = q3_awards - q1_awards\n",
    "lower_bound = q1_awards - 1.5 * iqr\n",
    "upper_bound = q3_awards + 1.5 * iqr\n",
    "print(lower_bound, upper_bound)\n",
    "\n",
    "yearly_aw[(yearly_aw['Awards'] > upper_bound) | (yearly_aw['Awards'] < lower_bound)] # ура выброс"
   ]
  },
  {
   "cell_type": "code",
   "execution_count": 533,
   "metadata": {
    "colab": {
     "base_uri": "https://localhost:8080/",
     "height": 148
    },
    "id": "c9LUDCwp80N3",
    "outputId": "d7c7c1bf-13d9-4d63-b6ef-3ce86bea426e"
   },
   "outputs": [
    {
     "name": "stdout",
     "output_type": "stream",
     "text": [
      "0.6679951504932208 1.0356943570211028\n"
     ]
    },
    {
     "data": {
      "text/html": [
       "<div>\n",
       "<style scoped>\n",
       "    .dataframe tbody tr th:only-of-type {\n",
       "        vertical-align: middle;\n",
       "    }\n",
       "\n",
       "    .dataframe tbody tr th {\n",
       "        vertical-align: top;\n",
       "    }\n",
       "\n",
       "    .dataframe thead th {\n",
       "        text-align: right;\n",
       "    }\n",
       "</style>\n",
       "<table border=\"1\" class=\"dataframe\">\n",
       "  <thead>\n",
       "    <tr style=\"text-align: right;\">\n",
       "      <th></th>\n",
       "      <th>Awards</th>\n",
       "      <th>Winners</th>\n",
       "      <th>Win_to_Aw</th>\n",
       "      <th>Rec_num</th>\n",
       "      <th>Fest_Unum</th>\n",
       "      <th>Film_UNnum</th>\n",
       "      <th>Best_Director</th>\n",
       "      <th>BDAll_num</th>\n",
       "      <th>BDA_num</th>\n",
       "      <th>BDALL_AW_Ration</th>\n",
       "      <th>BDA_Share</th>\n",
       "      <th>Most_Shown_Director</th>\n",
       "      <th>MSDW_num</th>\n",
       "      <th>MSDW_Share</th>\n",
       "    </tr>\n",
       "    <tr>\n",
       "      <th>Year</th>\n",
       "      <th></th>\n",
       "      <th></th>\n",
       "      <th></th>\n",
       "      <th></th>\n",
       "      <th></th>\n",
       "      <th></th>\n",
       "      <th></th>\n",
       "      <th></th>\n",
       "      <th></th>\n",
       "      <th></th>\n",
       "      <th></th>\n",
       "      <th></th>\n",
       "      <th></th>\n",
       "      <th></th>\n",
       "    </tr>\n",
       "  </thead>\n",
       "  <tbody>\n",
       "    <tr>\n",
       "      <th>2022</th>\n",
       "      <td>386</td>\n",
       "      <td>179</td>\n",
       "      <td>0.463731</td>\n",
       "      <td>2474</td>\n",
       "      <td>321</td>\n",
       "      <td>1220</td>\n",
       "      <td>이수학</td>\n",
       "      <td>20</td>\n",
       "      <td>20</td>\n",
       "      <td>1.0</td>\n",
       "      <td>0.111732</td>\n",
       "      <td>홍상수</td>\n",
       "      <td>63</td>\n",
       "      <td>0.051639</td>\n",
       "    </tr>\n",
       "  </tbody>\n",
       "</table>\n",
       "</div>"
      ],
      "text/plain": [
       "      Awards  Winners  Win_to_Aw  Rec_num  Fest_Unum  Film_UNnum  \\\n",
       "Year                                                               \n",
       "2022     386      179   0.463731     2474        321        1220   \n",
       "\n",
       "     Best_Director  BDAll_num  BDA_num  BDALL_AW_Ration  BDA_Share  \\\n",
       "Year                                                                 \n",
       "2022           이수학         20       20              1.0   0.111732   \n",
       "\n",
       "     Most_Shown_Director  MSDW_num  MSDW_Share  \n",
       "Year                                            \n",
       "2022                 홍상수        63    0.051639  "
      ]
     },
     "execution_count": 533,
     "metadata": {},
     "output_type": "execute_result"
    }
   ],
   "source": [
    "q1_wa = yearly_aw['Win_to_Aw'].quantile(0.25)\n",
    "q3_wa = yearly_aw['Win_to_Aw'].quantile(0.75)\n",
    "iqr_wa = q3_wa - q1_wa\n",
    "lower_bound_wa = q1_wa - 1.5 * iqr_wa\n",
    "upper_bound_wa = q3_wa + 1.5 * iqr_wa\n",
    "print(lower_bound_wa, upper_bound_wa)\n",
    "\n",
    "yearly_aw[(yearly_aw['Win_to_Aw'] < lower_bound_wa) |(yearly_aw['Win_to_Aw'] > upper_bound_wa)] # выброс"
   ]
  },
  {
   "cell_type": "code",
   "execution_count": 536,
   "metadata": {
    "colab": {
     "base_uri": "https://localhost:8080/",
     "height": 148
    },
    "id": "cl9OkwKIEdq2",
    "outputId": "1907758a-571b-4b4d-bfcb-6673cd6f21bd"
   },
   "outputs": [
    {
     "name": "stdout",
     "output_type": "stream",
     "text": [
      "-0.05485542498051696 0.2924130355938389\n"
     ]
    },
    {
     "data": {
      "text/html": [
       "<div>\n",
       "<style scoped>\n",
       "    .dataframe tbody tr th:only-of-type {\n",
       "        vertical-align: middle;\n",
       "    }\n",
       "\n",
       "    .dataframe tbody tr th {\n",
       "        vertical-align: top;\n",
       "    }\n",
       "\n",
       "    .dataframe thead th {\n",
       "        text-align: right;\n",
       "    }\n",
       "</style>\n",
       "<table border=\"1\" class=\"dataframe\">\n",
       "  <thead>\n",
       "    <tr style=\"text-align: right;\">\n",
       "      <th></th>\n",
       "      <th>Awards</th>\n",
       "      <th>Winners</th>\n",
       "      <th>Win_to_Aw</th>\n",
       "      <th>Rec_num</th>\n",
       "      <th>Fest_Unum</th>\n",
       "      <th>Film_UNnum</th>\n",
       "      <th>Best_Director</th>\n",
       "      <th>BDAll_num</th>\n",
       "      <th>BDA_num</th>\n",
       "      <th>BDALL_AW_Ration</th>\n",
       "      <th>BDA_Share</th>\n",
       "      <th>Most_Shown_Director</th>\n",
       "      <th>MSDW_num</th>\n",
       "      <th>MSDW_Share</th>\n",
       "    </tr>\n",
       "    <tr>\n",
       "      <th>Year</th>\n",
       "      <th></th>\n",
       "      <th></th>\n",
       "      <th></th>\n",
       "      <th></th>\n",
       "      <th></th>\n",
       "      <th></th>\n",
       "      <th></th>\n",
       "      <th></th>\n",
       "      <th></th>\n",
       "      <th></th>\n",
       "      <th></th>\n",
       "      <th></th>\n",
       "      <th></th>\n",
       "      <th></th>\n",
       "    </tr>\n",
       "  </thead>\n",
       "  <tbody>\n",
       "    <tr>\n",
       "      <th>2025</th>\n",
       "      <td>16</td>\n",
       "      <td>16</td>\n",
       "      <td>1.0</td>\n",
       "      <td>93</td>\n",
       "      <td>18</td>\n",
       "      <td>76</td>\n",
       "      <td>장재현</td>\n",
       "      <td>12</td>\n",
       "      <td>11</td>\n",
       "      <td>0.916667</td>\n",
       "      <td>0.6875</td>\n",
       "      <td>장재현</td>\n",
       "      <td>12</td>\n",
       "      <td>0.157895</td>\n",
       "    </tr>\n",
       "  </tbody>\n",
       "</table>\n",
       "</div>"
      ],
      "text/plain": [
       "      Awards  Winners  Win_to_Aw  Rec_num  Fest_Unum  Film_UNnum  \\\n",
       "Year                                                               \n",
       "2025      16       16        1.0       93         18          76   \n",
       "\n",
       "     Best_Director  BDAll_num  BDA_num  BDALL_AW_Ration  BDA_Share  \\\n",
       "Year                                                                 \n",
       "2025           장재현         12       11         0.916667     0.6875   \n",
       "\n",
       "     Most_Shown_Director  MSDW_num  MSDW_Share  \n",
       "Year                                            \n",
       "2025                 장재현        12    0.157895  "
      ]
     },
     "execution_count": 536,
     "metadata": {},
     "output_type": "execute_result"
    }
   ],
   "source": [
    "q1_bda_share = yearly_aw['BDA_Share'].quantile(0.25)\n",
    "q3_bda_share = yearly_aw['BDA_Share'].quantile(0.75)\n",
    "iqr_bda = q3_bda_share - q1_bda_share\n",
    "lower_bound_bda = q1_bda_share - 1.5 * iqr_bda\n",
    "upper_bound_bda = q3_bda_share + 1.5 * iqr_bda\n",
    "print(lower_bound_bda, upper_bound_bda)\n",
    "\n",
    "yearly_aw[(yearly_aw['BDA_Share'] < lower_bound_bda)|(yearly_aw['BDA_Share'] > upper_bound_bda)] # 2025 год выброс"
   ]
  },
  {
   "cell_type": "code",
   "execution_count": 537,
   "metadata": {
    "colab": {
     "base_uri": "https://localhost:8080/",
     "height": 165
    },
    "id": "ngVtsy_sDEAx",
    "outputId": "df9eb3e2-a1d6-4ff3-c12d-05ef57a02f2b"
   },
   "outputs": [
    {
     "name": "stdout",
     "output_type": "stream",
     "text": [
      "0.1346877882162831 0.12843995691809776\n",
      "-0.12219212561991241 0.3915677020524786\n"
     ]
    },
    {
     "data": {
      "text/html": [
       "<div>\n",
       "<style scoped>\n",
       "    .dataframe tbody tr th:only-of-type {\n",
       "        vertical-align: middle;\n",
       "    }\n",
       "\n",
       "    .dataframe tbody tr th {\n",
       "        vertical-align: top;\n",
       "    }\n",
       "\n",
       "    .dataframe thead th {\n",
       "        text-align: right;\n",
       "    }\n",
       "</style>\n",
       "<table border=\"1\" class=\"dataframe\">\n",
       "  <thead>\n",
       "    <tr style=\"text-align: right;\">\n",
       "      <th></th>\n",
       "      <th>Awards</th>\n",
       "      <th>Winners</th>\n",
       "      <th>Win_to_Aw</th>\n",
       "      <th>Rec_num</th>\n",
       "      <th>Fest_Unum</th>\n",
       "      <th>Film_UNnum</th>\n",
       "      <th>Best_Director</th>\n",
       "      <th>BDAll_num</th>\n",
       "      <th>BDA_num</th>\n",
       "      <th>BDALL_AW_Ration</th>\n",
       "      <th>BDA_Share</th>\n",
       "      <th>Most_Shown_Director</th>\n",
       "      <th>MSDW_num</th>\n",
       "      <th>MSDW_Share</th>\n",
       "    </tr>\n",
       "    <tr>\n",
       "      <th>Year</th>\n",
       "      <th></th>\n",
       "      <th></th>\n",
       "      <th></th>\n",
       "      <th></th>\n",
       "      <th></th>\n",
       "      <th></th>\n",
       "      <th></th>\n",
       "      <th></th>\n",
       "      <th></th>\n",
       "      <th></th>\n",
       "      <th></th>\n",
       "      <th></th>\n",
       "      <th></th>\n",
       "      <th></th>\n",
       "    </tr>\n",
       "  </thead>\n",
       "  <tbody>\n",
       "    <tr>\n",
       "      <th>2025</th>\n",
       "      <td>16</td>\n",
       "      <td>16</td>\n",
       "      <td>1.0</td>\n",
       "      <td>93</td>\n",
       "      <td>18</td>\n",
       "      <td>76</td>\n",
       "      <td>장재현</td>\n",
       "      <td>12</td>\n",
       "      <td>11</td>\n",
       "      <td>0.916667</td>\n",
       "      <td>0.6875</td>\n",
       "      <td>장재현</td>\n",
       "      <td>12</td>\n",
       "      <td>0.157895</td>\n",
       "    </tr>\n",
       "  </tbody>\n",
       "</table>\n",
       "</div>"
      ],
      "text/plain": [
       "      Awards  Winners  Win_to_Aw  Rec_num  Fest_Unum  Film_UNnum  \\\n",
       "Year                                                               \n",
       "2025      16       16        1.0       93         18          76   \n",
       "\n",
       "     Best_Director  BDAll_num  BDA_num  BDALL_AW_Ration  BDA_Share  \\\n",
       "Year                                                                 \n",
       "2025           장재현         12       11         0.916667     0.6875   \n",
       "\n",
       "     Most_Shown_Director  MSDW_num  MSDW_Share  \n",
       "Year                                            \n",
       "2025                 장재현        12    0.157895  "
      ]
     },
     "execution_count": 537,
     "metadata": {},
     "output_type": "execute_result"
    }
   ],
   "source": [
    "avg_bda_share = yearly_aw['BDA_Share'].mean()\n",
    "std_bda_share = yearly_aw['BDA_Share'].std()\n",
    "print(avg_bda_share, std_bda_share)\n",
    "\n",
    "lower_bound_bda_share = avg_bda_share - 2 * std_bda_share\n",
    "upper_bound_bda_share = avg_bda_share + 2 * std_bda_share\n",
    "print(lower_bound_bda_share, upper_bound_bda_share)\n",
    "\n",
    "yearly_aw[(yearly_aw['BDA_Share'] < lower_bound_bda_share) | (yearly_aw['BDA_Share'] > upper_bound_bda_share)]\n",
    "# наконец можем официально избавиться от 2025 г.\n",
    "# мешает нашей статистике, тк очень высокое отношение работ лучшего режиссера ко всем наград из-за маленького кол-ва наблюдений"
   ]
  },
  {
   "cell_type": "code",
   "execution_count": 540,
   "metadata": {
    "colab": {
     "base_uri": "https://localhost:8080/"
    },
    "id": "QbVqmpU_6vs1",
    "outputId": "54f7742e-6cfb-4c97-9d72-176ecf97c009"
   },
   "outputs": [
    {
     "data": {
      "text/plain": [
       "array([2005, 2004, 2003, 2002, 2001, 2000, 2010, 2009, 2008, 2007, 2006,\n",
       "       2013, 2012, 2011, 2015, 2014, 2016, 2017, 2018, 2019, 2021, 2020,\n",
       "       2023, 2022, 2024])"
      ]
     },
     "execution_count": 540,
     "metadata": {},
     "output_type": "execute_result"
    }
   ],
   "source": [
    "raw_data.drop(raw_data[raw_data['Year'] == 2025].index, inplace=True)\n",
    "raw_data['Year'].unique() # убедимся, что данных за 2025 год больше нет"
   ]
  },
  {
   "cell_type": "markdown",
   "metadata": {
    "id": "8JGw_79Zrc0J"
   },
   "source": [
    "## **Анализ корреляций**"
   ]
  },
  {
   "cell_type": "code",
   "execution_count": 543,
   "metadata": {
    "colab": {
     "base_uri": "https://localhost:8080/",
     "height": 441
    },
    "id": "Z3S70OTyrSjK",
    "outputId": "58cc99fd-fa4f-4825-8185-178e803b65ad"
   },
   "outputs": [
    {
     "data": {
      "image/png": "[encoded data removed]",
      "text/plain": [
       "<Figure size 1500x400 with 2 Axes>"
      ]
     },
     "metadata": {},
     "output_type": "display_data"
    }
   ],
   "source": [
    "plt.figure(figsize=(15, 4))\n",
    "sns.heatmap(yearly_aw.corr(numeric_only = True), annot=True, cmap='RdBu_r')\n",
    "plt.show()"
   ]
  },
  {
   "cell_type": "markdown",
   "metadata": {
    "id": "virzMyb8ufen"
   },
   "source": [
    "**Проанализируем матрицу корелляций**\n",
    "\n",
    "По матрице можно заметить:\n",
    "* сильную положительную корелляцию между кол-вом номинаций  **`Awards`**, наград **`Winners`** и кол-вом проводимых фестивалей **`Fest_Unum`**, представленных фильмов **`Film_UNnum`** *-> (прямая линейная взаимосвязь)*\n",
    "\n",
    "* сильную отрицательную корелляцию между кол-вом записей **`Rec_num`**, уникальных фильмов **`Film_UNnum`** и долей, которую от них занимают данные о фильмах топ-режиссеров данного года **`(BDA_Share)`** (чем больше фильмов, тем меньшую долю из низ составляют фильмы самого успешного автора) *-> (обратная линейная взаимосвязь)*"
   ]
  },
  {
   "cell_type": "markdown",
   "metadata": {
    "id": "3Zjqp52YxVkC"
   },
   "source": [
    "## **Визуализация данных**"
   ]
  },
  {
   "cell_type": "code",
   "execution_count": 547,
   "metadata": {},
   "outputs": [
    {
     "data": {
      "text/html": [
       "<div>\n",
       "<style scoped>\n",
       "    .dataframe tbody tr th:only-of-type {\n",
       "        vertical-align: middle;\n",
       "    }\n",
       "\n",
       "    .dataframe tbody tr th {\n",
       "        vertical-align: top;\n",
       "    }\n",
       "\n",
       "    .dataframe thead th {\n",
       "        text-align: right;\n",
       "    }\n",
       "</style>\n",
       "<table border=\"1\" class=\"dataframe\">\n",
       "  <thead>\n",
       "    <tr style=\"text-align: right;\">\n",
       "      <th></th>\n",
       "      <th>Awards</th>\n",
       "      <th>Winners</th>\n",
       "      <th>Win_to_Aw</th>\n",
       "      <th>Rec_num</th>\n",
       "      <th>Fest_Unum</th>\n",
       "      <th>Film_UNnum</th>\n",
       "      <th>Best_Director</th>\n",
       "      <th>BDAll_num</th>\n",
       "      <th>BDA_num</th>\n",
       "      <th>BDALL_AW_Ration</th>\n",
       "      <th>BDA_Share</th>\n",
       "      <th>Most_Shown_Director</th>\n",
       "      <th>MSDW_num</th>\n",
       "      <th>MSDW_Share</th>\n",
       "    </tr>\n",
       "    <tr>\n",
       "      <th>Year</th>\n",
       "      <th></th>\n",
       "      <th></th>\n",
       "      <th></th>\n",
       "      <th></th>\n",
       "      <th></th>\n",
       "      <th></th>\n",
       "      <th></th>\n",
       "      <th></th>\n",
       "      <th></th>\n",
       "      <th></th>\n",
       "      <th></th>\n",
       "      <th></th>\n",
       "      <th></th>\n",
       "      <th></th>\n",
       "    </tr>\n",
       "  </thead>\n",
       "  <tbody>\n",
       "    <tr>\n",
       "      <th>2000</th>\n",
       "      <td>85</td>\n",
       "      <td>70</td>\n",
       "      <td>0.823529</td>\n",
       "      <td>354</td>\n",
       "      <td>122</td>\n",
       "      <td>111</td>\n",
       "      <td>박찬욱</td>\n",
       "      <td>15</td>\n",
       "      <td>13</td>\n",
       "      <td>0.866667</td>\n",
       "      <td>0.185714</td>\n",
       "      <td>이창동</td>\n",
       "      <td>20</td>\n",
       "      <td>0.180180</td>\n",
       "    </tr>\n",
       "    <tr>\n",
       "      <th>2001</th>\n",
       "      <td>79</td>\n",
       "      <td>68</td>\n",
       "      <td>0.860759</td>\n",
       "      <td>354</td>\n",
       "      <td>91</td>\n",
       "      <td>118</td>\n",
       "      <td>정재은</td>\n",
       "      <td>9</td>\n",
       "      <td>9</td>\n",
       "      <td>1.000000</td>\n",
       "      <td>0.132353</td>\n",
       "      <td>김기덕</td>\n",
       "      <td>36</td>\n",
       "      <td>0.305085</td>\n",
       "    </tr>\n",
       "    <tr>\n",
       "      <th>2002</th>\n",
       "      <td>96</td>\n",
       "      <td>86</td>\n",
       "      <td>0.895833</td>\n",
       "      <td>362</td>\n",
       "      <td>105</td>\n",
       "      <td>110</td>\n",
       "      <td>이창동</td>\n",
       "      <td>19</td>\n",
       "      <td>14</td>\n",
       "      <td>0.736842</td>\n",
       "      <td>0.162791</td>\n",
       "      <td>김기덕</td>\n",
       "      <td>48</td>\n",
       "      <td>0.436364</td>\n",
       "    </tr>\n",
       "    <tr>\n",
       "      <th>2003</th>\n",
       "      <td>135</td>\n",
       "      <td>108</td>\n",
       "      <td>0.800000</td>\n",
       "      <td>530</td>\n",
       "      <td>182</td>\n",
       "      <td>147</td>\n",
       "      <td>봉준호</td>\n",
       "      <td>31</td>\n",
       "      <td>23</td>\n",
       "      <td>0.741935</td>\n",
       "      <td>0.212963</td>\n",
       "      <td>봉준호</td>\n",
       "      <td>31</td>\n",
       "      <td>0.210884</td>\n",
       "    </tr>\n",
       "    <tr>\n",
       "      <th>2004</th>\n",
       "      <td>153</td>\n",
       "      <td>126</td>\n",
       "      <td>0.823529</td>\n",
       "      <td>581</td>\n",
       "      <td>168</td>\n",
       "      <td>183</td>\n",
       "      <td>박찬욱</td>\n",
       "      <td>52</td>\n",
       "      <td>34</td>\n",
       "      <td>0.653846</td>\n",
       "      <td>0.269841</td>\n",
       "      <td>김기덕</td>\n",
       "      <td>54</td>\n",
       "      <td>0.295082</td>\n",
       "    </tr>\n",
       "  </tbody>\n",
       "</table>\n",
       "</div>"
      ],
      "text/plain": [
       "      Awards  Winners  Win_to_Aw  Rec_num  Fest_Unum  Film_UNnum  \\\n",
       "Year                                                               \n",
       "2000      85       70   0.823529      354        122         111   \n",
       "2001      79       68   0.860759      354         91         118   \n",
       "2002      96       86   0.895833      362        105         110   \n",
       "2003     135      108   0.800000      530        182         147   \n",
       "2004     153      126   0.823529      581        168         183   \n",
       "\n",
       "     Best_Director  BDAll_num  BDA_num  BDALL_AW_Ration  BDA_Share  \\\n",
       "Year                                                                 \n",
       "2000           박찬욱         15       13         0.866667   0.185714   \n",
       "2001           정재은          9        9         1.000000   0.132353   \n",
       "2002           이창동         19       14         0.736842   0.162791   \n",
       "2003           봉준호         31       23         0.741935   0.212963   \n",
       "2004           박찬욱         52       34         0.653846   0.269841   \n",
       "\n",
       "     Most_Shown_Director  MSDW_num  MSDW_Share  \n",
       "Year                                            \n",
       "2000                 이창동        20    0.180180  \n",
       "2001                 김기덕        36    0.305085  \n",
       "2002                 김기덕        48    0.436364  \n",
       "2003                 봉준호        31    0.210884  \n",
       "2004                 김기덕        54    0.295082  "
      ]
     },
     "execution_count": 547,
     "metadata": {},
     "output_type": "execute_result"
    }
   ],
   "source": [
    "yearly_aw.head()"
   ]
  },
  {
   "cell_type": "code",
   "execution_count": 549,
   "metadata": {
    "colab": {
     "base_uri": "https://localhost:8080/",
     "height": 447
    },
    "id": "sjRXod1QuzsI",
    "outputId": "04fbbfb7-8aea-42b1-b273-6d729fcb4181"
   },
   "outputs": [
    {
     "data": {
      "text/plain": [
       "<Axes: >"
      ]
     },
     "execution_count": 549,
     "metadata": {},
     "output_type": "execute_result"
    },
    {
     "data": {
      "image/png": "[encoded data removed]",
      "text/plain": [
       "<Figure size 640x480 with 1 Axes>"
      ]
     },
     "metadata": {},
     "output_type": "display_data"
    }
   ],
   "source": [
    "yearly_aw['Win_to_Aw'].plot(kind = 'box', vert = False) # нашли выброс"
   ]
  },
  {
   "cell_type": "code",
   "execution_count": 551,
   "metadata": {
    "id": "b4DE-8S22Ex1"
   },
   "outputs": [],
   "source": [
    "import matplotlib.pyplot as plt\n",
    "import seaborn as sns\n",
    "import matplotlib.font_manager as fm"
   ]
  },
  {
   "cell_type": "code",
   "execution_count": 553,
   "metadata": {
    "colab": {
     "base_uri": "https://localhost:8080/",
     "height": 410
    },
    "id": "0M7nvXG8zgHP",
    "outputId": "25949f76-bba9-4990-b92c-06dea0c90d03"
   },
   "outputs": [
    {
     "data": {
      "image/png": "[encoded data removed]",
      "text/plain": [
       "<Figure size 800x400 with 1 Axes>"
      ]
     },
     "metadata": {},
     "output_type": "display_data"
    }
   ],
   "source": [
    "yearly_aw['Winners'].plot(kind='line', figsize=(8, 4), title='Winners number during the 25-years period')\n",
    "plt.gca().spines[['top', 'right']].set_visible(False)"
   ]
  },
  {
   "cell_type": "code",
   "execution_count": 555,
   "metadata": {
    "colab": {
     "base_uri": "https://localhost:8080/",
     "height": 410
    },
    "id": "B0h8XITvzd1j",
    "outputId": "b4f2af08-fedb-438d-c2e6-2c950ca4ec96"
   },
   "outputs": [
    {
     "data": {
      "image/png": "[encoded data removed]",
      "text/plain": [
       "<Figure size 800x400 with 1 Axes>"
      ]
     },
     "metadata": {},
     "output_type": "display_data"
    }
   ],
   "source": [
    "yearly_aw['Rec_num'].plot(kind='line', figsize=(8, 4), title='Rec_num')\n",
    "plt.gca().spines[['top', 'right']].set_visible(False)"
   ]
  },
  {
   "cell_type": "code",
   "execution_count": 557,
   "metadata": {
    "colab": {
     "base_uri": "https://localhost:8080/",
     "height": 467
    },
    "id": "FS1FrfIIzIBP",
    "outputId": "e341978a-f9c1-4e9b-82e4-b18486736f3a"
   },
   "outputs": [
    {
     "data": {
      "text/plain": [
       "<Axes: xlabel='BDA_Share', ylabel='Fest_Unum'>"
      ]
     },
     "execution_count": 557,
     "metadata": {},
     "output_type": "execute_result"
    },
    {
     "data": {
      "image/png": "[encoded data removed]",
      "text/plain": [
       "<Figure size 640x480 with 1 Axes>"
      ]
     },
     "metadata": {},
     "output_type": "display_data"
    }
   ],
   "source": [
    "yearly_aw.plot('BDA_Share', 'Fest_Unum', kind = \"scatter\")"
   ]
  },
  {
   "cell_type": "code",
   "execution_count": 559,
   "metadata": {
    "colab": {
     "base_uri": "https://localhost:8080/",
     "height": 466
    },
    "id": "pZiSWe2S0SGG",
    "outputId": "d1229301-9f0c-49f5-bd45-f120a1e3efac"
   },
   "outputs": [
    {
     "data": {
      "text/plain": [
       "<Axes: xlabel='Rec_num', ylabel='Film_UNnum'>"
      ]
     },
     "execution_count": 559,
     "metadata": {},
     "output_type": "execute_result"
    },
    {
     "data": {
      "image/png": "[encoded data removed]",
      "text/plain": [
       "<Figure size 640x480 with 1 Axes>"
      ]
     },
     "metadata": {},
     "output_type": "display_data"
    }
   ],
   "source": [
    "yearly_aw.plot('Rec_num', 'Film_UNnum', kind = \"scatter\")\n"
   ]
  },
  {
   "cell_type": "code",
   "execution_count": 561,
   "metadata": {
    "colab": {
     "base_uri": "https://localhost:8080/",
     "height": 447
    },
    "id": "Si8mXrcC0Hr_",
    "outputId": "c325abfe-ff02-4d7f-b9a6-891515d4138e"
   },
   "outputs": [
    {
     "data": {
      "text/plain": [
       "<Axes: ylabel='Frequency'>"
      ]
     },
     "execution_count": 561,
     "metadata": {},
     "output_type": "execute_result"
    },
    {
     "data": {
      "image/png": "[encoded data removed]",
      "text/plain": [
       "<Figure size 640x480 with 1 Axes>"
      ]
     },
     "metadata": {},
     "output_type": "display_data"
    }
   ],
   "source": [
    "yearly_aw['BDALL_AW_Ration'].plot(kind='hist')"
   ]
  },
  {
   "cell_type": "code",
   "execution_count": 563,
   "metadata": {},
   "outputs": [
    {
     "data": {
      "text/plain": [
       "Director\n",
       "봉준호    148\n",
       "박찬욱    108\n",
       "이준익    105\n",
       "이창동     66\n",
       "김보라     54\n",
       "홍상수     54\n",
       "나홍진     53\n",
       "김용화     50\n",
       "윤종빈     49\n",
       "김지운     49\n",
       "Name: count, dtype: int64"
      ]
     },
     "execution_count": 563,
     "metadata": {},
     "output_type": "execute_result"
    }
   ],
   "source": [
    "top_10 = df['Director'].value_counts()[:10]\n",
    "top_10"
   ]
  },
  {
   "cell_type": "code",
   "execution_count": 565,
   "metadata": {},
   "outputs": [
    {
     "data": {
      "image/png": "[encoded data removed]",
      "text/plain": [
       "<Figure size 1400x600 with 1 Axes>"
      ]
     },
     "metadata": {},
     "output_type": "display_data"
    }
   ],
   "source": [
    "custom_fonts = {\n",
    "    'font.family': 'AppleGothic',\n",
    "    'font.size': 14\n",
    "}\n",
    "\n",
    "legend_font = fm.FontProperties(fname='/System/Library/Fonts/Supplemental/Georgia.ttf', size=12)\n",
    "font_for_axes = {'family': 'Arial', 'size': 14, 'weight': 'regular'}\n",
    "font_for_title = {'family': 'Arial', 'size': 18, 'weight': 'bold'}\n",
    "\n",
    "with plt.rc_context(rc=custom_fonts):\n",
    "    plt.figure(figsize=(14, 6))\n",
    "    plt.barh(top_10.index, top_10.values, color='skyblue', edgecolor='black', label='Кол-во наград')\n",
    "    plt.xlabel('Количество наград', fontdict=font_for_axes)\n",
    "    plt.ylabel('Режиссер', fontdict=font_for_axes)\n",
    "    plt.title('Топ 10 режиссеров по количеству наград', fontdict=font_for_title)\n",
    "    plt.legend(prop=legend_font)\n",
    "    plt.gca().invert_yaxis()\n",
    "    plt.show()"
   ]
  },
  {
   "cell_type": "markdown",
   "metadata": {
    "id": "pvib1mcwA84s"
   },
   "source": [
    "## **Формулировка и проверка гипотез**"
   ]
  },
  {
   "cell_type": "markdown",
   "metadata": {},
   "source": [
    "Следующая часть работы изначально была выполнена в другом блокноте, поэтому было необходимо импортировать обработанные в этом файле данные, что мы и сделали ниже."
   ]
  },
  {
   "cell_type": "code",
   "execution_count": 569,
   "metadata": {
    "id": "4-Yt8P0yI2wo"
   },
   "outputs": [],
   "source": [
    "yearly_aw.to_csv('sup_table.csv')"
   ]
  },
  {
   "cell_type": "code",
   "execution_count": 571,
   "metadata": {},
   "outputs": [],
   "source": [
    "df.to_csv('fixed_data.csv')"
   ]
  },
  {
   "cell_type": "code",
   "execution_count": 573,
   "metadata": {},
   "outputs": [],
   "source": [
    "raw_data.to_csv('raw_data.csv')"
   ]
  },
  {
   "cell_type": "markdown",
   "metadata": {},
   "source": [
    "Даллее мы снова обрабатывала данные, чтобы подготовить выборку для выдвижения и тестирования гипотез. 2 блокнота позже были объединены в один."
   ]
  },
  {
   "cell_type": "markdown",
   "metadata": {},
   "source": [
    "## **Обработка данных, подготовка выборки**"
   ]
  },
  {
   "cell_type": "markdown",
   "metadata": {},
   "source": [
    "**1. В основе выборки будет лежать наш изначальный датасет `raw_data`**"
   ]
  },
  {
   "cell_type": "code",
   "execution_count": 578,
   "metadata": {},
   "outputs": [
    {
     "data": {
      "text/html": [
       "<div>\n",
       "<style scoped>\n",
       "    .dataframe tbody tr th:only-of-type {\n",
       "        vertical-align: middle;\n",
       "    }\n",
       "\n",
       "    .dataframe tbody tr th {\n",
       "        vertical-align: top;\n",
       "    }\n",
       "\n",
       "    .dataframe thead th {\n",
       "        text-align: right;\n",
       "    }\n",
       "</style>\n",
       "<table border=\"1\" class=\"dataframe\">\n",
       "  <thead>\n",
       "    <tr style=\"text-align: right;\">\n",
       "      <th></th>\n",
       "      <th>Unnamed: 0</th>\n",
       "      <th>Year</th>\n",
       "      <th>Fest Name</th>\n",
       "      <th>Genre</th>\n",
       "      <th>Film</th>\n",
       "      <th>Director</th>\n",
       "      <th>Nomination</th>\n",
       "      <th>Award</th>\n",
       "      <th>Winner</th>\n",
       "    </tr>\n",
       "  </thead>\n",
       "  <tbody>\n",
       "    <tr>\n",
       "      <th>0</th>\n",
       "      <td>0</td>\n",
       "      <td>2005</td>\n",
       "      <td>카이로 국제영화제</td>\n",
       "      <td>일반(종합)</td>\n",
       "      <td>제니, 주노</td>\n",
       "      <td>김호준</td>\n",
       "      <td>NaN</td>\n",
       "      <td>NaN</td>\n",
       "      <td>NaN</td>\n",
       "    </tr>\n",
       "  </tbody>\n",
       "</table>\n",
       "</div>"
      ],
      "text/plain": [
       "   Unnamed: 0  Year  Fest Name   Genre    Film Director Nomination Award  \\\n",
       "0           0  2005  카이로 국제영화제  일반(종합)  제니, 주노      김호준        NaN   NaN   \n",
       "\n",
       "  Winner  \n",
       "0    NaN  "
      ]
     },
     "execution_count": 578,
     "metadata": {},
     "output_type": "execute_result"
    }
   ],
   "source": [
    "alldata = pd.read_csv('/Users/xexinette/Downloads/raw_data.csv')\n",
    "alldata.head(1)"
   ]
  },
  {
   "cell_type": "markdown",
   "metadata": {},
   "source": [
    "**2. Возьмем созданный на предыдущем этапе датафрейм `yearly_aw`**\n",
    "\n",
    "Сейчас нас интересуют из него 2 колонки:\n",
    "- **`Best_Director`** (**BDA**) – режиссер, получивший больше всего наград в этом году.    \n",
    "- **`Most_Shown_Director`** (**MSD**) – режиссер, чьи фильмы чаще всего участвовали в фестивалях в этом году (независимо от наград).  \n",
    "\n"
   ]
  },
  {
   "cell_type": "code",
   "execution_count": 581,
   "metadata": {},
   "outputs": [
    {
     "data": {
      "text/html": [
       "<div>\n",
       "<style scoped>\n",
       "    .dataframe tbody tr th:only-of-type {\n",
       "        vertical-align: middle;\n",
       "    }\n",
       "\n",
       "    .dataframe tbody tr th {\n",
       "        vertical-align: top;\n",
       "    }\n",
       "\n",
       "    .dataframe thead th {\n",
       "        text-align: right;\n",
       "    }\n",
       "</style>\n",
       "<table border=\"1\" class=\"dataframe\">\n",
       "  <thead>\n",
       "    <tr style=\"text-align: right;\">\n",
       "      <th></th>\n",
       "      <th>Year</th>\n",
       "      <th>Awards</th>\n",
       "      <th>Winners</th>\n",
       "      <th>Win_to_Aw</th>\n",
       "      <th>Rec_num</th>\n",
       "      <th>Fest_Unum</th>\n",
       "      <th>Film_UNnum</th>\n",
       "      <th>Best_Director</th>\n",
       "      <th>BDAll_num</th>\n",
       "      <th>BDA_num</th>\n",
       "      <th>BDALL_AW_Ration</th>\n",
       "      <th>BDA_Share</th>\n",
       "      <th>Most_Shown_Director</th>\n",
       "      <th>MSDW_num</th>\n",
       "      <th>MSDW_Share</th>\n",
       "    </tr>\n",
       "  </thead>\n",
       "  <tbody>\n",
       "    <tr>\n",
       "      <th>0</th>\n",
       "      <td>2000</td>\n",
       "      <td>85</td>\n",
       "      <td>70</td>\n",
       "      <td>0.823529</td>\n",
       "      <td>354</td>\n",
       "      <td>122</td>\n",
       "      <td>111</td>\n",
       "      <td>박찬욱</td>\n",
       "      <td>15</td>\n",
       "      <td>13</td>\n",
       "      <td>0.866667</td>\n",
       "      <td>0.185714</td>\n",
       "      <td>이창동</td>\n",
       "      <td>20</td>\n",
       "      <td>0.18018</td>\n",
       "    </tr>\n",
       "  </tbody>\n",
       "</table>\n",
       "</div>"
      ],
      "text/plain": [
       "   Year  Awards  Winners  Win_to_Aw  Rec_num  Fest_Unum  Film_UNnum  \\\n",
       "0  2000      85       70   0.823529      354        122         111   \n",
       "\n",
       "  Best_Director  BDAll_num  BDA_num  BDALL_AW_Ration  BDA_Share  \\\n",
       "0           박찬욱         15       13         0.866667   0.185714   \n",
       "\n",
       "  Most_Shown_Director  MSDW_num  MSDW_Share  \n",
       "0                 이창동        20     0.18018  "
      ]
     },
     "execution_count": 581,
     "metadata": {},
     "output_type": "execute_result"
    }
   ],
   "source": [
    "data = pd.read_csv('/Users/xexinette/Downloads/sup_table.csv')\n",
    "data.head(1)"
   ]
  },
  {
   "cell_type": "markdown",
   "metadata": {},
   "source": [
    "### **3. Создадим новые признаки:**\n",
    "\n",
    "* **Постараемся определить `страну проведения фестивалей` хотя бы для `половины` записей.**\n",
    "\n",
    "Для этого:\n",
    "\n",
    "а) Сначала избавимя от дублирующихся фестивалей, которые могли появиться в результате проставленных пробелов (в кор. языке, особенно в названиях, часто допустимо ставить или не ставить пробел на усмотрение пишущего);"
   ]
  },
  {
   "cell_type": "code",
   "execution_count": 584,
   "metadata": {},
   "outputs": [],
   "source": [
    "alldata['Fest Name'] = alldata['Fest Name'].apply(lambda x: x.replace(' ', '') if isinstance(x, str) else x)"
   ]
  },
  {
   "cell_type": "markdown",
   "metadata": {},
   "source": [
    "б) Соберем словарь с название стран для фестивалей по ключевым словам - названиям корейских городов;"
   ]
  },
  {
   "cell_type": "code",
   "execution_count": 587,
   "metadata": {},
   "outputs": [],
   "source": [
    "festival_to_country = {}\n",
    "korean_cities = ['서울', '부산', '대구', '전주', '광주', '인천', '제주', '강릉', '대전', '대한민국']\n",
    "for x in alldata['Fest Name']:\n",
    "    for city in korean_cities:\n",
    "        if city in x:\n",
    "            festival_to_country[x] = 'South Korea'"
   ]
  },
  {
   "cell_type": "markdown",
   "metadata": {},
   "source": [
    "в) Смотрим, какие фестивали из `топ-50` по числу записей о них не попали в словарь и **вручную** заносим их туда;"
   ]
  },
  {
   "cell_type": "code",
   "execution_count": 598,
   "metadata": {},
   "outputs": [
    {
     "name": "stdout",
     "output_type": "stream",
     "text": [
      "부천국제판타스틱영화제\n",
      "대단한단편영화제\n",
      "피렌체한국영화제\n",
      "미쟝센단편영화제\n",
      "정동진독립영화제\n",
      "DMZ국제다큐멘터리영화제\n",
      "파리한국영화제\n",
      "청룡영화상\n",
      "제천국제음악영화제\n",
      "판타지아국제영화제\n",
      "런던한국영화제\n",
      "무주산골영화제\n",
      "여성인권영화제\n",
      "우디네극동영화제\n",
      "인디다큐페스티발\n",
      "백상예술대상\n",
      "한국영화평론가협회상\n",
      "뉴욕아시안영화제\n",
      "인디포럼\n",
      "광화문국제단편영화제\n",
      "대종상영화제\n",
      "부천국제애니메이션페스티벌\n",
      "헝가리한국영화제\n",
      "황금촬영상시상식\n",
      "전북독립영화제\n",
      "시체스국제판타스틱영화제\n",
      "한국퀴어영화제\n",
      "부일영화상\n",
      "상하이국제영화제\n"
     ]
    }
   ],
   "source": [
    "top_50_fest = alldata['Fest Name'].value_counts().head(50).reset_index()\n",
    "for i in top_50_fest['Fest Name']:\n",
    "    if i not in festival_to_country.keys():\n",
    "        print(i)"
   ]
  },
  {
   "cell_type": "code",
   "execution_count": 600,
   "metadata": {},
   "outputs": [
    {
     "data": {
      "text/plain": [
       "109"
      ]
     },
     "execution_count": 600,
     "metadata": {},
     "output_type": "execute_result"
    }
   ],
   "source": [
    "festival_to_country.update({\n",
    "    '부천국제판타스틱영화제': 'South Korea',\n",
    "    '케이프타운세계영화제': 'South Africa',  # некоторые фестивали не были в топ-50, но их легко было заметить при просмотре \n",
    "                                        # датасета, так что их тоже вносим для увеличения выборки\n",
    "    '대단한단편영화제': 'South Korea', \n",
    "    '미쟝센단편영화제': 'South Korea',\n",
    "    '정동진독립영화제': 'South Korea',\n",
    "    'DMZ국제다큐멘터리영화제': 'South Korea',\n",
    "    '청룡영화상': 'South Korea',\n",
    "    '제천국제음악영화제': 'South Korea',\n",
    "    '네팔국제영화제': 'Nepal',\n",
    "    '판타지아국제영화제': 'Canada',\n",
    "    '무주산골영화제': 'South Korea',\n",
    "    '여성인권영화제': 'South Korea',\n",
    "    '우디네극동영화제': 'Italy',\n",
    "    'FairyTales퀴어영화제': 'Canada',\n",
    "    '인디다큐페스티발': 'South Korea',\n",
    "    '시애틀영화제': 'USA',\n",
    "    '백상예술대상': 'South Korea',\n",
    "    '뉴욕아시안영화제': 'USA',\n",
    "    '인디포럼': 'South Korea',\n",
    "    '광화문국제단편영화제': 'South Korea',\n",
    "    '대종상영화제': 'South Korea',\n",
    "    '부천국제애니메이션페스티벌': 'South Korea',\n",
    "    '황금촬영상시상식': 'South Korea',\n",
    "    '전북독립영화제': 'South Korea',\n",
    "    '시체스국제판타스틱영화제': 'Spain',\n",
    "    '부일영화상': 'South Korea',\n",
    "    '상하이국제영화제': 'China',\n",
    "    '피렌체한국영화제': 'Italy',\n",
    "    '파리한국영화제': 'France',\n",
    "    '런던한국영화제': 'England',\n",
    "    '한국영화평론가협회상': 'South Korea',\n",
    "    '헝가리한국영화제': 'Hungary',\n",
    "    '한국퀴어영화제': 'South Korea'\n",
    "})\n",
    "\n",
    "len(festival_to_country) "
   ]
  },
  {
   "cell_type": "markdown",
   "metadata": {},
   "source": [
    "Загрузим также датасет с обработанными данными только по победителям фестивалей, запишем в датасет `df`"
   ]
  },
  {
   "cell_type": "code",
   "execution_count": 603,
   "metadata": {},
   "outputs": [
    {
     "data": {
      "text/html": [
       "<div>\n",
       "<style scoped>\n",
       "    .dataframe tbody tr th:only-of-type {\n",
       "        vertical-align: middle;\n",
       "    }\n",
       "\n",
       "    .dataframe tbody tr th {\n",
       "        vertical-align: top;\n",
       "    }\n",
       "\n",
       "    .dataframe thead th {\n",
       "        text-align: right;\n",
       "    }\n",
       "</style>\n",
       "<table border=\"1\" class=\"dataframe\">\n",
       "  <thead>\n",
       "    <tr style=\"text-align: right;\">\n",
       "      <th></th>\n",
       "      <th>Unnamed: 0</th>\n",
       "      <th>Year</th>\n",
       "      <th>Fest Name</th>\n",
       "      <th>Genre</th>\n",
       "      <th>Film</th>\n",
       "      <th>Director</th>\n",
       "      <th>Award</th>\n",
       "      <th>Winner</th>\n",
       "    </tr>\n",
       "  </thead>\n",
       "  <tbody>\n",
       "    <tr>\n",
       "      <th>0</th>\n",
       "      <td>17</td>\n",
       "      <td>2005</td>\n",
       "      <td>디렉터스컷어워즈</td>\n",
       "      <td>일반(종합)</td>\n",
       "      <td>너는 내 운명</td>\n",
       "      <td>박진표</td>\n",
       "      <td>올해의 여자배우상</td>\n",
       "      <td>전도연</td>\n",
       "    </tr>\n",
       "  </tbody>\n",
       "</table>\n",
       "</div>"
      ],
      "text/plain": [
       "   Unnamed: 0  Year Fest Name   Genre     Film Director      Award Winner\n",
       "0          17  2005  디렉터스컷어워즈  일반(종합)  너는 내 운명      박진표  올해의 여자배우상    전도연"
      ]
     },
     "execution_count": 603,
     "metadata": {},
     "output_type": "execute_result"
    }
   ],
   "source": [
    "df = pd.read_csv('/Users/xexinette/Downloads/fixed_data.csv')\n",
    "df['Fest Name'] = df['Fest Name'].apply(lambda x: x.replace(' ', '') if isinstance(x, str) else x)\n",
    "df.head(1)"
   ]
  },
  {
   "cell_type": "markdown",
   "metadata": {},
   "source": [
    "Найдем топ-3 режиссера и для них определим страны фестивалей, в которых они побеждали"
   ]
  },
  {
   "cell_type": "code",
   "execution_count": 606,
   "metadata": {},
   "outputs": [
    {
     "data": {
      "text/plain": [
       "['봉준호', '박찬욱', '이준익']"
      ]
     },
     "execution_count": 606,
     "metadata": {},
     "output_type": "execute_result"
    }
   ],
   "source": [
    "top_3 = list(df['Director'].value_counts().head(3).index)\n",
    "top_3"
   ]
  },
  {
   "cell_type": "code",
   "execution_count": 608,
   "metadata": {},
   "outputs": [
    {
     "data": {
      "text/plain": [
       "array(['디렉터스컷어워즈', '홍콩아시안영화제', '춘사영화제', '칸국제영화제', '맥스무비최고의영화상', '여성영화인축제',\n",
       "       '산세바스티안국제영화제', '한국영화제작가협회상', 'LA영화비평가협회상', '인도국제영화제', '아시안필름어워드',\n",
       "       '마리끌레르영화제', '영국아카데미시상식', '마카오국제영화제', '아시아퍼시픽스크린어워즈',\n",
       "       '오슬로필름즈프롬더사우스영화제', '제네바국제영화제', '상파울루국제영화제', '캘거리국제영화제', '판타스틱페스트',\n",
       "       '토론토국제영화제', '로카르노국제영화제', '유라시아국제영화제', '시드니영화제', '아카데미시상식',\n",
       "       '로테르담국제영화제', '미국배우조합상', '트롬쇠국제영화제', '골든글로브어워즈', '디스커싱필름비평가협회상'],\n",
       "      dtype=object)"
      ]
     },
     "execution_count": 608,
     "metadata": {},
     "output_type": "execute_result"
    }
   ],
   "source": [
    "df_top_3_dir = df[df['Director'].isin(top_3)]\n",
    "df_top_3_dir['Fest_Country'] = df_top_3_dir['Fest Name'].map(festival_to_country)\n",
    "missing_country = df_top_3_dir[df_top_3_dir['Fest_Country'].isna()]\n",
    "missing_country['Fest Name'].unique()"
   ]
  },
  {
   "cell_type": "code",
   "execution_count": 610,
   "metadata": {},
   "outputs": [
    {
     "data": {
      "text/plain": [
       "139"
      ]
     },
     "execution_count": 610,
     "metadata": {},
     "output_type": "execute_result"
    }
   ],
   "source": [
    "festival_to_country.update({\n",
    "    '디렉터스컷어워즈': 'South Korea',\n",
    "    '홍콩아시안영화제': 'Hong Kong',\n",
    "    '춘사영화제': 'South Korea',\n",
    "    '칸국제영화제': 'France',\n",
    "    '맥스무비최고의영화상': 'South Korea',\n",
    "    '여성영화인축제': 'South Korea',\n",
    "    '산세바스티안국제영화제': 'Spain',\n",
    "    '한국영화제작가협회상': 'South Korea',\n",
    "    'LA영화비평가협회상': 'USA',\n",
    "    '인도국제영화제': 'India',\n",
    "    '아시안필름어워드': 'Hong Kong',\n",
    "    '마리끌레르영화제': 'South Korea',\n",
    "    '영국아카데미시상식': 'England',\n",
    "    '마카오국제영화제': 'China',\n",
    "    '아시아퍼시픽스크린어워즈': 'Australia',\n",
    "    '오슬로필름즈프롬더사우스영화제': 'Norway',\n",
    "    '제네바국제영화제': 'Switzerland',\n",
    "    '상파울루국제영화제': 'Brazil',\n",
    "    '캘거리국제영화제': 'Canada',\n",
    "    '판타스틱페스트': 'USA',\n",
    "    '토론토국제영화제': 'Canada',\n",
    "    '로카르노국제영화제': 'Switzerland',\n",
    "    '유라시아국제영화제': 'Online',\n",
    "    '시드니영화제': 'Australia',\n",
    "    '아카데미시상식': 'USA',\n",
    "    '로테르담국제영화제': 'Netherlands',\n",
    "    '미국배우조합상': 'USA',\n",
    "    '트롬쇠국제영화제': 'Norway',\n",
    "    '골든글로브어워즈': 'USA',\n",
    "    '디스커싱필름비평가협회상': 'Online'\n",
    "})\n",
    "    \n",
    "len(festival_to_country)               "
   ]
  },
  {
   "cell_type": "code",
   "execution_count": 612,
   "metadata": {},
   "outputs": [],
   "source": [
    "alldata['Fest_Country'] = alldata['Fest Name'].map(festival_to_country)"
   ]
  },
  {
   "cell_type": "markdown",
   "metadata": {},
   "source": [
    "**Итак, у нас получилось определить страну для 139 фестивалей (в том числе для топ-50 по популярности и все, где побеждали топ-3 режиссера)**\n",
    "\n",
    "\n",
    "г) Сопоставляем полученые страны с данными в датасете, проверяем на пропуски через .info()"
   ]
  },
  {
   "cell_type": "code",
   "execution_count": 615,
   "metadata": {},
   "outputs": [
    {
     "name": "stdout",
     "output_type": "stream",
     "text": [
      "<class 'pandas.core.frame.DataFrame'>\n",
      "RangeIndex: 37665 entries, 0 to 37664\n",
      "Data columns (total 10 columns):\n",
      " #   Column        Non-Null Count  Dtype \n",
      "---  ------        --------------  ----- \n",
      " 0   Unnamed: 0    37665 non-null  int64 \n",
      " 1   Year          37665 non-null  int64 \n",
      " 2   Fest Name     37665 non-null  object\n",
      " 3   Genre         37591 non-null  object\n",
      " 4   Film          37520 non-null  object\n",
      " 5   Director      35261 non-null  object\n",
      " 6   Nomination    31872 non-null  object\n",
      " 7   Award         6250 non-null   object\n",
      " 8   Winner        5213 non-null   object\n",
      " 9   Fest_Country  23100 non-null  object\n",
      "dtypes: int64(2), object(8)\n",
      "memory usage: 2.9+ MB\n"
     ]
    }
   ],
   "source": [
    "alldata.info()"
   ]
  },
  {
   "cell_type": "markdown",
   "metadata": {},
   "source": [
    "видим:\n",
    "> *9 Festival_Country 23100 non-null object,*\n",
    "\n",
    "*значит мы смогли определить страну проведения для `61%` (23100/37665) записей*"
   ]
  },
  {
   "cell_type": "markdown",
   "metadata": {},
   "source": [
    "д) Добавим бинарный признак `Is_National` - 'Национальный / Зарубежный' фестиваль (1/0)"
   ]
  },
  {
   "cell_type": "code",
   "execution_count": 619,
   "metadata": {},
   "outputs": [],
   "source": [
    "alldata['Is_National'] = alldata['Fest_Country'].apply(lambda x: 1 if x == 'South Korea' else 0).astype(int)"
   ]
  },
  {
   "cell_type": "markdown",
   "metadata": {},
   "source": [
    "* **Теперь создадим систему рангов, в соответствии с которой разделим режиссеров:**\n",
    "\n",
    "> 1 ранг: режиссер хотя бы раз попадал в список лучших `Best_Director`;\n",
    "\n",
    "> 2 ранг: режиссер хотя бы раз попадал в список самых часто показываемых на фестивалях `Most_Shown_Director`;\n",
    "\n",
    "> 3 ранг: режиссер ни разу не был ни в одном из списков."
   ]
  },
  {
   "cell_type": "code",
   "execution_count": 622,
   "metadata": {},
   "outputs": [],
   "source": [
    "best_directors = set(data['Best_Director'].dropna())\n",
    "most_shown_directors = set(data['Most_Shown_Director'].dropna())\n",
    "\n",
    "director_rank = {}\n",
    "for director in most_shown_directors:\n",
    "    director_rank[director] = 2\n",
    "for director in best_directors:\n",
    "    director_rank[director] = 1\n",
    "\n",
    "alldata[\"director_rank\"] = alldata[\"Director\"].map(director_rank).fillna(3).astype(int) \n",
    "# добавим новый признак к нашему датасету"
   ]
  },
  {
   "cell_type": "markdown",
   "metadata": {},
   "source": [
    "Для каждого фильма рассчитаем бинарную переменную `awarded`:\n",
    "* `1` — фильм получил награду (на основе непустого поля `Winner`);\n",
    "* `0` — фильм не получил награду.\n"
   ]
  },
  {
   "cell_type": "code",
   "execution_count": 625,
   "metadata": {},
   "outputs": [],
   "source": [
    "alldata['awarded'] = alldata['Winner'].notna().astype(int)"
   ]
  },
  {
   "cell_type": "markdown",
   "metadata": {},
   "source": [
    "Избавимся от строк с пропущенными значениями стран и режиссеров"
   ]
  },
  {
   "cell_type": "code",
   "execution_count": 628,
   "metadata": {},
   "outputs": [],
   "source": [
    "alldata = alldata.dropna(subset=['Fest_Country', 'Director'])"
   ]
  },
  {
   "cell_type": "markdown",
   "metadata": {},
   "source": [
    "**Теперь создадим дополнительную таблицу, в которой соберем данные по каждому фильму, а именно:**\n",
    "\n",
    "- в `Total_Presentations` внесем общее кол-во записей об этом фильме в нашем датасете;\n",
    "- в `Unique_Festivals` кол-во уникальных фестивалей, на которых фильм был представлен за все время;\n",
    "- в `Unique_Years` кол-во лет, когда фильм участвовал в фестах;\n",
    "- в `Director` режиссер;\n",
    "- в `National_Count` сколько из фестивалей, в которых участвовал фильм, проводились в Корее;\n",
    "- в `International_Count` сколько из фестивалей, в которых участвовал фильм, проводились зарубежом;\n",
    "- в `Award_Count` кол-во завоеванных наград."
   ]
  },
  {
   "cell_type": "code",
   "execution_count": 631,
   "metadata": {},
   "outputs": [],
   "source": [
    "film_counts = alldata['Film'].value_counts().reset_index()\n",
    "film_counts.columns = ['Film', 'Total_Presentations']\n",
    "\n",
    "unique_fests = alldata.groupby('Film')['Fest Name'].nunique().reset_index()\n",
    "unique_fests.columns = ['Film', 'Unique_Festivals']\n",
    "\n",
    "unique_years = alldata.groupby('Film')['Year'].nunique().reset_index()\n",
    "unique_years.columns = ['Film', 'Unique_Years']\n",
    "\n",
    "film_directors = alldata[['Film', 'Director']].drop_duplicates(subset='Film')\n",
    "\n",
    "national_counts = alldata[alldata['Is_National'] == 1].groupby('Film').size().rename('National_Count')\n",
    "international_counts = alldata[alldata['Is_National'] == 0].groupby('Film').size().rename('International_Count')\n",
    "festival_origin_summary = pd.concat([national_counts, international_counts], axis=1).fillna(0).astype(int)\n",
    "\n",
    "awards_counts = alldata[alldata['Winner'].notna()]['Film'].value_counts().reset_index()\n",
    "awards_counts.columns = ['Film', 'Award_Count']\n",
    "\n",
    "film_summary = film_counts.merge(unique_fests, on='Film').merge(unique_years, on='Film').merge(film_directors, on='Film', how='left').merge(festival_origin_summary, on='Film', how='left').merge(awards_counts, on='Film', how='left')"
   ]
  },
  {
   "cell_type": "markdown",
   "metadata": {},
   "source": [
    "Совершим необходимые преобразования:\n",
    "> заменим пустые значения в кол-ве наград на 0;\n",
    "> посчтитаем соотношение наград к общему кол-ву записей;\n",
    "> добавим в таблицу ранг режиссера.\n",
    "\n",
    "- в `Awards_ratio` соотношение наград к участию;\n",
    "- в `Director_Rank` ранг режиссера."
   ]
  },
  {
   "cell_type": "code",
   "execution_count": 634,
   "metadata": {},
   "outputs": [
    {
     "data": {
      "text/html": [
       "<div>\n",
       "<style scoped>\n",
       "    .dataframe tbody tr th:only-of-type {\n",
       "        vertical-align: middle;\n",
       "    }\n",
       "\n",
       "    .dataframe tbody tr th {\n",
       "        vertical-align: top;\n",
       "    }\n",
       "\n",
       "    .dataframe thead th {\n",
       "        text-align: right;\n",
       "    }\n",
       "</style>\n",
       "<table border=\"1\" class=\"dataframe\">\n",
       "  <thead>\n",
       "    <tr style=\"text-align: right;\">\n",
       "      <th></th>\n",
       "      <th>Film</th>\n",
       "      <th>Total_Presentations</th>\n",
       "      <th>Unique_Festivals</th>\n",
       "      <th>Unique_Years</th>\n",
       "      <th>Director</th>\n",
       "      <th>National_Count</th>\n",
       "      <th>International_Count</th>\n",
       "      <th>Award_Count</th>\n",
       "      <th>Awards_ratio</th>\n",
       "      <th>Director_Rank</th>\n",
       "    </tr>\n",
       "  </thead>\n",
       "  <tbody>\n",
       "    <tr>\n",
       "      <th>0</th>\n",
       "      <td>기생충</td>\n",
       "      <td>88</td>\n",
       "      <td>36</td>\n",
       "      <td>4</td>\n",
       "      <td>봉준호</td>\n",
       "      <td>38</td>\n",
       "      <td>50</td>\n",
       "      <td>76</td>\n",
       "      <td>0.863636</td>\n",
       "      <td>1</td>\n",
       "    </tr>\n",
       "  </tbody>\n",
       "</table>\n",
       "</div>"
      ],
      "text/plain": [
       "  Film  Total_Presentations  Unique_Festivals  Unique_Years Director  \\\n",
       "0  기생충                   88                36             4      봉준호   \n",
       "\n",
       "   National_Count  International_Count  Award_Count  Awards_ratio  \\\n",
       "0              38                   50           76      0.863636   \n",
       "\n",
       "   Director_Rank  \n",
       "0              1  "
      ]
     },
     "execution_count": 634,
     "metadata": {},
     "output_type": "execute_result"
    }
   ],
   "source": [
    "film_summary['Award_Count'] = film_summary['Award_Count'].fillna(0).astype(int)\n",
    "film_summary['Awards_ratio'] = film_summary['Award_Count'] / film_summary['Total_Presentations']\n",
    "film_summary = film_summary[film_summary['Total_Presentations'] > 5]\n",
    "film_summary['Director_Rank'] = film_summary['Director'].map(director_rank).fillna(3).astype(int)\n",
    "film_summary.head(1)"
   ]
  },
  {
   "cell_type": "code",
   "execution_count": 636,
   "metadata": {},
   "outputs": [
    {
     "name": "stdout",
     "output_type": "stream",
     "text": [
      "<class 'pandas.core.frame.DataFrame'>\n",
      "Index: 21446 entries, 2 to 37664\n",
      "Data columns (total 13 columns):\n",
      " #   Column         Non-Null Count  Dtype \n",
      "---  ------         --------------  ----- \n",
      " 0   Unnamed: 0     21446 non-null  int64 \n",
      " 1   Year           21446 non-null  int64 \n",
      " 2   Fest Name      21446 non-null  object\n",
      " 3   Genre          21446 non-null  object\n",
      " 4   Film           21446 non-null  object\n",
      " 5   Director       21446 non-null  object\n",
      " 6   Nomination     17836 non-null  object\n",
      " 7   Award          4330 non-null   object\n",
      " 8   Winner         3962 non-null   object\n",
      " 9   Fest_Country   21446 non-null  object\n",
      " 10  Is_National    21446 non-null  int64 \n",
      " 11  director_rank  21446 non-null  int64 \n",
      " 12  awarded        21446 non-null  int64 \n",
      "dtypes: int64(5), object(8)\n",
      "memory usage: 2.3+ MB\n"
     ]
    }
   ],
   "source": [
    "alldata.info()"
   ]
  },
  {
   "cell_type": "markdown",
   "metadata": {},
   "source": [
    "**НАША ВЫБОРКА ГОТОВА :)**\n",
    "\n",
    "Теперь можем переходить к выдвижению и проверке гипотез\n",
    "\n",
    "---"
   ]
  },
  {
   "cell_type": "markdown",
   "metadata": {},
   "source": [
    "## **Формулировка и проверка гипотез**"
   ]
  },
  {
   "cell_type": "markdown",
   "metadata": {},
   "source": [
    "## Гипотеза №1: влияние ранга режиссера на вероятность получения награды\n",
    "\n",
    "Мы хотим проверить, влияет ли \"ранг\" режиссера на вероятность получения им награды на фестивале. Будем использовать данные по фильмам режиссеров 1-го и 3-го ранга из датафрейма `alldata`, генеральная совокупность: все корейские фильмы, которые были или будут выпущены.\n",
    "\n",
    "* дисперсия по генеральной совокупности неизвестна, поэтому будем использовать **t-статистику**;\n",
    "* **мотивация**: проверка данной гипотезы позволит судить, насколько \"именитость\" режиссера влияет на успех картины на фестивале.\n",
    "\n",
    "\n",
    "1. **Формулируем гипотезы**\n",
    "<div align=\"center\">\n",
    "\n",
    "$$\n",
    "H_0: \\mu_1 = \\mu_3\n",
    "$$\n",
    "\n",
    "$$\n",
    "H_1: \\mu_1 \\ne \\mu_3\n",
    "$$\n",
    "\n",
    "</div>\n",
    "\n",
    "\n",
    "- **H₀ (нулевая гипотеза):**  \n",
    "  Средняя вероятность получения награды у фильмов от режиссёров с рангом 1 **равна** таковой у фильмов с рангом 3.\n",
    "\n",
    "- **H₁ (альтернативная гипотеза):**  \n",
    "  Средняя вероятность **не равна** — есть статистически значимая разница между рангами.\n",
    "\n",
    "---\n",
    "                      \n",
    "\n"
   ]
  },
  {
   "cell_type": "markdown",
   "metadata": {},
   "source": [
    "2. **Выбираем уровень значимости**\n",
    "<div align=\"center\">\n",
    "\n",
    "$$\n",
    "\\alpha = 0.01\n",
    "$$\n",
    "\n",
    "</div>\n",
    "\n"
   ]
  },
  {
   "cell_type": "markdown",
   "metadata": {},
   "source": [
    "3. **Считаем p-value**"
   ]
  },
  {
   "cell_type": "code",
   "execution_count": 643,
   "metadata": {},
   "outputs": [
    {
     "data": {
      "text/plain": [
       "TtestResult(statistic=31.831044796900773, pvalue=9.623770511682689e-170, df=1476.809224568856)"
      ]
     },
     "execution_count": 643,
     "metadata": {},
     "output_type": "execute_result"
    }
   ],
   "source": [
    "from scipy.stats import ttest_ind\n",
    "\n",
    "rank1 = alldata[alldata['director_rank'] == 1]['awarded']\n",
    "rank3 = alldata[alldata['director_rank'] == 3]['awarded']\n",
    "\n",
    "result = ttest_ind(rank1, rank3, alternative=\"two-sided\", equal_var=False)\n",
    "result"
   ]
  },
  {
   "cell_type": "markdown",
   "metadata": {},
   "source": [
    "4. **Результаты**\n",
    "\n",
    "- t-статистика: 31.83  \n",
    "\n",
    "- Уровень значимости:  \n",
    "  <div align=\"center\">\n",
    "\n",
    "  $$\n",
    "  \\alpha = 0.01\n",
    "  $$\n",
    "\n",
    "  </div>\n",
    "\n",
    "- **p-value:**  \n",
    "  <div align=\"center\">\n",
    "\n",
    "  $$\n",
    "  p = 9.62 \\times 10^{-170}\n",
    "  $$\n",
    "\n",
    "  </div>\n",
    "\n",
    "---\n",
    "\n",
    "### Вывод:\n",
    "\n",
    "Так как:\n",
    "\n",
    "<div align=\"center\">\n",
    "\n",
    "$$\n",
    "p \\ll \\alpha\n",
    "$$\n",
    "\n",
    "</div>\n",
    "\n",
    "мы отвергаем нулевую гипотезу и заключаем, что вероятность получения награды **значимо отличается** у фильмов режиссёров ранга 1 и ранга 3.\n",
    "\n"
   ]
  },
  {
   "cell_type": "markdown",
   "metadata": {},
   "source": [
    "### Найдем средние и доверительные интервалы вероятностей режиссеров 1-го и 3-го ранга получить награду на фестивале:"
   ]
  },
  {
   "cell_type": "code",
   "execution_count": 647,
   "metadata": {},
   "outputs": [
    {
     "data": {
      "text/plain": [
       "(0.5874635568513119, (0.5531690170488719, 0.6217580966537519))"
      ]
     },
     "execution_count": 647,
     "metadata": {},
     "output_type": "execute_result"
    }
   ],
   "source": [
    "mean_rank1 = rank1.mean()\n",
    "sigma1 = rank1.std(ddof=1)\n",
    "n_rank1 = len(rank1)\n",
    "conf_interval = stats.t.interval(0.99, df=len(rank1)-1, loc=mean_rank1, scale=sigma1/np.sqrt(len(rank1)))\n",
    "\n",
    "mean_rank1, conf_interval"
   ]
  },
  {
   "cell_type": "markdown",
   "metadata": {},
   "source": [
    "Мы с 99% уверенностью можем утверждать, что средняя вероятность получения награды для фильмов от режиссёров **с рангом 1** лежит в диапазоне от 55.3% до 62.1%."
   ]
  },
  {
   "cell_type": "code",
   "execution_count": 650,
   "metadata": {},
   "outputs": [
    {
     "data": {
      "text/plain": [
       "(0.5874635568513119, (0.14963576580501625, 0.16297542720062602))"
      ]
     },
     "execution_count": 650,
     "metadata": {},
     "output_type": "execute_result"
    }
   ],
   "source": [
    "mean_rank3 = rank3.mean()\n",
    "sigma3 = rank3.std(ddof=1)\n",
    "n_rank3 = len(rank3)\n",
    "conf_interval = stats.t.interval(0.99, df=len(rank3)-1, loc=mean_rank3, scale=sigma3/np.sqrt(len(rank3)))\n",
    "\n",
    "mean_rank1, conf_interval"
   ]
  },
  {
   "cell_type": "markdown",
   "metadata": {},
   "source": [
    "Мы с 99% уверенностью можем утверждать, что средняя вероятность получения награды для фильмов от режиссёров **с рангом 3** лежит в диапазоне от 15% до 16.3%."
   ]
  },
  {
   "cell_type": "markdown",
   "metadata": {},
   "source": [
    "**ИТОГ:** Судя по средним, вероятность получить награду на фестивале значительно выше у режиссеров 1-го ранга."
   ]
  },
  {
   "cell_type": "markdown",
   "metadata": {},
   "source": [
    "---"
   ]
  },
  {
   "cell_type": "markdown",
   "metadata": {},
   "source": [
    "## Гипотеза №2: \n",
    "**На успешность фильма (award_ration) значительно влияет кол-во лет, на протяжении которых фильм участвует в фестивалях; кол-во уникальных фестивалей, на которых он показывается; а также место проведения фестиваля (Корея / зарубеж).**"
   ]
  },
  {
   "cell_type": "markdown",
   "metadata": {},
   "source": [
    "Мы хотим проверить, какие еще факторы влияют на вероятность получить награду на фестивале. Для этого построим многофакторную регрессию."
   ]
  },
  {
   "cell_type": "markdown",
   "metadata": {},
   "source": [
    "## Многофакторная линейная Регрессия"
   ]
  },
  {
   "cell_type": "markdown",
   "metadata": {},
   "source": [
    "В рамках исследования мы стремимся понять:\n",
    "\n",
    "- Что именно влияет на успешность фильма на фестивалях?\n",
    "- Достаточно ли просто часто участвовать как можно чаще, или важна уникальность и длительность присутствия на сцене?\n",
    "- Какую роль играет место проведения фестивалей — в частности, есть ли различие между фестивалями, проходящими в Южной Корее и за рубежом?\n",
    "\n",
    "Для этого будем строить многофакторную линейную регрессию по данным из датасета `film_summary`, где:\n",
    "  > **целевая переменная:** `Awards_ratio` - соотношение наград к участию;;\n",
    "\n",
    "  > **независимые переменные:**\n",
    "        > `Unique_Festivals` - кол-во уникальных фестивалей, на которых фильм был представлен за все время;\n",
    "        > `National_Count` -  сколько из фестивалей, в которых участвовал фильм, проводились в Корее; `International_Count` - сколько из фестивалей, в которых участвовал фильм, проводились зарубежом; `Unique_Years` - кол-во лет, когда фильм участвовал в фестах;\n",
    "\n",
    "---\n",
    "\n",
    "\n",
    "**Нулевая гипотеза (H₀):** Все коэффициенты при признаках равны нулю — признаки не влияют на Awards_ratio.\n",
    "\n",
    "<div align=\"center\">\n",
    "\n",
    "$$\n",
    "H_0: \\beta_1 = \\beta_2 = \\beta_3 = \\beta_4 = 0 \\\\\n",
    "$$\n",
    "\n",
    "</div>\n",
    "\n",
    "**Альтернативная гипотеза (H₁):** Хотя бы один из коэффициентов регрессии значимо отличается от нуля, то есть хотя бы один признак влияет на Awards_ratio.\n",
    "\n",
    "<div align=\"center\">\n",
    "\n",
    "$$\n",
    "H_1: \\text{Хотя бы один из } \\beta_i \\ne 0\n",
    "$$\n",
    "\n",
    "</div>\n",
    "\n"
   ]
  },
  {
   "cell_type": "markdown",
   "metadata": {},
   "source": [
    "**Сначала обучим модель, для обучения возьмем 70% данных**"
   ]
  },
  {
   "cell_type": "code",
   "execution_count": 660,
   "metadata": {},
   "outputs": [
    {
     "data": {
      "text/plain": [
       "const                  0.276293\n",
       "Unique_Festivals      -0.033207\n",
       "National_Count         0.038029\n",
       "International_Count    0.031751\n",
       "Unique_Years          -0.030722\n",
       "dtype: float64"
      ]
     },
     "execution_count": 660,
     "metadata": {},
     "output_type": "execute_result"
    }
   ],
   "source": [
    "from sklearn.model_selection import train_test_split\n",
    "from sklearn.metrics import mean_squared_error, mean_absolute_error, r2_score\n",
    "import statsmodels.api as sm\n",
    "\n",
    "X = film_summary[['Unique_Festivals', 'National_Count', 'International_Count', 'Unique_Years']] \n",
    "y = film_summary['Awards_ratio'] \n",
    "\n",
    "X_train, X_test, y_train, y_test = train_test_split(X, y, test_size=0.3, random_state=42)\n",
    "\n",
    "X_train_const = sm.add_constant(X_train)\n",
    "X_test_const = sm.add_constant(X_test)\n",
    "\n",
    "model = sm.OLS(y_train, X_train_const).fit()\n",
    "model.params\n",
    "\n"
   ]
  },
  {
   "cell_type": "markdown",
   "metadata": {},
   "source": [
    "**А теперь протестируем модель и рассчитаем метрики:**"
   ]
  },
  {
   "cell_type": "code",
   "execution_count": 663,
   "metadata": {},
   "outputs": [
    {
     "name": "stdout",
     "output_type": "stream",
     "text": [
      "MSE: 0.04318591852168316\n",
      "MAE: 0.17412258950307527\n",
      "R²: 0.3041760735590944\n"
     ]
    }
   ],
   "source": [
    "y_pred = model.predict(X_test_const)\n",
    "\n",
    "mse = mean_squared_error(y_test, y_pred)\n",
    "mae = mean_absolute_error(y_test, y_pred)\n",
    "r2 = r2_score(y_test, y_pred)\n",
    "\n",
    "print(\"MSE:\", mse)\n",
    "print(\"MAE:\", mae)\n",
    "print(\"R²:\", r2)"
   ]
  },
  {
   "cell_type": "markdown",
   "metadata": {},
   "source": [
    "**Проведем тест Уальда и посмотрим F-статистику**"
   ]
  },
  {
   "cell_type": "code",
   "execution_count": 667,
   "metadata": {},
   "outputs": [
    {
     "name": "stdout",
     "output_type": "stream",
     "text": [
      "<F test: F=array([[49.77479866]]), p=1.0187669354568515e-35, df_denom=546, df_num=4>\n"
     ]
    }
   ],
   "source": [
    "hypothesis = 'Unique_Festivals = 0, National_Count = 0, International_Count = 0, Unique_Years = 0'\n",
    "wald_result = model.wald_test(hypothesis)\n",
    "print(wald_result)\n"
   ]
  },
  {
   "cell_type": "markdown",
   "metadata": {},
   "source": [
    "## Результаты\n",
    "* **F-statistic:**\t49.77\n",
    "* **p** = 1.02e-35\n"
   ]
  },
  {
   "cell_type": "markdown",
   "metadata": {},
   "source": [
    "Т.к. p-value меньше заданного уровня значимости 0.01, мы отвергаем нулевую гипотезу о том, что все 4 независимых фактора незначимы одновременно и принимаем, что хотя бы один из них оказывает статистически значимое влияние на вероятность успеха фильма.\n",
    "\n",
    "**Обратимся к полученным коэффициентам:**\n",
    "> **const:**                  0.276293;\n",
    "\n",
    "если все предикторы = 0, шанс фильма на успех = `27.6%`\n",
    "\n",
    "> **Unique_Festivals:**      -0.033207\n",
    "\n",
    "чем больше фестивалей \"посещает\" фильм, тем ниже его доля успеха; каждый доп. фест. снижает award_ratio на `3.3%`\n",
    "\n",
    "> **National_Count:**         0.038029\n",
    "\n",
    "\"Домашние\" фестивали более радушны к корейским картинам, участие в корейском фестивале повышает award_ratio на `3.8%`, что незначительно, но все же выше\n",
    "\n",
    "> **International_Count:**    0.031751\n",
    "\n",
    "`3.2%`, получаемых на зарубежных фестивалях.\n",
    "\n",
    "> **Unique_Years:**          -0.030722\n",
    "\n",
    "Чем дольше фильм продолжает участвовать в фестивалях, тем нижк его доля успеха, т.к. дополнительный год участия связан со снижением award_ratio на `3.1%`"
   ]
  },
  {
   "cell_type": "markdown",
   "metadata": {},
   "source": [
    "**ИТОГ: да, коэффициенты небольшие, но статистически значимые.**\n",
    "\n",
    "Благодаря полученным инсайтам мы может сделать некоторые выводы об опыте презентации корейских кинокартин на домащней и зарубежной арене:\n",
    "\n"
   ]
  },
  {
   "cell_type": "markdown",
   "metadata": {},
   "source": [
    "### Выводы"
   ]
  },
  {
   "cell_type": "markdown",
   "metadata": {},
   "source": [
    "Согласно результатам регрессии и F-тесту Уальда (F = 49.77, p < 0.0001), модель в целом является значимой, и хотя бы один из факторов влияет на результат. Таким образом, гипотеза №2 подтверждается.\n",
    "\n",
    "* Все четыре переменные оказались статистически значимыми (p-value < 0.01)\n",
    "\n",
    "Для улучшения модели, можно поиграться с кол-вом факторов, добавить также категориальный признак (ранг режиссера) и попробовать построить логистическую регрессию, или попробовать изменить масштаб выборки."
   ]
  },
  {
   "cell_type": "markdown",
   "metadata": {
    "id": "gook8y7qDt90"
   },
   "source": [
    "## **Общие выводы**"
   ]
  },
  {
   "cell_type": "markdown",
   "metadata": {
    "id": "VDxHSTUZD2Ou"
   },
   "source": [
    "### **ЗАКОНОМЕРНОСТИ**\n",
    ">  **1. Международный интерес к южнокорейскому кино**\n",
    "\n",
    "Международный интерес к южнокорейскому кино непрерывно рос с 2000 года, достигая своего пика в 2019 году, когда было зафиксировано наибольшее количество участий корейских фильмов в международных кинофестивалях. Однако после 2019 года наблюдается спад, что может быть связано с последствиями пандемии COVID-19, когда многие фестивали были отменены или перенесены, а съемки фильмов были приостановлены.\n",
    "\n",
    "\n",
    "\n",
    "\n",
    "\n",
    "> **2. Растущее количество наград с увеличением представленных фильмов**\n",
    "\n",
    "С увеличением числа фильмов, ежегодно представленных на кинофестивалях, наблюдается и рост количества наград, которые они получают. Это свидетельствует о повышении качества южнокорейского кинематографа и признания международным сообществом. Количество наград продолжает расти, что подтверждает интерес к произведениям корейских режиссеров и артистов.\n",
    "\n",
    "\n",
    "\n",
    "\n",
    "\n",
    "> **3. Корейское кино продолжает получать признание в мире**\n",
    "\n",
    "Тенденция роста участия корейских фильмов в международных кинофестивалях и количество наград, которые они получают, подтверждает, что корейский кинематограф продолжает занимать важное место на мировой киноарене. Награды и признание на международных фестивалях становятся стимулом для новых поколений режиссеров и актеров, вдохновляя их на создание высококачественного контента.\n",
    "\n",
    "\n",
    "\n",
    "\n",
    "\n",
    "> **4. Корреляция между лучшими режиссерами и числом наград**\n",
    "\n",
    "Есть также положительная корреляция между количеством наград, получаемых фильмами, и режиссерами, которые входят в список топовых. Это подтверждает гипотезу, что лучшие режиссеры получают больше признания на международных фестивалях, а их фильмы часто становятся победителями. Например, режиссеры, такие как Пон Чжунхо и Хон Сансу, демонстрируют высокие результаты как по числу фильмов, так и по количеству наград.\n",
    "\n",
    "\n",
    "\n",
    "\n",
    "> **5. Зависимость успеха режиссера от участия в фестивалях**\n",
    "\n",
    "Режиссеры, чьи фильмы чаще участвуют в международных фестивалях, чаще оказываются в числе победителей. Это подтверждает теорию, что постоянное участие в международных кинофестивалях увеличивает шанс на получение наград, что связано с более широким распространением фильмов и их дальнейшей популярностью.\n",
    "\n",
    "\n",
    "\n",
    "---\n",
    "\n",
    "### **АНОМАЛИИ**\n",
    "1. Самая значительная аномалия наблюдается в 2020-2021 годах, когда произошел резкий спад в числе участников и наград, что можно объяснить пандемией COVID-19. Это событие вызвало массовые отмены и переносы кинофестивалей, а также приостановку съемок и ограничение международных поездок. В этот период многие фильмы не были представлены на фестивалях, и это также повлияло на нормативные ожидания по наградам и количеству показов. Эта аномалия требует особого внимания при анализе данных, так как она искажает тренды, характерные для других лет.\n",
    "\n",
    "2. Неравномерное распределение наград среди режиссеров. Хотя в целом существует корреляция между участием в фестивалях и получением наград, есть отклонения. Например, режиссеры, чьи фильмы регулярно участвуют в фестивалях, не всегда получают награды в той же пропорции. Это может указывать на погрешности в оценке качества фильмов или на влияние субъективности жюри на результаты. Такие аномалии могут повлиять на точность прогнозирования успеха фильмов на фестивалях и требуют дополнительного анализа для выявления причин.\n",
    "\n",
    "\n",
    "\n",
    "---\n",
    "### **ВЛИЯНИЕ НА ДАЛЬНЕЙШИЙ АНАЛИЗ**\n",
    "* Аномалии, такие как падение активности в 2020-2021 годах, требуют специального учета в дальнейших анализах. Необходимо либо исключать эти годы из анализа трендов, либо проводить их анализ с учетом специфики этих лет.\n",
    "\n",
    "* Фильтрация данных и удаление выбросов поможет сделать анализ более точным и исключить влияние экстремальных факторов.\n",
    "\n",
    "* Если при анализе данных о режиссерах и фильмах в рамках ежегодных трендов наблюдаются аномалии, это может повлиять на стратегические выводы о развитии индустрии, трендах и предпочтениях зрителей. Важно корректно учитывать такие аномалии, чтобы предсказать будущие тенденции более точно.\n"
   ]
  }
 ],
 "metadata": {
  "colab": {
   "provenance": []
  },
  "kernelspec": {
   "display_name": "Python 3 (ipykernel)",
   "language": "python",
   "name": "python3"
  },
  "language_info": {
   "codemirror_mode": {
    "name": "ipython",
    "version": 3
   },
   "file_extension": ".py",
   "mimetype": "text/x-python",
   "name": "python",
   "nbconvert_exporter": "python",
   "pygments_lexer": "ipython3",
   "version": "3.12.4"
  }
 },
 "nbformat": 4,
 "nbformat_minor": 4
}
