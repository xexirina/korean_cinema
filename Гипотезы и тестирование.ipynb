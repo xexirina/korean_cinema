{
 "cells": [
  {
   "cell_type": "code",
   "execution_count": 1414,
   "id": "8e9662b9-c85d-46aa-a898-38cf16995eea",
   "metadata": {},
   "outputs": [],
   "source": [
    "import pandas as pd\n",
    "import numpy as np\n",
    "import scipy.stats as stats\n",
    "import matplotlib.pyplot as plt\n",
    "import math  \n",
    "import statsmodels.formula.api as sm\n",
    "import warnings\n",
    "warnings.filterwarnings('ignore')"
   ]
  },
  {
   "cell_type": "markdown",
   "id": "f922db23-cb32-444e-9bcb-245b552488bb",
   "metadata": {},
   "source": [
    "## **Обработка данных, подготовка выборки**"
   ]
  },
  {
   "cell_type": "markdown",
   "id": "181e58a4-5f5a-47ae-9028-c5250ada9f69",
   "metadata": {},
   "source": [
    "**1. В основе выборки будет лежать наш изначальный датасет `raw_data`**"
   ]
  },
  {
   "cell_type": "code",
   "execution_count": 1418,
   "id": "c9c4f11e-9e03-482a-82bc-b3128a909261",
   "metadata": {},
   "outputs": [
    {
     "data": {
      "text/html": [
       "<div>\n",
       "<style scoped>\n",
       "    .dataframe tbody tr th:only-of-type {\n",
       "        vertical-align: middle;\n",
       "    }\n",
       "\n",
       "    .dataframe tbody tr th {\n",
       "        vertical-align: top;\n",
       "    }\n",
       "\n",
       "    .dataframe thead th {\n",
       "        text-align: right;\n",
       "    }\n",
       "</style>\n",
       "<table border=\"1\" class=\"dataframe\">\n",
       "  <thead>\n",
       "    <tr style=\"text-align: right;\">\n",
       "      <th></th>\n",
       "      <th>Unnamed: 0</th>\n",
       "      <th>Year</th>\n",
       "      <th>Fest Name</th>\n",
       "      <th>Genre</th>\n",
       "      <th>Film</th>\n",
       "      <th>Director</th>\n",
       "      <th>Nomination</th>\n",
       "      <th>Award</th>\n",
       "      <th>Winner</th>\n",
       "    </tr>\n",
       "  </thead>\n",
       "  <tbody>\n",
       "    <tr>\n",
       "      <th>0</th>\n",
       "      <td>0</td>\n",
       "      <td>2005</td>\n",
       "      <td>카이로 국제영화제</td>\n",
       "      <td>일반(종합)</td>\n",
       "      <td>제니, 주노</td>\n",
       "      <td>김호준</td>\n",
       "      <td>NaN</td>\n",
       "      <td>NaN</td>\n",
       "      <td>NaN</td>\n",
       "    </tr>\n",
       "  </tbody>\n",
       "</table>\n",
       "</div>"
      ],
      "text/plain": [
       "   Unnamed: 0  Year  Fest Name   Genre    Film Director Nomination Award  \\\n",
       "0           0  2005  카이로 국제영화제  일반(종합)  제니, 주노      김호준        NaN   NaN   \n",
       "\n",
       "  Winner  \n",
       "0    NaN  "
      ]
     },
     "execution_count": 1418,
     "metadata": {},
     "output_type": "execute_result"
    }
   ],
   "source": [
    "alldata = pd.read_csv('/Users/xexinette/Downloads/raw_data.csv')\n",
    "alldata.head(1)"
   ]
  },
  {
   "cell_type": "markdown",
   "id": "3fd49eb3-fa5c-468c-8f1d-a0a655631dd0",
   "metadata": {},
   "source": [
    "**2. Возьмем созданный на предыдущем этапе датафрейм `yearly_aw`**\n",
    "\n",
    "Сейчас нас интересуют из него 2 колонки:\n",
    "- **`Best_Director`** (**BDA**) – режиссер, получивший больше всего наград в этом году.    \n",
    "- **`Most_Shown_Director`** (**MSD**) – режиссер, чьи фильмы чаще всего участвовали в фестивалях в этом году (независимо от наград).  \n",
    "\n"
   ]
  },
  {
   "cell_type": "code",
   "execution_count": 1421,
   "id": "c8a181d3-d47f-4546-9bea-fc08523f45d9",
   "metadata": {},
   "outputs": [
    {
     "data": {
      "text/html": [
       "<div>\n",
       "<style scoped>\n",
       "    .dataframe tbody tr th:only-of-type {\n",
       "        vertical-align: middle;\n",
       "    }\n",
       "\n",
       "    .dataframe tbody tr th {\n",
       "        vertical-align: top;\n",
       "    }\n",
       "\n",
       "    .dataframe thead th {\n",
       "        text-align: right;\n",
       "    }\n",
       "</style>\n",
       "<table border=\"1\" class=\"dataframe\">\n",
       "  <thead>\n",
       "    <tr style=\"text-align: right;\">\n",
       "      <th></th>\n",
       "      <th>Year</th>\n",
       "      <th>Awards</th>\n",
       "      <th>Winners</th>\n",
       "      <th>Win_to_Aw</th>\n",
       "      <th>Rec_num</th>\n",
       "      <th>Fest_Unum</th>\n",
       "      <th>Film_UNnum</th>\n",
       "      <th>Best_Director</th>\n",
       "      <th>BDAll_num</th>\n",
       "      <th>BDA_num</th>\n",
       "      <th>BDALL_AW_Ration</th>\n",
       "      <th>BDA_Share</th>\n",
       "      <th>Most_Shown_Director</th>\n",
       "      <th>MSDW_num</th>\n",
       "      <th>MSDW_Share</th>\n",
       "    </tr>\n",
       "  </thead>\n",
       "  <tbody>\n",
       "    <tr>\n",
       "      <th>0</th>\n",
       "      <td>2000</td>\n",
       "      <td>85</td>\n",
       "      <td>70</td>\n",
       "      <td>0.823529</td>\n",
       "      <td>354</td>\n",
       "      <td>122</td>\n",
       "      <td>111</td>\n",
       "      <td>박찬욱</td>\n",
       "      <td>15</td>\n",
       "      <td>13</td>\n",
       "      <td>0.866667</td>\n",
       "      <td>0.185714</td>\n",
       "      <td>이창동</td>\n",
       "      <td>20</td>\n",
       "      <td>0.18018</td>\n",
       "    </tr>\n",
       "  </tbody>\n",
       "</table>\n",
       "</div>"
      ],
      "text/plain": [
       "   Year  Awards  Winners  Win_to_Aw  Rec_num  Fest_Unum  Film_UNnum  \\\n",
       "0  2000      85       70   0.823529      354        122         111   \n",
       "\n",
       "  Best_Director  BDAll_num  BDA_num  BDALL_AW_Ration  BDA_Share  \\\n",
       "0           박찬욱         15       13         0.866667   0.185714   \n",
       "\n",
       "  Most_Shown_Director  MSDW_num  MSDW_Share  \n",
       "0                 이창동        20     0.18018  "
      ]
     },
     "execution_count": 1421,
     "metadata": {},
     "output_type": "execute_result"
    }
   ],
   "source": [
    "data = pd.read_csv('/Users/xexinette/Downloads/sup_table.csv')\n",
    "data.head(1)"
   ]
  },
  {
   "cell_type": "markdown",
   "id": "ac841a07-d91f-4d8e-8c46-8846a0088590",
   "metadata": {},
   "source": [
    "### **3. Создадим новые признаки:**\n",
    "\n",
    "* **Постараемся определить `страну проведения фестивалей` хотя бы для `половины` записей.**\n",
    "\n",
    "Для этого:\n",
    "\n",
    "а) Сначала избавимя от дублирующихся фестивалей, которые могли появиться в результате проставленных пробелов (в кор. языке, особенно в названиях, часто допустимо ставить или не ставить пробел на усмотрение пишущего);"
   ]
  },
  {
   "cell_type": "code",
   "execution_count": 1424,
   "id": "9571ffcb-c801-4e56-b88a-4835803a74dd",
   "metadata": {},
   "outputs": [],
   "source": [
    "alldata['Fest Name'] = alldata['Fest Name'].apply(lambda x: x.replace(' ', '') if isinstance(x, str) else x)"
   ]
  },
  {
   "cell_type": "markdown",
   "id": "e7fb1992-35aa-4bd8-b97b-0697c7a9e51c",
   "metadata": {},
   "source": [
    "б) Соберем словарь с название стран для фестивалей по ключевым словам - названиям корейских городов;"
   ]
  },
  {
   "cell_type": "code",
   "execution_count": 1427,
   "id": "9577c1cd-d86b-438e-a81b-c2893b7afec7",
   "metadata": {},
   "outputs": [],
   "source": [
    "festival_to_country = {}\n",
    "korean_cities = ['서울', '부산', '대구', '전주', '광주', '인천', '제주', '강릉', '대전', '대한민국']\n",
    "for x in alldata['Fest Name']:\n",
    "    for city in korean_cities:\n",
    "        if city in x:\n",
    "            festival_to_country[x] = 'South Korea'"
   ]
  },
  {
   "cell_type": "markdown",
   "id": "3d74de40-4eb0-4e32-92b5-fe649be26093",
   "metadata": {},
   "source": [
    "в) Смотрим, какие фестивали из `топ-50` по числу записей о них не попали в словарь и **вручную** заносим их туда;"
   ]
  },
  {
   "cell_type": "code",
   "execution_count": 1430,
   "id": "54b705e4-e7f2-416d-b0b0-ea5641f99b49",
   "metadata": {},
   "outputs": [
    {
     "name": "stdout",
     "output_type": "stream",
     "text": [
      "부천국제판타스틱영화제\n",
      "대단한단편영화제\n",
      "피렌체한국영화제\n",
      "미쟝센단편영화제\n",
      "정동진독립영화제\n",
      "DMZ국제다큐멘터리영화제\n",
      "파리한국영화제\n",
      "청룡영화상\n",
      "제천국제음악영화제\n",
      "판타지아국제영화제\n",
      "런던한국영화제\n",
      "무주산골영화제\n",
      "여성인권영화제\n",
      "우디네극동영화제\n",
      "인디다큐페스티발\n",
      "백상예술대상\n",
      "한국영화평론가협회상\n",
      "뉴욕아시안영화제\n",
      "인디포럼\n",
      "광화문국제단편영화제\n",
      "대종상영화제\n",
      "부천국제애니메이션페스티벌\n",
      "헝가리한국영화제\n",
      "황금촬영상시상식\n",
      "전북독립영화제\n",
      "시체스국제판타스틱영화제\n",
      "한국퀴어영화제\n",
      "부일영화상\n",
      "상하이국제영화제\n"
     ]
    }
   ],
   "source": [
    "top_50_fest = alldata['Fest Name'].value_counts().head(50).reset_index()\n",
    "for i in top_50_fest['Fest Name']:\n",
    "    if i not in festival_to_country.keys():\n",
    "        print(i)"
   ]
  },
  {
   "cell_type": "code",
   "execution_count": 1432,
   "id": "27f0bc33-bb49-4d50-8599-40ae0bffc02e",
   "metadata": {},
   "outputs": [
    {
     "data": {
      "text/plain": [
       "109"
      ]
     },
     "execution_count": 1432,
     "metadata": {},
     "output_type": "execute_result"
    }
   ],
   "source": [
    "festival_to_country.update({\n",
    "    '부천국제판타스틱영화제': 'South Korea',\n",
    "    '케이프타운세계영화제': 'South Africa',  # некоторые фестивали не были в топ-50, но их легко было заметить при просмотре \n",
    "                                        # датасета, так что их тоже вносим для увеличения выборки\n",
    "    '대단한단편영화제': 'South Korea', \n",
    "    '미쟝센단편영화제': 'South Korea',\n",
    "    '정동진독립영화제': 'South Korea',\n",
    "    'DMZ국제다큐멘터리영화제': 'South Korea',\n",
    "    '청룡영화상': 'South Korea',\n",
    "    '제천국제음악영화제': 'South Korea',\n",
    "    '네팔국제영화제': 'Nepal',\n",
    "    '판타지아국제영화제': 'Canada',\n",
    "    '무주산골영화제': 'South Korea',\n",
    "    '여성인권영화제': 'South Korea',\n",
    "    '우디네극동영화제': 'Italy',\n",
    "    'FairyTales퀴어영화제': 'Canada',\n",
    "    '인디다큐페스티발': 'South Korea',\n",
    "    '시애틀영화제': 'USA',\n",
    "    '백상예술대상': 'South Korea',\n",
    "    '뉴욕아시안영화제': 'USA',\n",
    "    '인디포럼': 'South Korea',\n",
    "    '광화문국제단편영화제': 'South Korea',\n",
    "    '대종상영화제': 'South Korea',\n",
    "    '부천국제애니메이션페스티벌': 'South Korea',\n",
    "    '황금촬영상시상식': 'South Korea',\n",
    "    '전북독립영화제': 'South Korea',\n",
    "    '시체스국제판타스틱영화제': 'Spain',\n",
    "    '부일영화상': 'South Korea',\n",
    "    '상하이국제영화제': 'China',\n",
    "    '피렌체한국영화제': 'Italy',\n",
    "    '파리한국영화제': 'France',\n",
    "    '런던한국영화제': 'England',\n",
    "    '한국영화평론가협회상': 'South Korea',\n",
    "    '헝가리한국영화제': 'Hungary',\n",
    "    '한국퀴어영화제': 'South Korea'\n",
    "})\n",
    "\n",
    "len(festival_to_country) "
   ]
  },
  {
   "cell_type": "markdown",
   "id": "a039529a-271a-4425-9621-35cb100bcbe6",
   "metadata": {},
   "source": [
    "Загрузим также датасет с обработанными данными только по победителям фестивалей, запишем в датасет `df`"
   ]
  },
  {
   "cell_type": "code",
   "execution_count": 1435,
   "id": "1d035392-1fbd-4621-a7d6-b28bd6a1ddc9",
   "metadata": {},
   "outputs": [
    {
     "data": {
      "text/html": [
       "<div>\n",
       "<style scoped>\n",
       "    .dataframe tbody tr th:only-of-type {\n",
       "        vertical-align: middle;\n",
       "    }\n",
       "\n",
       "    .dataframe tbody tr th {\n",
       "        vertical-align: top;\n",
       "    }\n",
       "\n",
       "    .dataframe thead th {\n",
       "        text-align: right;\n",
       "    }\n",
       "</style>\n",
       "<table border=\"1\" class=\"dataframe\">\n",
       "  <thead>\n",
       "    <tr style=\"text-align: right;\">\n",
       "      <th></th>\n",
       "      <th>Unnamed: 0</th>\n",
       "      <th>Year</th>\n",
       "      <th>Fest Name</th>\n",
       "      <th>Genre</th>\n",
       "      <th>Film</th>\n",
       "      <th>Director</th>\n",
       "      <th>Award</th>\n",
       "      <th>Winner</th>\n",
       "    </tr>\n",
       "  </thead>\n",
       "  <tbody>\n",
       "    <tr>\n",
       "      <th>0</th>\n",
       "      <td>17</td>\n",
       "      <td>2005</td>\n",
       "      <td>디렉터스컷어워즈</td>\n",
       "      <td>일반(종합)</td>\n",
       "      <td>너는 내 운명</td>\n",
       "      <td>박진표</td>\n",
       "      <td>올해의 여자배우상</td>\n",
       "      <td>전도연</td>\n",
       "    </tr>\n",
       "  </tbody>\n",
       "</table>\n",
       "</div>"
      ],
      "text/plain": [
       "   Unnamed: 0  Year Fest Name   Genre     Film Director      Award Winner\n",
       "0          17  2005  디렉터스컷어워즈  일반(종합)  너는 내 운명      박진표  올해의 여자배우상    전도연"
      ]
     },
     "execution_count": 1435,
     "metadata": {},
     "output_type": "execute_result"
    }
   ],
   "source": [
    "df = pd.read_csv('/Users/xexinette/Downloads/fixed_data.csv')\n",
    "df['Fest Name'] = df['Fest Name'].apply(lambda x: x.replace(' ', '') if isinstance(x, str) else x)\n",
    "df.head(1)"
   ]
  },
  {
   "cell_type": "markdown",
   "id": "a190ceff-722e-4551-a4c3-7099f1d96e43",
   "metadata": {},
   "source": [
    "Найдем топ-3 режиссера и для них определим страны фестивалей, в которых они побеждали"
   ]
  },
  {
   "cell_type": "code",
   "execution_count": 1438,
   "id": "e47ddab7-69a0-470f-a5a1-2e47d941224d",
   "metadata": {},
   "outputs": [
    {
     "data": {
      "text/plain": [
       "['봉준호', '박찬욱', '이준익']"
      ]
     },
     "execution_count": 1438,
     "metadata": {},
     "output_type": "execute_result"
    }
   ],
   "source": [
    "top_3 = list(df['Director'].value_counts().head(3).index)\n",
    "top_3"
   ]
  },
  {
   "cell_type": "code",
   "execution_count": 1440,
   "id": "92b36a15-8477-4f2f-8c17-1bff997365ca",
   "metadata": {},
   "outputs": [
    {
     "data": {
      "text/plain": [
       "array(['디렉터스컷어워즈', '홍콩아시안영화제', '춘사영화제', '칸국제영화제', '맥스무비최고의영화상', '여성영화인축제',\n",
       "       '산세바스티안국제영화제', '한국영화제작가협회상', 'LA영화비평가협회상', '인도국제영화제', '아시안필름어워드',\n",
       "       '마리끌레르영화제', '영국아카데미시상식', '마카오국제영화제', '아시아퍼시픽스크린어워즈',\n",
       "       '오슬로필름즈프롬더사우스영화제', '제네바국제영화제', '상파울루국제영화제', '캘거리국제영화제', '판타스틱페스트',\n",
       "       '토론토국제영화제', '로카르노국제영화제', '유라시아국제영화제', '시드니영화제', '아카데미시상식',\n",
       "       '로테르담국제영화제', '미국배우조합상', '트롬쇠국제영화제', '골든글로브어워즈', '디스커싱필름비평가협회상'],\n",
       "      dtype=object)"
      ]
     },
     "execution_count": 1440,
     "metadata": {},
     "output_type": "execute_result"
    }
   ],
   "source": [
    "df_top_3_dir = df[df['Director'].isin(top_3)]\n",
    "df_top_3_dir['Fest_Country'] = df_top_3_dir['Fest Name'].map(festival_to_country)\n",
    "missing_country = df_top_3_dir[df_top_3_dir['Fest_Country'].isna()]\n",
    "missing_country['Fest Name'].unique()"
   ]
  },
  {
   "cell_type": "code",
   "execution_count": 1442,
   "id": "6c4f6052-c3b0-4c63-b10d-ce3656c2841c",
   "metadata": {},
   "outputs": [
    {
     "data": {
      "text/plain": [
       "139"
      ]
     },
     "execution_count": 1442,
     "metadata": {},
     "output_type": "execute_result"
    }
   ],
   "source": [
    "festival_to_country.update({\n",
    "    '디렉터스컷어워즈': 'South Korea',\n",
    "    '홍콩아시안영화제': 'Hong Kong',\n",
    "    '춘사영화제': 'South Korea',\n",
    "    '칸국제영화제': 'France',\n",
    "    '맥스무비최고의영화상': 'South Korea',\n",
    "    '여성영화인축제': 'South Korea',\n",
    "    '산세바스티안국제영화제': 'Spain',\n",
    "    '한국영화제작가협회상': 'South Korea',\n",
    "    'LA영화비평가협회상': 'USA',\n",
    "    '인도국제영화제': 'India',\n",
    "    '아시안필름어워드': 'Hong Kong',\n",
    "    '마리끌레르영화제': 'South Korea',\n",
    "    '영국아카데미시상식': 'England',\n",
    "    '마카오국제영화제': 'China',\n",
    "    '아시아퍼시픽스크린어워즈': 'Australia',\n",
    "    '오슬로필름즈프롬더사우스영화제': 'Norway',\n",
    "    '제네바국제영화제': 'Switzerland',\n",
    "    '상파울루국제영화제': 'Brazil',\n",
    "    '캘거리국제영화제': 'Canada',\n",
    "    '판타스틱페스트': 'USA',\n",
    "    '토론토국제영화제': 'Canada',\n",
    "    '로카르노국제영화제': 'Switzerland',\n",
    "    '유라시아국제영화제': 'Online',\n",
    "    '시드니영화제': 'Australia',\n",
    "    '아카데미시상식': 'USA',\n",
    "    '로테르담국제영화제': 'Netherlands',\n",
    "    '미국배우조합상': 'USA',\n",
    "    '트롬쇠국제영화제': 'Norway',\n",
    "    '골든글로브어워즈': 'USA',\n",
    "    '디스커싱필름비평가협회상': 'Online'\n",
    "})\n",
    "    \n",
    "len(festival_to_country)               "
   ]
  },
  {
   "cell_type": "code",
   "execution_count": 1444,
   "id": "dc9db93b-a5ba-43ef-a2ae-b2ada2e16e28",
   "metadata": {},
   "outputs": [],
   "source": [
    "alldata['Fest_Country'] = alldata['Fest Name'].map(festival_to_country)"
   ]
  },
  {
   "cell_type": "markdown",
   "id": "fd8f1f86-42a9-4cb2-893a-27e43cec448c",
   "metadata": {},
   "source": [
    "**Итак, у нас получилось определить страну для 139 фестивалей (в том числе для топ-50 по популярности и все, где побеждали топ-3 режиссера)**\n",
    "\n",
    "\n",
    "г) Сопоставляем полученые страны с данными в датасете, проверяем на пропуски через .info()"
   ]
  },
  {
   "cell_type": "code",
   "execution_count": 1447,
   "id": "65532fda-0bc1-41c9-b636-a62deff332c3",
   "metadata": {},
   "outputs": [
    {
     "name": "stdout",
     "output_type": "stream",
     "text": [
      "<class 'pandas.core.frame.DataFrame'>\n",
      "RangeIndex: 37665 entries, 0 to 37664\n",
      "Data columns (total 10 columns):\n",
      " #   Column        Non-Null Count  Dtype \n",
      "---  ------        --------------  ----- \n",
      " 0   Unnamed: 0    37665 non-null  int64 \n",
      " 1   Year          37665 non-null  int64 \n",
      " 2   Fest Name     37665 non-null  object\n",
      " 3   Genre         37591 non-null  object\n",
      " 4   Film          37520 non-null  object\n",
      " 5   Director      35261 non-null  object\n",
      " 6   Nomination    31872 non-null  object\n",
      " 7   Award         6250 non-null   object\n",
      " 8   Winner        5213 non-null   object\n",
      " 9   Fest_Country  23100 non-null  object\n",
      "dtypes: int64(2), object(8)\n",
      "memory usage: 2.9+ MB\n"
     ]
    }
   ],
   "source": [
    "alldata.info()"
   ]
  },
  {
   "cell_type": "markdown",
   "id": "38130c86-72f1-4bbd-89ab-84b0cf85240b",
   "metadata": {},
   "source": [
    "видим:\n",
    "> *9 Festival_Country 23100 non-null object,*\n",
    "\n",
    "*значит мы смогли определить страну проведения для `61%` (23100/37665) записей*"
   ]
  },
  {
   "cell_type": "markdown",
   "id": "386666c7-5ff9-4f9a-83b9-cbf3af3e0136",
   "metadata": {},
   "source": [
    "д) Добавим бинарный признак `Is_National` - 'Национальный / Зарубежный' фестиваль (1/0)"
   ]
  },
  {
   "cell_type": "code",
   "execution_count": 1451,
   "id": "6c75dab9-57da-47d9-a4fa-30687fef4718",
   "metadata": {},
   "outputs": [],
   "source": [
    "alldata['Is_National'] = alldata['Fest_Country'].apply(lambda x: 1 if x == 'South Korea' else 0).astype(int)"
   ]
  },
  {
   "cell_type": "markdown",
   "id": "57e8767e-67e9-46d6-961d-e50d9a187dd0",
   "metadata": {},
   "source": [
    "* **Теперь создадим систему рангов, в соответствии с которой разделим режиссеров:**\n",
    "\n",
    "> 1 ранг: режиссер хотя бы раз попадал в список лучших `Best_Director`;\n",
    "\n",
    "> 2 ранг: режиссер хотя бы раз попадал в список самых часто показываемых на фестивалях `Most_Shown_Director`;\n",
    "\n",
    "> 3 ранг: режиссер ни разу не был ни в одном из списков."
   ]
  },
  {
   "cell_type": "code",
   "execution_count": 1454,
   "id": "6b18030e-09a3-465c-98e0-688234cc757c",
   "metadata": {},
   "outputs": [],
   "source": [
    "best_directors = set(data['Best_Director'].dropna())\n",
    "most_shown_directors = set(data['Most_Shown_Director'].dropna())\n",
    "\n",
    "director_rank = {}\n",
    "for director in most_shown_directors:\n",
    "    director_rank[director] = 2\n",
    "for director in best_directors:\n",
    "    director_rank[director] = 1\n",
    "\n",
    "alldata[\"director_rank\"] = alldata[\"Director\"].map(director_rank).fillna(3).astype(int) \n",
    "# добавим новый признак к нашему датасету"
   ]
  },
  {
   "cell_type": "markdown",
   "id": "9495361c-0dae-45e4-91b1-6fefb2c211b6",
   "metadata": {},
   "source": [
    "Для каждого фильма рассчитаем бинарную переменную `awarded`:\n",
    "* `1` — фильм получил награду (на основе непустого поля `Winner`);\n",
    "* `0` — фильм не получил награду.\n"
   ]
  },
  {
   "cell_type": "code",
   "execution_count": 1457,
   "id": "6aa4225b-bb13-484a-8a88-2c57a7d4ae48",
   "metadata": {},
   "outputs": [],
   "source": [
    "alldata['awarded'] = alldata['Winner'].notna().astype(int)"
   ]
  },
  {
   "cell_type": "markdown",
   "id": "b361e363-a200-41ad-9c6f-a85d573229a1",
   "metadata": {},
   "source": [
    "Избавимся от строк с пропущенными значениями стран и режиссеров"
   ]
  },
  {
   "cell_type": "code",
   "execution_count": 1460,
   "id": "a0d0e737-7980-4699-9599-68e45d861ca9",
   "metadata": {},
   "outputs": [],
   "source": [
    "alldata = alldata.dropna(subset=['Fest_Country', 'Director'])"
   ]
  },
  {
   "cell_type": "markdown",
   "id": "4c30d63d-2d61-4b63-bdea-136308084bf5",
   "metadata": {},
   "source": [
    "**Теперь создадим дополнительную таблицу, в которой соберем данные по каждому фильму, а именно:**\n",
    "\n",
    "- в `Total_Presentations` внесем общее кол-во записей об этом фильме в нашем датасете;\n",
    "- в `Unique_Festivals` кол-во уникальных фестивалей, на которых фильм был представлен за все время;\n",
    "- в `Unique_Years` кол-во лет, когда фильм участвовал в фестах;\n",
    "- в `Director` режиссер;\n",
    "- в `National_Count` сколько из фестивалей, в которых участвовал фильм, проводились в Корее;\n",
    "- в `International_Count` сколько из фестивалей, в которых участвовал фильм, проводились зарубежом;\n",
    "- в `Award_Count` кол-во завоеванных наград."
   ]
  },
  {
   "cell_type": "code",
   "execution_count": 1463,
   "id": "0da40fb7-6940-4c94-b7c0-6ba1065df5f8",
   "metadata": {},
   "outputs": [],
   "source": [
    "film_counts = alldata['Film'].value_counts().reset_index()\n",
    "film_counts.columns = ['Film', 'Total_Presentations']\n",
    "\n",
    "unique_fests = alldata.groupby('Film')['Fest Name'].nunique().reset_index()\n",
    "unique_fests.columns = ['Film', 'Unique_Festivals']\n",
    "\n",
    "unique_years = alldata.groupby('Film')['Year'].nunique().reset_index()\n",
    "unique_years.columns = ['Film', 'Unique_Years']\n",
    "\n",
    "film_directors = alldata[['Film', 'Director']].drop_duplicates(subset='Film')\n",
    "\n",
    "national_counts = alldata[alldata['Is_National'] == 1].groupby('Film').size().rename('National_Count')\n",
    "international_counts = alldata[alldata['Is_National'] == 0].groupby('Film').size().rename('International_Count')\n",
    "festival_origin_summary = pd.concat([national_counts, international_counts], axis=1).fillna(0).astype(int)\n",
    "\n",
    "awards_counts = alldata[alldata['Winner'].notna()]['Film'].value_counts().reset_index()\n",
    "awards_counts.columns = ['Film', 'Award_Count']\n",
    "\n",
    "film_summary = film_counts.merge(unique_fests, on='Film').merge(unique_years, on='Film').merge(film_directors, on='Film', how='left').merge(festival_origin_summary, on='Film', how='left').merge(awards_counts, on='Film', how='left')"
   ]
  },
  {
   "cell_type": "markdown",
   "id": "de4100d0-2c38-493d-8f94-ab1fcf5332d9",
   "metadata": {},
   "source": [
    "Совершим необходимые преобразования:\n",
    "> заменим пустые значения в кол-ве наград на 0;\n",
    "> посчтитаем соотношение наград к общему кол-ву записей;\n",
    "> добавим в таблицу ранг режиссера.\n",
    "\n",
    "- в `Awards_ratio` соотношение наград к участию;\n",
    "- в `Director_Rank` ранг режиссера."
   ]
  },
  {
   "cell_type": "code",
   "execution_count": 1466,
   "id": "e49e5192-96ad-4a18-9b0e-49806e32a5f3",
   "metadata": {},
   "outputs": [
    {
     "data": {
      "text/html": [
       "<div>\n",
       "<style scoped>\n",
       "    .dataframe tbody tr th:only-of-type {\n",
       "        vertical-align: middle;\n",
       "    }\n",
       "\n",
       "    .dataframe tbody tr th {\n",
       "        vertical-align: top;\n",
       "    }\n",
       "\n",
       "    .dataframe thead th {\n",
       "        text-align: right;\n",
       "    }\n",
       "</style>\n",
       "<table border=\"1\" class=\"dataframe\">\n",
       "  <thead>\n",
       "    <tr style=\"text-align: right;\">\n",
       "      <th></th>\n",
       "      <th>Film</th>\n",
       "      <th>Total_Presentations</th>\n",
       "      <th>Unique_Festivals</th>\n",
       "      <th>Unique_Years</th>\n",
       "      <th>Director</th>\n",
       "      <th>National_Count</th>\n",
       "      <th>International_Count</th>\n",
       "      <th>Award_Count</th>\n",
       "      <th>Awards_ratio</th>\n",
       "      <th>Director_Rank</th>\n",
       "    </tr>\n",
       "  </thead>\n",
       "  <tbody>\n",
       "    <tr>\n",
       "      <th>0</th>\n",
       "      <td>기생충</td>\n",
       "      <td>88</td>\n",
       "      <td>36</td>\n",
       "      <td>4</td>\n",
       "      <td>봉준호</td>\n",
       "      <td>38</td>\n",
       "      <td>50</td>\n",
       "      <td>76</td>\n",
       "      <td>0.863636</td>\n",
       "      <td>1</td>\n",
       "    </tr>\n",
       "  </tbody>\n",
       "</table>\n",
       "</div>"
      ],
      "text/plain": [
       "  Film  Total_Presentations  Unique_Festivals  Unique_Years Director  \\\n",
       "0  기생충                   88                36             4      봉준호   \n",
       "\n",
       "   National_Count  International_Count  Award_Count  Awards_ratio  \\\n",
       "0              38                   50           76      0.863636   \n",
       "\n",
       "   Director_Rank  \n",
       "0              1  "
      ]
     },
     "execution_count": 1466,
     "metadata": {},
     "output_type": "execute_result"
    }
   ],
   "source": [
    "film_summary['Award_Count'] = film_summary['Award_Count'].fillna(0).astype(int)\n",
    "film_summary['Awards_ratio'] = film_summary['Award_Count'] / film_summary['Total_Presentations']\n",
    "film_summary = film_summary[film_summary['Total_Presentations'] > 5]\n",
    "film_summary['Director_Rank'] = film_summary['Director'].map(director_rank).fillna(3).astype(int)\n",
    "film_summary.head(1)"
   ]
  },
  {
   "cell_type": "code",
   "execution_count": 1468,
   "id": "ac8448c0-e88f-432c-acfd-9624702790d9",
   "metadata": {},
   "outputs": [
    {
     "name": "stdout",
     "output_type": "stream",
     "text": [
      "<class 'pandas.core.frame.DataFrame'>\n",
      "Index: 21446 entries, 2 to 37664\n",
      "Data columns (total 13 columns):\n",
      " #   Column         Non-Null Count  Dtype \n",
      "---  ------         --------------  ----- \n",
      " 0   Unnamed: 0     21446 non-null  int64 \n",
      " 1   Year           21446 non-null  int64 \n",
      " 2   Fest Name      21446 non-null  object\n",
      " 3   Genre          21446 non-null  object\n",
      " 4   Film           21446 non-null  object\n",
      " 5   Director       21446 non-null  object\n",
      " 6   Nomination     17836 non-null  object\n",
      " 7   Award          4330 non-null   object\n",
      " 8   Winner         3962 non-null   object\n",
      " 9   Fest_Country   21446 non-null  object\n",
      " 10  Is_National    21446 non-null  int64 \n",
      " 11  director_rank  21446 non-null  int64 \n",
      " 12  awarded        21446 non-null  int64 \n",
      "dtypes: int64(5), object(8)\n",
      "memory usage: 2.3+ MB\n"
     ]
    }
   ],
   "source": [
    "alldata.info()"
   ]
  },
  {
   "cell_type": "markdown",
   "id": "b929cb09-f095-40e6-8452-7ccb35d98d36",
   "metadata": {},
   "source": [
    "**НАША ВЫБОРКА ГОТОВА :)**\n",
    "\n",
    "Теперь можем переходить к выдвижению и проверке гипотез\n",
    "\n",
    "---"
   ]
  },
  {
   "cell_type": "markdown",
   "id": "953ef4a4-4056-4d4f-a445-6a85c786ec58",
   "metadata": {},
   "source": [
    "## **Формулировка и проверка гипотез**"
   ]
  },
  {
   "cell_type": "markdown",
   "id": "32df7440-e96e-420a-9083-3c11fb2531d4",
   "metadata": {},
   "source": [
    "## Гипотеза №1: влияние ранга режиссера на вероятность получения награды\n",
    "\n",
    "Мы хотим проверить, влияет ли \"ранг\" режиссера на вероятность получения им награды на фестивале. Будем использовать данные по фильмам режиссеров 1-го и 3-го ранга из датафрейма `alldata`, генеральная совокупность: все корейские фильмы, которые были или будут выпущены.\n",
    "\n",
    "* дисперсия по генеральной совокупности неизвестна, поэтому будем использовать **t-статистику**;\n",
    "* **мотивация**: проверка данной гипотезы позволит судить, насколько \"именитость\" режиссера влияет на успех картины на фестивале.\n",
    "\n",
    "\n",
    "1. **Формулируем гипотезы**\n",
    "<div align=\"center\">\n",
    "\n",
    "$$\n",
    "H_0: \\mu_1 = \\mu_3\n",
    "$$\n",
    "\n",
    "$$\n",
    "H_1: \\mu_1 \\ne \\mu_3\n",
    "$$\n",
    "\n",
    "</div>\n",
    "\n",
    "\n",
    "- **H₀ (нулевая гипотеза):**  \n",
    "  Средняя вероятность получения награды у фильмов от режиссёров с рангом 1 **равна** таковой у фильмов с рангом 3.\n",
    "\n",
    "- **H₁ (альтернативная гипотеза):**  \n",
    "  Средняя вероятность **не равна** — есть статистически значимая разница между рангами.\n",
    "\n",
    "---\n",
    "                      \n",
    "\n"
   ]
  },
  {
   "cell_type": "markdown",
   "id": "7e6c088d-973c-4af9-9fd6-398aa3128ebe",
   "metadata": {},
   "source": [
    "2. **Выбираем уровень значимости**\n",
    "<div align=\"center\">\n",
    "\n",
    "$$\n",
    "\\alpha = 0.01\n",
    "$$\n",
    "\n",
    "</div>\n",
    "\n"
   ]
  },
  {
   "cell_type": "markdown",
   "id": "15a894f6-777f-484f-a6c7-3252ff5e6faf",
   "metadata": {},
   "source": [
    "3. **Считаем p-value**"
   ]
  },
  {
   "cell_type": "code",
   "execution_count": 1475,
   "id": "6f203639-4345-4e29-a6e7-b08b78084bad",
   "metadata": {},
   "outputs": [
    {
     "data": {
      "text/plain": [
       "TtestResult(statistic=31.831044796900773, pvalue=9.623770511682689e-170, df=1476.809224568856)"
      ]
     },
     "execution_count": 1475,
     "metadata": {},
     "output_type": "execute_result"
    }
   ],
   "source": [
    "from scipy.stats import ttest_ind\n",
    "\n",
    "rank1 = alldata[alldata['director_rank'] == 1]['awarded']\n",
    "rank3 = alldata[alldata['director_rank'] == 3]['awarded']\n",
    "\n",
    "result = ttest_ind(rank1, rank3, alternative=\"two-sided\", equal_var=False)\n",
    "result"
   ]
  },
  {
   "cell_type": "markdown",
   "id": "113ab6cc-0033-441a-9a69-a1853885e766",
   "metadata": {},
   "source": [
    "4. **Результаты**\n",
    "\n",
    "- t-статистика: 31.83  \n",
    "\n",
    "- Уровень значимости:  \n",
    "  <div align=\"center\">\n",
    "\n",
    "  $$\n",
    "  \\alpha = 0.01\n",
    "  $$\n",
    "\n",
    "  </div>\n",
    "\n",
    "- **p-value:**  \n",
    "  <div align=\"center\">\n",
    "\n",
    "  $$\n",
    "  p = 9.62 \\times 10^{-170}\n",
    "  $$\n",
    "\n",
    "  </div>\n",
    "\n",
    "---\n",
    "\n",
    "### Вывод:\n",
    "\n",
    "Так как:\n",
    "\n",
    "<div align=\"center\">\n",
    "\n",
    "$$\n",
    "p \\ll \\alpha\n",
    "$$\n",
    "\n",
    "</div>\n",
    "\n",
    "мы отвергаем нулевую гипотезу и заключаем, что вероятность получения награды **значимо отличается** у фильмов режиссёров ранга 1 и ранга 3.\n",
    "\n"
   ]
  },
  {
   "cell_type": "markdown",
   "id": "c0711c2d-3412-4b5e-a22f-cf76ed8139d4",
   "metadata": {},
   "source": [
    "### Найдем средние и доверительные интервалы вероятностей режиссеров 1-го и 3-го ранга получить награду на фестивале:"
   ]
  },
  {
   "cell_type": "code",
   "execution_count": 1479,
   "id": "8a174df6-bd40-4d5d-9c22-747fde7674f5",
   "metadata": {},
   "outputs": [
    {
     "data": {
      "text/plain": [
       "(0.5874635568513119, (0.5531690170488719, 0.6217580966537519))"
      ]
     },
     "execution_count": 1479,
     "metadata": {},
     "output_type": "execute_result"
    }
   ],
   "source": [
    "mean_rank1 = rank1.mean()\n",
    "sigma1 = rank1.std(ddof=1)\n",
    "n_rank1 = len(rank1)\n",
    "conf_interval = stats.t.interval(0.99, df=len(rank1)-1, loc=mean_rank1, scale=sigma1/np.sqrt(len(rank1)))\n",
    "\n",
    "mean_rank1, conf_interval"
   ]
  },
  {
   "cell_type": "markdown",
   "id": "f19ed735-0e12-4799-abb1-11d03952bb17",
   "metadata": {},
   "source": [
    "Мы с 99% уверенностью можем утверждать, что средняя вероятность получения награды для фильмов от режиссёров **с рангом 1** лежит в диапазоне от 55.3% до 62.1%."
   ]
  },
  {
   "cell_type": "code",
   "execution_count": 1482,
   "id": "bfd45cc8-10b6-410f-894a-cb6c03827c55",
   "metadata": {},
   "outputs": [
    {
     "data": {
      "text/plain": [
       "(0.5874635568513119, (0.14963576580501625, 0.16297542720062602))"
      ]
     },
     "execution_count": 1482,
     "metadata": {},
     "output_type": "execute_result"
    }
   ],
   "source": [
    "mean_rank3 = rank3.mean()\n",
    "sigma3 = rank3.std(ddof=1)\n",
    "n_rank3 = len(rank3)\n",
    "conf_interval = stats.t.interval(0.99, df=len(rank3)-1, loc=mean_rank3, scale=sigma3/np.sqrt(len(rank3)))\n",
    "\n",
    "mean_rank1, conf_interval"
   ]
  },
  {
   "cell_type": "markdown",
   "id": "2057ba52-dc87-47a6-ae27-ca00f5c86329",
   "metadata": {},
   "source": [
    "Мы с 99% уверенностью можем утверждать, что средняя вероятность получения награды для фильмов от режиссёров **с рангом 3** лежит в диапазоне от 15% до 16.3%."
   ]
  },
  {
   "cell_type": "markdown",
   "id": "2ea28fd5-6710-4af1-bca2-67eb0c536290",
   "metadata": {},
   "source": [
    "**ИТОГ:** Судя по средним, вероятность получить награду на фестивале значительно выше у режиссеров 1-го ранга."
   ]
  },
  {
   "cell_type": "markdown",
   "id": "4e7974d6-237d-4620-95c6-9e47c0617ef5",
   "metadata": {},
   "source": [
    "---"
   ]
  },
  {
   "cell_type": "markdown",
   "id": "82231bbc-7e05-41ba-90a3-adc15e4b5f51",
   "metadata": {},
   "source": [
    "## Гипотеза №2: \n",
    "**На успешность фильма (award_ration) значительно влияет кол-во лет, на протяжении которых фильм участвует в фестивалях; кол-во уникальных фестивалей, на которых он показывается; а также место проведения фестиваля (Корея / зарубеж).**"
   ]
  },
  {
   "cell_type": "markdown",
   "id": "d5c57b62-1895-4d1e-86ac-267058333fc0",
   "metadata": {},
   "source": [
    "Мы хотим проверить, какие еще факторы влияют на вероятность получить награду на фестивале. Для этого построим многофакторную регрессию."
   ]
  },
  {
   "cell_type": "markdown",
   "id": "bf779304-f402-46ec-8b8e-4a706ff7c04f",
   "metadata": {},
   "source": [
    "## Многофакторная линейная Регрессия"
   ]
  },
  {
   "cell_type": "markdown",
   "id": "eae4bd63-8d78-4006-8312-dbc8c3cc1f5e",
   "metadata": {},
   "source": [
    "В рамках исследования мы стремимся понять:\n",
    "\n",
    "- Что именно влияет на успешность фильма на фестивалях?\n",
    "- Достаточно ли просто часто участвовать как можно чаще, или важна уникальность и длительность присутствия на сцене?\n",
    "- Какую роль играет место проведения фестивалей — в частности, есть ли различие между фестивалями, проходящими в Южной Корее и за рубежом?\n",
    "\n",
    "Для этого будем строить многофакторную линейную регрессию по данным из датасета `film_summary`, где:\n",
    "  > **целевая переменная:** `Awards_ratio` - соотношение наград к участию;;\n",
    "\n",
    "  > **независимые переменные:**\n",
    "        > `Unique_Festivals` - кол-во уникальных фестивалей, на которых фильм был представлен за все время;\n",
    "        > `National_Count` -  сколько из фестивалей, в которых участвовал фильм, проводились в Корее; `International_Count` - сколько из фестивалей, в которых участвовал фильм, проводились зарубежом; `Unique_Years` - кол-во лет, когда фильм участвовал в фестах;\n",
    "\n",
    "---\n",
    "\n",
    "\n",
    "**Нулевая гипотеза (H₀):** Все коэффициенты при признаках равны нулю — признаки не влияют на Awards_ratio.\n",
    "\n",
    "<div align=\"center\">\n",
    "\n",
    "$$\n",
    "H_0: \\beta_1 = \\beta_2 = \\beta_3 = \\beta_4 = 0 \\\\\n",
    "$$\n",
    "\n",
    "</div>\n",
    "\n",
    "**Альтернативная гипотеза (H₁):** Хотя бы один из коэффициентов регрессии значимо отличается от нуля, то есть хотя бы один признак влияет на Awards_ratio.\n",
    "\n",
    "<div align=\"center\">\n",
    "\n",
    "$$\n",
    "H_1: \\text{Хотя бы один из } \\beta_i \\ne 0\n",
    "$$\n",
    "\n",
    "</div>\n",
    "\n"
   ]
  },
  {
   "cell_type": "markdown",
   "id": "e62e9975-481e-469d-9d18-ba0fea9d3c29",
   "metadata": {},
   "source": [
    "**Сначала обучим модель, для обучения возьмем 70% данных**"
   ]
  },
  {
   "cell_type": "code",
   "execution_count": 1492,
   "id": "7593b9bc-e504-4be9-ac43-15416774c931",
   "metadata": {},
   "outputs": [
    {
     "data": {
      "text/plain": [
       "const                  0.276293\n",
       "Unique_Festivals      -0.033207\n",
       "National_Count         0.038029\n",
       "International_Count    0.031751\n",
       "Unique_Years          -0.030722\n",
       "dtype: float64"
      ]
     },
     "execution_count": 1492,
     "metadata": {},
     "output_type": "execute_result"
    }
   ],
   "source": [
    "from sklearn.model_selection import train_test_split\n",
    "from sklearn.metrics import mean_squared_error, mean_absolute_error, r2_score\n",
    "import statsmodels.api as sm\n",
    "\n",
    "X = film_summary[['Unique_Festivals', 'National_Count', 'International_Count', 'Unique_Years']] \n",
    "y = film_summary['Awards_ratio'] \n",
    "\n",
    "X_train, X_test, y_train, y_test = train_test_split(X, y, test_size=0.3, random_state=42)\n",
    "\n",
    "X_train_const = sm.add_constant(X_train)\n",
    "X_test_const = sm.add_constant(X_test)\n",
    "\n",
    "model = sm.OLS(y_train, X_train_const).fit()\n",
    "model.params\n",
    "\n"
   ]
  },
  {
   "cell_type": "markdown",
   "id": "3b8be3e2-26b5-4a76-ae81-df218647279e",
   "metadata": {},
   "source": [
    "**А теперь протестируем модель и рассчитаем метрики:**"
   ]
  },
  {
   "cell_type": "code",
   "execution_count": 1495,
   "id": "131e5211-8d5f-4c90-98cd-054a40d2d348",
   "metadata": {},
   "outputs": [
    {
     "name": "stdout",
     "output_type": "stream",
     "text": [
      "MSE: 0.04318591852168316\n",
      "MAE: 0.17412258950307527\n",
      "R²: 0.3041760735590944\n"
     ]
    }
   ],
   "source": [
    "y_pred = model.predict(X_test_const)\n",
    "\n",
    "mse = mean_squared_error(y_test, y_pred)\n",
    "mae = mean_absolute_error(y_test, y_pred)\n",
    "r2 = r2_score(y_test, y_pred)\n",
    "\n",
    "print(\"MSE:\", mse)\n",
    "print(\"MAE:\", mae)\n",
    "print(\"R²:\", r2)"
   ]
  },
  {
   "cell_type": "markdown",
   "id": "e0d6edcf-873b-4533-bf5d-0a67bbabd87e",
   "metadata": {},
   "source": [
    "**Воспользуемся методом .summary(), чтобы посмотреть F-статистику и результат теста Уальда**"
   ]
  },
  {
   "cell_type": "code",
   "execution_count": 1498,
   "id": "9720acf8-b463-4e8d-81e9-a2936bc9901b",
   "metadata": {},
   "outputs": [
    {
     "name": "stdout",
     "output_type": "stream",
     "text": [
      "<F test: F=array([[49.77479866]]), p=1.0187669354568515e-35, df_denom=546, df_num=4>\n"
     ]
    }
   ],
   "source": [
    "hypothesis = 'Unique_Festivals = 0, National_Count = 0, International_Count = 0, Unique_Years = 0'\n",
    "wald_result = model.wald_test(hypothesis)\n",
    "print(wald_result)\n"
   ]
  },
  {
   "cell_type": "markdown",
   "id": "780de736-a17c-4f07-a94f-17206d61ba58",
   "metadata": {},
   "source": [
    "## Результаты\n",
    "* **F-statistic:**\t49.77\n",
    "* **p** = 1.02e-35\n"
   ]
  },
  {
   "cell_type": "markdown",
   "id": "2d363033-8fed-4baf-a72c-cb405dbc7539",
   "metadata": {},
   "source": [
    "Т.к. p-value меньше заданного уровня значимости 0.01, мы отвергаем нулевую гипотезу о том, что все 4 независимых фактора незначимы одновременно и принимаем, что хотя бы один из них оказывает статистически значимое влияние на вероятность успеха фильма.\n",
    "\n",
    "**Обратимся к полученным коэффициентам:**\n",
    "> **const:**                  0.276293;\n",
    "\n",
    "если все предикторы = 0, шанс фильма на успех = `27.6%`\n",
    "\n",
    "> **Unique_Festivals:**      -0.033207\n",
    "\n",
    "чем больше фестивалей \"посещает\" фильм, тем ниже его доля успеха; каждый доп. фест. снижает award_ratio на `3.3%`\n",
    "\n",
    "> **National_Count:**         0.038029\n",
    "\n",
    "\"Домашние\" фестивали более радушны к корейским картинам, участие в корейском фестивале повышает award_ratio на `3.8%`, что незначительно, но все же выше\n",
    "\n",
    "> **International_Count:**    0.031751\n",
    "\n",
    "`3.2%`, получаемых на зарубежных фестивалях.\n",
    "\n",
    "> **Unique_Years:**          -0.030722\n",
    "\n",
    "Чем дольше фильм продолжает участвовать в фестивалях, тем нижк его доля успеха, т.к. дополнительный год участия связан со снижением award_ratio на `3.1%`"
   ]
  },
  {
   "cell_type": "markdown",
   "id": "05334126-0217-43a4-b860-435cd1850578",
   "metadata": {},
   "source": [
    "**ИТОГ: да, коэффициенты небольшие, но статистически значимые.**\n",
    "\n",
    "Благодаря полученным инсайтам мы может сделать некоторые выводы об опыте презентации корейских кинокартин на домащней и зарубежной арене:\n",
    "\n"
   ]
  },
  {
   "cell_type": "markdown",
   "id": "d73865fe-b613-40aa-909f-5b3ba077f1a5",
   "metadata": {},
   "source": [
    "### Выводы"
   ]
  },
  {
   "cell_type": "markdown",
   "id": "a5349b4a-1310-49ec-b262-15332145562b",
   "metadata": {},
   "source": [
    "Согласно результатам регрессии и F-тесту Уальда (F = 49.77, p < 0.0001), модель в целом является значимой, и хотя бы один из факторов влияет на результат. Таким образом, гипотеза №2 подтверждается.\n",
    "\n",
    "* Все четыре переменные оказались статистически значимыми (p-value < 0.01)\n",
    "\n",
    "Для улучшения модели, можно поиграться с кол-вом факторов, добавить также категориальный признак (ранг режиссера) и попробовать построить логистическую регрессию, или попробовать изменить масштаб выборки.\n",
    "\n",
    "***Но у меня, к сожалению, не хватило времени на это, очень много было потрачено на обработку данных и создание новых признаков ㅠㅠ***"
   ]
  },
  {
   "cell_type": "code",
   "execution_count": null,
   "id": "c7b2d5bb-0348-4abb-8b34-407ea833ffe3",
   "metadata": {},
   "outputs": [],
   "source": []
  }
 ],
 "metadata": {
  "kernelspec": {
   "display_name": "Python 3 (ipykernel)",
   "language": "python",
   "name": "python3"
  },
  "language_info": {
   "codemirror_mode": {
    "name": "ipython",
    "version": 3
   },
   "file_extension": ".py",
   "mimetype": "text/x-python",
   "name": "python",
   "nbconvert_exporter": "python",
   "pygments_lexer": "ipython3",
   "version": "3.12.4"
  }
 },
 "nbformat": 4,
 "nbformat_minor": 5
}
